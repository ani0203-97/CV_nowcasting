{
  "nbformat": 4,
  "nbformat_minor": 0,
  "metadata": {
    "colab": {
      "provenance": [],
      "collapsed_sections": [],
      "machine_shape": "hm"
    },
    "kernelspec": {
      "name": "python3",
      "display_name": "Python 3"
    },
    "language_info": {
      "name": "python"
    },
    "accelerator": "GPU",
    "widgets": {
      "application/vnd.jupyter.widget-state+json": {
        "f65abf45a9c246d280d4c3650d72816e": {
          "model_module": "@jupyter-widgets/controls",
          "model_name": "HBoxModel",
          "model_module_version": "1.5.0",
          "state": {
            "_dom_classes": [],
            "_model_module": "@jupyter-widgets/controls",
            "_model_module_version": "1.5.0",
            "_model_name": "HBoxModel",
            "_view_count": null,
            "_view_module": "@jupyter-widgets/controls",
            "_view_module_version": "1.5.0",
            "_view_name": "HBoxView",
            "box_style": "",
            "children": [
              "IPY_MODEL_76f5d944714642609250b61b2d8d1923",
              "IPY_MODEL_f4f28ffd391f44af8ac15641865de480",
              "IPY_MODEL_d8360671ee7d45ff915fa4cfd09542e1"
            ],
            "layout": "IPY_MODEL_e2b35adb6dc34b158de8542f84fd52e6"
          }
        },
        "76f5d944714642609250b61b2d8d1923": {
          "model_module": "@jupyter-widgets/controls",
          "model_name": "HTMLModel",
          "model_module_version": "1.5.0",
          "state": {
            "_dom_classes": [],
            "_model_module": "@jupyter-widgets/controls",
            "_model_module_version": "1.5.0",
            "_model_name": "HTMLModel",
            "_view_count": null,
            "_view_module": "@jupyter-widgets/controls",
            "_view_module_version": "1.5.0",
            "_view_name": "HTMLView",
            "description": "",
            "description_tooltip": null,
            "layout": "IPY_MODEL_f8b0286b7ba34de9a97b29362733a3c3",
            "placeholder": "​",
            "style": "IPY_MODEL_f537fc1d1e8549c99061d4384a83c3ec",
            "value": "100%"
          }
        },
        "f4f28ffd391f44af8ac15641865de480": {
          "model_module": "@jupyter-widgets/controls",
          "model_name": "FloatProgressModel",
          "model_module_version": "1.5.0",
          "state": {
            "_dom_classes": [],
            "_model_module": "@jupyter-widgets/controls",
            "_model_module_version": "1.5.0",
            "_model_name": "FloatProgressModel",
            "_view_count": null,
            "_view_module": "@jupyter-widgets/controls",
            "_view_module_version": "1.5.0",
            "_view_name": "ProgressView",
            "bar_style": "success",
            "description": "",
            "description_tooltip": null,
            "layout": "IPY_MODEL_0e1ce3240f674297abe589cd4ced1850",
            "max": 574673361,
            "min": 0,
            "orientation": "horizontal",
            "style": "IPY_MODEL_b48fc2db2c2241fc8eeb3a403d05c79e",
            "value": 574673361
          }
        },
        "d8360671ee7d45ff915fa4cfd09542e1": {
          "model_module": "@jupyter-widgets/controls",
          "model_name": "HTMLModel",
          "model_module_version": "1.5.0",
          "state": {
            "_dom_classes": [],
            "_model_module": "@jupyter-widgets/controls",
            "_model_module_version": "1.5.0",
            "_model_name": "HTMLModel",
            "_view_count": null,
            "_view_module": "@jupyter-widgets/controls",
            "_view_module_version": "1.5.0",
            "_view_name": "HTMLView",
            "description": "",
            "description_tooltip": null,
            "layout": "IPY_MODEL_c800250613a24593a5a21f57a3ac4053",
            "placeholder": "​",
            "style": "IPY_MODEL_580fa72d0fad4553b6f4b46829c094dd",
            "value": " 548M/548M [00:09&lt;00:00, 65.1MB/s]"
          }
        },
        "e2b35adb6dc34b158de8542f84fd52e6": {
          "model_module": "@jupyter-widgets/base",
          "model_name": "LayoutModel",
          "model_module_version": "1.2.0",
          "state": {
            "_model_module": "@jupyter-widgets/base",
            "_model_module_version": "1.2.0",
            "_model_name": "LayoutModel",
            "_view_count": null,
            "_view_module": "@jupyter-widgets/base",
            "_view_module_version": "1.2.0",
            "_view_name": "LayoutView",
            "align_content": null,
            "align_items": null,
            "align_self": null,
            "border": null,
            "bottom": null,
            "display": null,
            "flex": null,
            "flex_flow": null,
            "grid_area": null,
            "grid_auto_columns": null,
            "grid_auto_flow": null,
            "grid_auto_rows": null,
            "grid_column": null,
            "grid_gap": null,
            "grid_row": null,
            "grid_template_areas": null,
            "grid_template_columns": null,
            "grid_template_rows": null,
            "height": null,
            "justify_content": null,
            "justify_items": null,
            "left": null,
            "margin": null,
            "max_height": null,
            "max_width": null,
            "min_height": null,
            "min_width": null,
            "object_fit": null,
            "object_position": null,
            "order": null,
            "overflow": null,
            "overflow_x": null,
            "overflow_y": null,
            "padding": null,
            "right": null,
            "top": null,
            "visibility": null,
            "width": null
          }
        },
        "f8b0286b7ba34de9a97b29362733a3c3": {
          "model_module": "@jupyter-widgets/base",
          "model_name": "LayoutModel",
          "model_module_version": "1.2.0",
          "state": {
            "_model_module": "@jupyter-widgets/base",
            "_model_module_version": "1.2.0",
            "_model_name": "LayoutModel",
            "_view_count": null,
            "_view_module": "@jupyter-widgets/base",
            "_view_module_version": "1.2.0",
            "_view_name": "LayoutView",
            "align_content": null,
            "align_items": null,
            "align_self": null,
            "border": null,
            "bottom": null,
            "display": null,
            "flex": null,
            "flex_flow": null,
            "grid_area": null,
            "grid_auto_columns": null,
            "grid_auto_flow": null,
            "grid_auto_rows": null,
            "grid_column": null,
            "grid_gap": null,
            "grid_row": null,
            "grid_template_areas": null,
            "grid_template_columns": null,
            "grid_template_rows": null,
            "height": null,
            "justify_content": null,
            "justify_items": null,
            "left": null,
            "margin": null,
            "max_height": null,
            "max_width": null,
            "min_height": null,
            "min_width": null,
            "object_fit": null,
            "object_position": null,
            "order": null,
            "overflow": null,
            "overflow_x": null,
            "overflow_y": null,
            "padding": null,
            "right": null,
            "top": null,
            "visibility": null,
            "width": null
          }
        },
        "f537fc1d1e8549c99061d4384a83c3ec": {
          "model_module": "@jupyter-widgets/controls",
          "model_name": "DescriptionStyleModel",
          "model_module_version": "1.5.0",
          "state": {
            "_model_module": "@jupyter-widgets/controls",
            "_model_module_version": "1.5.0",
            "_model_name": "DescriptionStyleModel",
            "_view_count": null,
            "_view_module": "@jupyter-widgets/base",
            "_view_module_version": "1.2.0",
            "_view_name": "StyleView",
            "description_width": ""
          }
        },
        "0e1ce3240f674297abe589cd4ced1850": {
          "model_module": "@jupyter-widgets/base",
          "model_name": "LayoutModel",
          "model_module_version": "1.2.0",
          "state": {
            "_model_module": "@jupyter-widgets/base",
            "_model_module_version": "1.2.0",
            "_model_name": "LayoutModel",
            "_view_count": null,
            "_view_module": "@jupyter-widgets/base",
            "_view_module_version": "1.2.0",
            "_view_name": "LayoutView",
            "align_content": null,
            "align_items": null,
            "align_self": null,
            "border": null,
            "bottom": null,
            "display": null,
            "flex": null,
            "flex_flow": null,
            "grid_area": null,
            "grid_auto_columns": null,
            "grid_auto_flow": null,
            "grid_auto_rows": null,
            "grid_column": null,
            "grid_gap": null,
            "grid_row": null,
            "grid_template_areas": null,
            "grid_template_columns": null,
            "grid_template_rows": null,
            "height": null,
            "justify_content": null,
            "justify_items": null,
            "left": null,
            "margin": null,
            "max_height": null,
            "max_width": null,
            "min_height": null,
            "min_width": null,
            "object_fit": null,
            "object_position": null,
            "order": null,
            "overflow": null,
            "overflow_x": null,
            "overflow_y": null,
            "padding": null,
            "right": null,
            "top": null,
            "visibility": null,
            "width": null
          }
        },
        "b48fc2db2c2241fc8eeb3a403d05c79e": {
          "model_module": "@jupyter-widgets/controls",
          "model_name": "ProgressStyleModel",
          "model_module_version": "1.5.0",
          "state": {
            "_model_module": "@jupyter-widgets/controls",
            "_model_module_version": "1.5.0",
            "_model_name": "ProgressStyleModel",
            "_view_count": null,
            "_view_module": "@jupyter-widgets/base",
            "_view_module_version": "1.2.0",
            "_view_name": "StyleView",
            "bar_color": null,
            "description_width": ""
          }
        },
        "c800250613a24593a5a21f57a3ac4053": {
          "model_module": "@jupyter-widgets/base",
          "model_name": "LayoutModel",
          "model_module_version": "1.2.0",
          "state": {
            "_model_module": "@jupyter-widgets/base",
            "_model_module_version": "1.2.0",
            "_model_name": "LayoutModel",
            "_view_count": null,
            "_view_module": "@jupyter-widgets/base",
            "_view_module_version": "1.2.0",
            "_view_name": "LayoutView",
            "align_content": null,
            "align_items": null,
            "align_self": null,
            "border": null,
            "bottom": null,
            "display": null,
            "flex": null,
            "flex_flow": null,
            "grid_area": null,
            "grid_auto_columns": null,
            "grid_auto_flow": null,
            "grid_auto_rows": null,
            "grid_column": null,
            "grid_gap": null,
            "grid_row": null,
            "grid_template_areas": null,
            "grid_template_columns": null,
            "grid_template_rows": null,
            "height": null,
            "justify_content": null,
            "justify_items": null,
            "left": null,
            "margin": null,
            "max_height": null,
            "max_width": null,
            "min_height": null,
            "min_width": null,
            "object_fit": null,
            "object_position": null,
            "order": null,
            "overflow": null,
            "overflow_x": null,
            "overflow_y": null,
            "padding": null,
            "right": null,
            "top": null,
            "visibility": null,
            "width": null
          }
        },
        "580fa72d0fad4553b6f4b46829c094dd": {
          "model_module": "@jupyter-widgets/controls",
          "model_name": "DescriptionStyleModel",
          "model_module_version": "1.5.0",
          "state": {
            "_model_module": "@jupyter-widgets/controls",
            "_model_module_version": "1.5.0",
            "_model_name": "DescriptionStyleModel",
            "_view_count": null,
            "_view_module": "@jupyter-widgets/base",
            "_view_module_version": "1.2.0",
            "_view_name": "StyleView",
            "description_width": ""
          }
        }
      }
    }
  },
  "cells": [
    {
      "cell_type": "code",
      "execution_count": null,
      "metadata": {
        "colab": {
          "base_uri": "https://localhost:8080/"
        },
        "id": "6N8-msskWbva",
        "outputId": "a1d42500-7b6c-441d-b6fb-920217b352fa"
      },
      "outputs": [
        {
          "output_type": "stream",
          "name": "stdout",
          "text": [
            "Mounted at /content/drive\n"
          ]
        }
      ],
      "source": [
        "from google.colab import drive\n",
        "drive.mount('/content/drive')"
      ]
    },
    {
      "cell_type": "code",
      "source": [
        "%cd /content/drive/MyDrive/CV project/"
      ],
      "metadata": {
        "colab": {
          "base_uri": "https://localhost:8080/"
        },
        "id": "NEOsCaMbW1nl",
        "outputId": "26bc5598-6d62-4a49-a5c0-e9a6d976c5a2"
      },
      "execution_count": null,
      "outputs": [
        {
          "output_type": "stream",
          "name": "stdout",
          "text": [
            "/content/drive/MyDrive/CV project\n"
          ]
        }
      ]
    },
    {
      "cell_type": "code",
      "source": [],
      "metadata": {
        "id": "Uiyk-UtLbTWq"
      },
      "execution_count": null,
      "outputs": []
    },
    {
      "cell_type": "code",
      "source": [
        "#@title\n",
        "\n",
        "import sys\n",
        "import os\n",
        "os.environ[\"HDF5_USE_FILE_LOCKING\"]='FALSE'\n",
        "import h5py\n",
        "import numpy as np\n",
        "import pandas as pd\n",
        "import matplotlib as mpl\n",
        "import matplotlib.pyplot as plt\n",
        "from matplotlib.colors import ListedColormap, LinearSegmentedColormap\n",
        "import torch\n",
        "import sys\n",
        "import numpy as np\n",
        "import matplotlib as mpl\n",
        "import matplotlib.pyplot as plt\n",
        "from matplotlib.colors import ListedColormap, LinearSegmentedColormap\n",
        "from display import get_cmap, vil_cmap, vis_cmap, ir_cmap, c09_cmap\n",
        "import torch\n",
        "from torch.utils.data import Dataset\n",
        "from torchvision import datasets\n",
        "from torchvision.transforms import ToTensor\n",
        "import matplotlib.pyplot as plt\n",
        "from model import SmaAt_UNet\n",
        "import cv2\n",
        "import torchvision.transforms as T\n",
        "from torchvision import models, datasets, transforms\n",
        "from tqdm import tqdm\n",
        "from io import BytesIO\n",
        "import copy\n",
        "import torch.nn as nn\n",
        "# importing libraries to implement style-transfer\n",
        "\n",
        "from __future__ import print_function\n",
        "\n",
        "import torch\n",
        "import torch.nn as nn\n",
        "import torch.nn.functional as F\n",
        "import torch.optim as optim\n",
        "\n",
        "from PIL import Image\n",
        "import matplotlib.pyplot as plt\n",
        "\n",
        "import torchvision.transforms as transforms\n",
        "import torchvision.models as models\n",
        "\n",
        "import copy\n",
        "device = torch.device(\"cuda\" if torch.cuda.is_available() else \"cpu\")\n",
        "\n",
        "device = torch.device(\"cuda\" if torch.cuda.is_available() else \"cpu\")\n",
        "\n",
        "sys.path.append('/content/drive/MyDrive/CV project/')\n",
        "\n",
        "from matplotlib import cm\n",
        "from matplotlib.colors import ListedColormap\n",
        "from matplotlib.patches import Patch\n",
        "from matplotlib.lines import Line2D\n",
        "import matplotlib.patches as patches"
      ],
      "metadata": {
        "id": "sdw4o4ceW8cS",
        "cellView": "form"
      },
      "execution_count": null,
      "outputs": []
    },
    {
      "cell_type": "code",
      "source": [
        "#@title\n",
        "import torch\n",
        "from torch import nn\n",
        "import torch.nn.functional as F\n",
        "\n",
        "\n",
        "# Taken from https://discuss.pytorch.org/t/is-there-any-layer-like-tensorflows-space-to-depth-function/3487/14\n",
        "class DepthToSpace(nn.Module):\n",
        "\n",
        "    def __init__(self, block_size):\n",
        "        super().__init__()\n",
        "        self.bs = block_size\n",
        "\n",
        "    def forward(self, x):\n",
        "        N, C, H, W = x.size()\n",
        "        x = x.view(N, self.bs, self.bs, C // (self.bs ** 2), H, W)  # (N, bs, bs, C//bs^2, H, W)\n",
        "        x = x.permute(0, 3, 4, 1, 5, 2).contiguous()  # (N, C//bs^2, H, bs, W, bs)\n",
        "        x = x.view(N, C // (self.bs ** 2), H * self.bs, W * self.bs)  # (N, C//bs^2, H * bs, W * bs)\n",
        "        return x\n",
        "\n",
        "\n",
        "class SpaceToDepth(nn.Module):\n",
        "    # Expects the following shape: Batch, Channel, Height, Width\n",
        "    def __init__(self, block_size):\n",
        "        super().__init__()\n",
        "        self.bs = block_size\n",
        "\n",
        "    def forward(self, x):\n",
        "        N, C, H, W = x.size()\n",
        "        x = x.view(N, C, H // self.bs, self.bs, W // self.bs, self.bs)  # (N, C, H//bs, bs, W//bs, bs)\n",
        "        x = x.permute(0, 3, 5, 1, 2, 4).contiguous()  # (N, bs, bs, C, H//bs, W//bs)\n",
        "        x = x.view(N, C * (self.bs ** 2), H // self.bs, W // self.bs)  # (N, C*bs^2, H//bs, W//bs)\n",
        "        return x\n",
        "\n",
        "\n",
        "class DepthwiseSeparableConv(nn.Module):\n",
        "    def __init__(self, in_channels, output_channels, kernel_size, padding=0, kernels_per_layer=1):\n",
        "        super(DepthwiseSeparableConv, self).__init__()\n",
        "        # In Tensorflow DepthwiseConv2D has depth_multiplier instead of kernels_per_layer\n",
        "        self.depthwise = nn.Conv2d(in_channels, in_channels * kernels_per_layer, kernel_size=kernel_size, padding=padding,\n",
        "                                   groups=in_channels)\n",
        "        self.pointwise = nn.Conv2d(in_channels * kernels_per_layer, output_channels, kernel_size=1)\n",
        "\n",
        "    def forward(self, x):\n",
        "        x = self.depthwise(x)\n",
        "        x = self.pointwise(x)\n",
        "        return x\n",
        "\n",
        "\n",
        "class DoubleDense(nn.Module):\n",
        "    def __init__(self, in_channels, hidden_neurons, output_channels):\n",
        "        super(DoubleDense, self).__init__()\n",
        "        self.dense1 = nn.Linear(in_channels, out_features=hidden_neurons)\n",
        "        self.dense2 = nn.Linear(in_features=hidden_neurons, out_features=hidden_neurons // 2)\n",
        "        self.dense3 = nn.Linear(in_features=hidden_neurons // 2, out_features=output_channels)\n",
        "\n",
        "    def forward(self, x):\n",
        "        out = F.relu(self.dense1(x.view(x.size(0), -1)))\n",
        "        out = F.relu(self.dense2(out))\n",
        "        out = self.dense3(out)\n",
        "        return out\n",
        "\n",
        "\n",
        "class DoubleDSConv(nn.Module):\n",
        "    \"\"\"(convolution => [BN] => ReLU) * 2\"\"\"\n",
        "    def __init__(self, in_channels, out_channels):\n",
        "        super().__init__()\n",
        "        self.double_ds_conv = nn.Sequential(\n",
        "            DepthwiseSeparableConv(in_channels, out_channels, kernel_size=3, padding=1),\n",
        "            nn.BatchNorm2d(out_channels),\n",
        "            nn.ReLU(inplace=True),\n",
        "            DepthwiseSeparableConv(out_channels, out_channels, kernel_size=3, padding=1),\n",
        "            nn.BatchNorm2d(out_channels),\n",
        "            nn.ReLU(inplace=True)\n",
        "        )\n",
        "\n",
        "    def forward(self, x):\n",
        "        return self.double_ds_conv(x)\n",
        "\n",
        "\n",
        "class Flatten(nn.Module):\n",
        "    def forward(self, x):\n",
        "        return x.view(x.size(0), -1)\n",
        "\n",
        "\n",
        "class ChannelAttention(nn.Module):\n",
        "    def __init__(self, input_channels, reduction_ratio=16):\n",
        "        super(ChannelAttention, self).__init__()\n",
        "        self.input_channels = input_channels\n",
        "        self.avg_pool = nn.AdaptiveAvgPool2d(1)\n",
        "        self.max_pool = nn.AdaptiveMaxPool2d(1)\n",
        "        #  https://github.com/luuuyi/CBAM.PyTorch/blob/master/model/resnet_cbam.py\n",
        "        #  uses Convolutions instead of Linear\n",
        "        self.MLP = nn.Sequential(\n",
        "            Flatten(),\n",
        "            nn.Linear(input_channels, input_channels // reduction_ratio),\n",
        "            nn.ReLU(),\n",
        "            nn.Linear(input_channels // reduction_ratio, input_channels)\n",
        "        )\n",
        "\n",
        "    def forward(self, x):\n",
        "        # Take the input and apply average and max pooling\n",
        "        avg_values = self.avg_pool(x)\n",
        "        max_values = self.max_pool(x)\n",
        "        out = self.MLP(avg_values) + self.MLP(max_values)\n",
        "        scale = x * torch.sigmoid(out).unsqueeze(2).unsqueeze(3).expand_as(x)\n",
        "        return scale\n",
        "\n",
        "\n",
        "class SpatialAttention(nn.Module):\n",
        "    def __init__(self, kernel_size=7):\n",
        "        super(SpatialAttention, self).__init__()\n",
        "        assert kernel_size in (3, 7), 'kernel size must be 3 or 7'\n",
        "        padding = 3 if kernel_size == 7 else 1\n",
        "        self.conv = nn.Conv2d(2, 1, kernel_size=kernel_size, padding=padding, bias=False)\n",
        "        self.bn = nn.BatchNorm2d(1)\n",
        "\n",
        "    def forward(self, x):\n",
        "        avg_out = torch.mean(x, dim=1, keepdim=True)\n",
        "        max_out, _ = torch.max(x, dim=1, keepdim=True)\n",
        "        out = torch.cat([avg_out, max_out], dim=1)\n",
        "        out = self.conv(out)\n",
        "        out = self.bn(out)\n",
        "        scale = x * torch.sigmoid(out)\n",
        "        return scale\n",
        "\n",
        "\n",
        "class CBAM(nn.Module):\n",
        "    def __init__(self, input_channels, reduction_ratio=16, kernel_size=7):\n",
        "        super(CBAM, self).__init__()\n",
        "        self.channel_att = ChannelAttention(input_channels, reduction_ratio=reduction_ratio)\n",
        "        self.spatial_att = SpatialAttention(kernel_size=kernel_size)\n",
        "\n",
        "    def forward(self, x):\n",
        "        out = self.channel_att(x)\n",
        "        out = self.spatial_att(out)\n",
        "        return out\n",
        "\n",
        "\n",
        "\n",
        "\n",
        "\n",
        "\"\"\" Parts of the U-Net model \"\"\"\n",
        "# Base model taken from: https://github.com/milesial/Pytorch-UNet\n",
        "import torch\n",
        "import torch.nn as nn\n",
        "import torch.nn.functional as F\n",
        "#from models.layers import DepthwiseSeparableConv\n",
        "\n",
        "\n",
        "class DoubleConvDS(nn.Module):\n",
        "    \"\"\"(convolution => [BN] => ReLU) * 2\"\"\"\n",
        "\n",
        "    def __init__(self, in_channels, out_channels, mid_channels=None, kernels_per_layer=1):\n",
        "        super().__init__()\n",
        "        if not mid_channels:\n",
        "            mid_channels = out_channels\n",
        "        self.double_conv = nn.Sequential(\n",
        "            DepthwiseSeparableConv(in_channels, mid_channels, kernel_size=3, kernels_per_layer=kernels_per_layer, padding=1),\n",
        "            nn.BatchNorm2d(mid_channels),\n",
        "            nn.ReLU(inplace=True),\n",
        "            DepthwiseSeparableConv(mid_channels, out_channels, kernel_size=3, kernels_per_layer=kernels_per_layer, padding=1),\n",
        "            nn.BatchNorm2d(out_channels),\n",
        "            nn.ReLU(inplace=True)\n",
        "        )\n",
        "\n",
        "    def forward(self, x):\n",
        "        return self.double_conv(x)\n",
        "\n",
        "\n",
        "class DownDS(nn.Module):\n",
        "    \"\"\"Downscaling with maxpool then double conv\"\"\"\n",
        "\n",
        "    def __init__(self, in_channels, out_channels, kernels_per_layer=1):\n",
        "        super().__init__()\n",
        "        self.maxpool_conv = nn.Sequential(\n",
        "            nn.MaxPool2d(2),\n",
        "            DoubleConvDS(in_channels, out_channels, kernels_per_layer=kernels_per_layer)\n",
        "        )\n",
        "\n",
        "    def forward(self, x):\n",
        "        return self.maxpool_conv(x)\n",
        "\n",
        "\n",
        "class UpDS(nn.Module):\n",
        "    \"\"\"Upscaling then double conv\"\"\"\n",
        "\n",
        "    def __init__(self, in_channels, out_channels, bilinear=True, kernels_per_layer=1):\n",
        "        super().__init__()\n",
        "\n",
        "        # if bilinear, use the normal convolutions to reduce the number of channels\n",
        "        if bilinear:\n",
        "            self.up = nn.Upsample(scale_factor=2, mode='bilinear', align_corners=True)\n",
        "            self.conv = DoubleConvDS(in_channels, out_channels, in_channels // 2, kernels_per_layer=kernels_per_layer)\n",
        "        else:\n",
        "            self.up = nn.ConvTranspose2d(in_channels, in_channels // 2, kernel_size=2, stride=2)\n",
        "            self.conv = DoubleConvDS(in_channels, out_channels, kernels_per_layer=kernels_per_layer)\n",
        "\n",
        "    def forward(self, x1, x2):\n",
        "        x1 = self.up(x1)\n",
        "        # input is CHW\n",
        "        diffY = x2.size()[2] - x1.size()[2]\n",
        "        diffX = x2.size()[3] - x1.size()[3]\n",
        "\n",
        "        x1 = F.pad(x1, [diffX // 2, diffX - diffX // 2,\n",
        "                        diffY // 2, diffY - diffY // 2])\n",
        "        # if you have padding issues, see\n",
        "        # https://github.com/HaiyongJiang/U-Net-Pytorch-Unstructured-Buggy/commit/0e854509c2cea854e247a9c615f175f76fbb2e3a\n",
        "        # https://github.com/xiaopeng-liao/Pytorch-UNet/commit/8ebac70e633bac59fc22bb5195e513d5832fb3bd\n",
        "        x = torch.cat([x2, x1], dim=1)\n",
        "        return self.conv(x)\n",
        "\n",
        "\n",
        "class OutConv(nn.Module):\n",
        "    def __init__(self, in_channels, out_channels):\n",
        "        super(OutConv, self).__init__()\n",
        "        self.conv = nn.Conv2d(in_channels, out_channels, kernel_size=1)\n",
        "\n",
        "    def forward(self, x):\n",
        "        return self.conv(x)\n",
        "\n",
        "\n",
        "\"\"\" Parts of the U-Net model \"\"\"\n",
        "\n",
        "import torch\n",
        "import torch.nn as nn\n",
        "import torch.nn.functional as F\n",
        "\n",
        "\n",
        "class DoubleConv(nn.Module):\n",
        "    \"\"\"(convolution => [BN] => ReLU) * 2\"\"\"\n",
        "\n",
        "    def __init__(self, in_channels, out_channels, mid_channels=None):\n",
        "        super().__init__()\n",
        "        if not mid_channels:\n",
        "            mid_channels = out_channels\n",
        "        self.double_conv = nn.Sequential(\n",
        "            nn.Conv2d(in_channels, mid_channels, kernel_size=3, padding=1),\n",
        "            nn.BatchNorm2d(mid_channels),\n",
        "            nn.ReLU(inplace=True),\n",
        "            nn.Conv2d(mid_channels, out_channels, kernel_size=3, padding=1),\n",
        "            nn.BatchNorm2d(out_channels),\n",
        "            nn.ReLU(inplace=True)\n",
        "        )\n",
        "\n",
        "    def forward(self, x):\n",
        "        return self.double_conv(x)\n",
        "\n",
        "\n",
        "class Down(nn.Module):\n",
        "    \"\"\"Downscaling with maxpool then double conv\"\"\"\n",
        "\n",
        "    def __init__(self, in_channels, out_channels):\n",
        "        super().__init__()\n",
        "        self.maxpool_conv = nn.Sequential(\n",
        "            nn.MaxPool2d(2),\n",
        "            DoubleConv(in_channels, out_channels)\n",
        "        )\n",
        "\n",
        "    def forward(self, x):\n",
        "        return self.maxpool_conv(x)\n",
        "\n",
        "\n",
        "class Up(nn.Module):\n",
        "    \"\"\"Upscaling then double conv\"\"\"\n",
        "\n",
        "    def __init__(self, in_channels, out_channels, bilinear=True):\n",
        "        super().__init__()\n",
        "\n",
        "        # if bilinear, use the normal convolutions to reduce the number of channels\n",
        "        if bilinear:\n",
        "            self.up = nn.Upsample(scale_factor=2, mode='bilinear', align_corners=True)\n",
        "            self.conv = DoubleConv(in_channels, out_channels, in_channels // 2)\n",
        "        else:\n",
        "            self.up = nn.ConvTranspose2d(in_channels, in_channels // 2, kernel_size=2, stride=2)\n",
        "            self.conv = DoubleConv(in_channels, out_channels)\n",
        "\n",
        "    def forward(self, x1, x2):\n",
        "        x1 = self.up(x1)\n",
        "        # input is CHW\n",
        "        diffY = x2.size()[2] - x1.size()[2]\n",
        "        diffX = x2.size()[3] - x1.size()[3]\n",
        "\n",
        "        x1 = F.pad(x1, [diffX // 2, diffX - diffX // 2,\n",
        "                        diffY // 2, diffY - diffY // 2])\n",
        "        # if you have padding issues, see\n",
        "        # https://github.com/HaiyongJiang/U-Net-Pytorch-Unstructured-Buggy/commit/0e854509c2cea854e247a9c615f175f76fbb2e3a\n",
        "        # https://github.com/xiaopeng-liao/Pytorch-UNet/commit/8ebac70e633bac59fc22bb5195e513d5832fb3bd\n",
        "        x = torch.cat([x2, x1], dim=1)\n",
        "        return self.conv(x)\n",
        "\n",
        "\n",
        "class OutConv(nn.Module):\n",
        "    def __init__(self, in_channels, out_channels):\n",
        "        super(OutConv, self).__init__()\n",
        "        self.conv = nn.Conv2d(in_channels, out_channels, kernel_size=1)\n",
        "\n",
        "    def forward(self, x):\n",
        "        return self.conv(x)\n",
        "\n",
        "\n",
        "from torch import nn\n",
        "#from models.unet_parts import OutConv\n",
        "#from models.unet_parts_depthwise_separable import DoubleConvDS, UpDS, DownDS\n",
        "#from models.layers import CBAM\n",
        "\n",
        "\n",
        "class SmaAt_UNet(nn.Module):\n",
        "    def __init__(self, n_channels, n_classes, kernels_per_layer=2, bilinear=True, reduction_ratio=16):\n",
        "        super(SmaAt_UNet, self).__init__()\n",
        "        self.n_channels = n_channels\n",
        "        self.n_classes = n_classes\n",
        "        kernels_per_layer = kernels_per_layer\n",
        "        self.bilinear = bilinear\n",
        "        reduction_ratio = reduction_ratio\n",
        "\n",
        "        self.inc = DoubleConvDS(self.n_channels, 64, kernels_per_layer=kernels_per_layer)\n",
        "        self.cbam1 = CBAM(64, reduction_ratio=reduction_ratio)\n",
        "        self.down1 = DownDS(64, 128, kernels_per_layer=kernels_per_layer)\n",
        "        self.cbam2 = CBAM(128, reduction_ratio=reduction_ratio)\n",
        "        self.down2 = DownDS(128, 256, kernels_per_layer=kernels_per_layer)\n",
        "        self.cbam3 = CBAM(256, reduction_ratio=reduction_ratio)\n",
        "        self.down3 = DownDS(256, 512, kernels_per_layer=kernels_per_layer)\n",
        "        self.cbam4 = CBAM(512, reduction_ratio=reduction_ratio)\n",
        "        factor = 2 if self.bilinear else 1\n",
        "        self.down4 = DownDS(512, 1024 // factor, kernels_per_layer=kernels_per_layer)\n",
        "        self.cbam5 = CBAM(1024 // factor, reduction_ratio=reduction_ratio)\n",
        "        self.up1 = UpDS(1024, 512 // factor, self.bilinear, kernels_per_layer=kernels_per_layer)\n",
        "        self.up2 = UpDS(512, 256 // factor, self.bilinear, kernels_per_layer=kernels_per_layer)\n",
        "        self.up3 = UpDS(256, 128 // factor, self.bilinear, kernels_per_layer=kernels_per_layer)\n",
        "        self.up4 = UpDS(128, 64, self.bilinear, kernels_per_layer=kernels_per_layer)\n",
        "\n",
        "        self.outc = OutConv(64, self.n_classes)\n",
        "\n",
        "    def forward(self, x):\n",
        "        x1 = self.inc(x)\n",
        "        x1Att = self.cbam1(x1)\n",
        "        x2 = self.down1(x1)\n",
        "        x2Att = self.cbam2(x2)\n",
        "        x3 = self.down2(x2)\n",
        "        x3Att = self.cbam3(x3)\n",
        "        x4 = self.down3(x3)\n",
        "        x4Att = self.cbam4(x4)\n",
        "        x5 = self.down4(x4)\n",
        "        x5Att = self.cbam5(x5)\n",
        "        x = self.up1(x5Att, x4Att)\n",
        "        x = self.up2(x, x3Att)\n",
        "        x = self.up3(x, x2Att)\n",
        "        x = self.up4(x, x1Att)\n",
        "        logits = self.outc(x)\n",
        "        return logits"
      ],
      "metadata": {
        "cellView": "form",
        "id": "_PqbVdWclMvu"
      },
      "execution_count": null,
      "outputs": []
    },
    {
      "cell_type": "markdown",
      "source": [
        "## Read in Data"
      ],
      "metadata": {
        "id": "jJrdOn5VdAcT"
      }
    },
    {
      "cell_type": "code",
      "source": [
        "#@title\n",
        "\n",
        "## Load data\n",
        "data_path = 'data/'\n",
        "DEST_TRAIN_FILE= os.path.join(data_path,'nowcast_training_000.h5')\n",
        "DEST_TEST_FILE= os.path.join(data_path, 'nowcast_testing_000.h5')"
      ],
      "metadata": {
        "id": "s1HCyqJ8XJZS"
      },
      "execution_count": null,
      "outputs": []
    },
    {
      "cell_type": "code",
      "source": [
        "# Control how many samples are read.   Set to -1 to read all 5000 samples.\n",
        "N_TRAIN=1000\n",
        "TRAIN_VAL_FRAC=0.8\n",
        "N_TEST=10"
      ],
      "metadata": {
        "id": "kf-djsXCbd5k"
      },
      "execution_count": null,
      "outputs": []
    },
    {
      "cell_type": "code",
      "source": [
        "#@title\n",
        "# Loading data takes a few minutes\n",
        "with h5py.File(DEST_TRAIN_FILE,'r') as hf:\n",
        "    Nr = N_TRAIN if N_TRAIN>=0 else hf['IN_vil'].shape[0]\n",
        "    X_train = hf['IN_vil'][:Nr]\n",
        "    Y_train = hf['OUT_vil'][:Nr]\n",
        "    X_train,X_val=np.split(X_train,[int(TRAIN_VAL_FRAC*Nr)])\n",
        "    Y_train,Y_val=np.split(Y_train,[int(TRAIN_VAL_FRAC*Nr)])\n",
        "        \n",
        "# with h5py.File(DEST_TEST_FILE,'r') as hf:\n",
        "#     Nr = N_TEST if N_TEST>=0 else hf['IN_vil'].shape[0]\n",
        "#     X_test = hf['IN_vil'][:Nr]\n",
        "#     Y_test = hf['OUT_vil'][:Nr]"
      ],
      "metadata": {
        "id": "DYpDNNjFXKMW"
      },
      "execution_count": null,
      "outputs": []
    },
    {
      "cell_type": "code",
      "source": [
        "train_data = np.concatenate((X_train,Y_train),axis=3)\n",
        "del X_train\n",
        "del Y_train\n",
        "val_data = np.concatenate((X_val,Y_val),axis=3)\n",
        "del X_val\n",
        "del Y_val\n",
        "#test_data = np.concatenate((X_test,Y_test),axis=3)"
      ],
      "metadata": {
        "id": "faGl_4H1Yg-0"
      },
      "execution_count": null,
      "outputs": []
    },
    {
      "cell_type": "code",
      "source": [
        "# del X_test\n",
        "# del Y_test"
      ],
      "metadata": {
        "id": "h9W7qbFuDLbq"
      },
      "execution_count": null,
      "outputs": []
    },
    {
      "cell_type": "code",
      "source": [
        "img_index=5\n",
        "cmap,norm,vmin,vmax=get_cmap('vil')\n",
        "fig,axs=plt.subplots(1,10,figsize=(20,8))\n",
        "for i in range(10):\n",
        "    axs[i].imshow(train_data[img_index,:,:,i],origin='lower',cmap=cmap,norm=norm,vmin=vmin,vmax=vmax) \n",
        "    axs[i].set_axis_off()"
      ],
      "metadata": {
        "colab": {
          "base_uri": "https://localhost:8080/",
          "height": 125
        },
        "id": "16HerImxYg4A",
        "outputId": "8ce20b5c-a9d2-4072-f26e-3069ef0b5b05"
      },
      "execution_count": null,
      "outputs": [
        {
          "output_type": "display_data",
          "data": {
            "text/plain": [
              "<Figure size 1440x576 with 10 Axes>"
            ],
            "image/png": "[encoded data removed]"
          },
          "metadata": {
            "needs_background": "light"
          }
        }
      ]
    },
    {
      "cell_type": "code",
      "source": [
        "## Send data to the GPU\n",
        "train_data = torch.tensor(train_data)#.to(device)\n",
        "val_data = torch.tensor(val_data)#.to(device)\n",
        "#test_data = torch.tensor(test_data)#.to(device)"
      ],
      "metadata": {
        "id": "6YxEd0UlYguj"
      },
      "execution_count": null,
      "outputs": []
    },
    {
      "cell_type": "code",
      "source": [
        "#@title\n",
        "## See shapes of training data\n",
        "print(\"Training data shape is: \", train_data.shape) ## (n_egs, height, width, num_frames)\n",
        "#print(\"Testing data shape is: \", test_data.shape) ## (n_egs, height, width, num_frames)\n",
        "print(\"Valid data shape is: \", val_data.shape) ## (n_egs, height, width, num_frames)"
      ],
      "metadata": {
        "colab": {
          "base_uri": "https://localhost:8080/"
        },
        "id": "59w42719gLYH",
        "outputId": "b84e6e75-a12a-47cb-bd20-fe686a5d4784"
      },
      "execution_count": null,
      "outputs": [
        {
          "output_type": "stream",
          "name": "stdout",
          "text": [
            "Training data shape is:  torch.Size([800, 384, 384, 25])\n",
            "Valid data shape is:  torch.Size([200, 384, 384, 25])\n"
          ]
        }
      ]
    },
    {
      "cell_type": "markdown",
      "source": [
        "### Define blur and downsample function that takes ALL of train, val, and test data and gives blurred and downsampled versions of it "
      ],
      "metadata": {
        "id": "wptDJrSvpep7"
      }
    },
    {
      "cell_type": "code",
      "source": [
        "## We need to use downsampled data for training our model because colab suxx\n",
        "\n",
        "## input shape is = (n_egs, height, width, num_frames). For now height = width --> Is a torch tensor\n",
        "## op_size is the height/width we would want our downsampled output to have\n",
        "## sigma: The variance of the gaussian blur that we will apply to the images before downsampling\n",
        "\n",
        "\n",
        "def blur_downsample(input, op_size, kernel_size=(5,5) ,sigma=(1,1)):\n",
        "  \n",
        "  n_egs, ip_h, ip_w, num_frames = input.shape \n",
        "  op = torch.zeros((n_egs, op_size, op_size, num_frames))\n",
        "\n",
        "  # Define the blur transformation\n",
        "  blur_transform = T.GaussianBlur(kernel_size=kernel_size, sigma=sigma)\n",
        "  ds_transform = T.Resize((op_size,op_size))\n",
        "\n",
        "  for eg in range(n_egs):\n",
        "    cur_seq = input[eg,:,:,:]\n",
        "    for frame_num in range(num_frames):\n",
        "      cur_img = cur_seq[:,:,frame_num]\n",
        "\n",
        "      ## First apply Gaussian blur to this image \n",
        "      cur_img_blrd = blur_transform(cur_img[None,:,:])\n",
        "      \n",
        "      ## Now downsample this blurred image\n",
        "      cur_img_ds = ds_transform(cur_img_blrd)[0]\n",
        "      op[eg,:,:,frame_num] = cur_img_ds \n",
        "  \n",
        "  return op"
      ],
      "metadata": {
        "id": "TrFgjjr5gcr2"
      },
      "execution_count": null,
      "outputs": []
    },
    {
      "cell_type": "code",
      "source": [
        "train_data = blur_downsample(train_data.float(), 192)\n",
        "val_data = blur_downsample(val_data.float(), 192)\n",
        "#test_data = blur_downsample(test_data.float(), 192)"
      ],
      "metadata": {
        "id": "YT9pHqEIoiIm"
      },
      "execution_count": null,
      "outputs": []
    },
    {
      "cell_type": "code",
      "source": [
        "#@title\n",
        "## See shapes of training data\n",
        "print(\"Training data shape is: \", train_data.shape) ## (n_egs, height, width, num_frames)\n",
        "#print(\"Testing data shape is: \", test_data.shape) ## (n_egs, height, width, num_frames)\n",
        "print(\"Valid data shape is: \", val_data.shape) ## (n_egs, height, width, num_frames)"
      ],
      "metadata": {
        "colab": {
          "base_uri": "https://localhost:8080/"
        },
        "cellView": "form",
        "id": "AJWkQRxyoOWA",
        "outputId": "ae42040e-af9b-494b-a7b9-f9f4aba4b184"
      },
      "execution_count": null,
      "outputs": [
        {
          "output_type": "stream",
          "name": "stdout",
          "text": [
            "Training data shape is:  torch.Size([800, 192, 192, 25])\n",
            "Valid data shape is:  torch.Size([200, 192, 192, 25])\n"
          ]
        }
      ]
    },
    {
      "cell_type": "code",
      "source": [
        "## Save downsampled training data of 1000 examples so that I don't have to read it in again!\n",
        "torch.save(train_data, 'train_tensor_1000.pt')\n",
        "torch.save(val_data, 'val_tensor_1000.pt')"
      ],
      "metadata": {
        "id": "wfADBUXHkHFy"
      },
      "execution_count": null,
      "outputs": []
    },
    {
      "cell_type": "code",
      "source": [
        "train_data = torch.load('train_tensor_1000.pt')\n",
        "val_data = torch.load('val_tensor_1000.pt')"
      ],
      "metadata": {
        "id": "WtzlTqD4lYsh"
      },
      "execution_count": null,
      "outputs": []
    },
    {
      "cell_type": "code",
      "source": [
        "data = torch.load('train_1000_96_96_25.pt')"
      ],
      "metadata": {
        "id": "W1UWRHPwWYSq"
      },
      "execution_count": null,
      "outputs": []
    },
    {
      "cell_type": "code",
      "source": [
        "train_data = data[:720,:,:,:]\n",
        "val_data = data[720:900,:,:,:]"
      ],
      "metadata": {
        "id": "lAgmjaguWX6D"
      },
      "execution_count": null,
      "outputs": []
    },
    {
      "cell_type": "code",
      "source": [
        "train_data.shape"
      ],
      "metadata": {
        "colab": {
          "base_uri": "https://localhost:8080/"
        },
        "id": "iHK4F5_9Xct2",
        "outputId": "1a49949d-f587-4fae-d91b-c8301a035678"
      },
      "execution_count": null,
      "outputs": [
        {
          "output_type": "execute_result",
          "data": {
            "text/plain": [
              "torch.Size([720, 96, 96, 25])"
            ]
          },
          "metadata": {},
          "execution_count": 8
        }
      ]
    },
    {
      "cell_type": "code",
      "source": [
        "img_index=5\n",
        "cmap,norm,vmin,vmax=get_cmap('vil')\n",
        "fig,axs=plt.subplots(1,10,figsize=(20,8))\n",
        "for i in range(10):\n",
        "    axs[i].imshow(train_data[img_index,:,:,i],origin='lower',cmap=cmap,norm=norm,vmin=vmin,vmax=vmax) \n",
        "    axs[i].set_axis_off()"
      ],
      "metadata": {
        "colab": {
          "base_uri": "https://localhost:8080/",
          "height": 125
        },
        "id": "Biepko3qvp50",
        "outputId": "4518b3c6-0c03-4dd2-c960-6fb1e628f67f"
      },
      "execution_count": null,
      "outputs": [
        {
          "output_type": "display_data",
          "data": {
            "text/plain": [
              "<Figure size 1440x576 with 10 Axes>"
            ],
            "image/png": "[encoded data removed]"
          },
          "metadata": {
            "needs_background": "light"
          }
        }
      ]
    },
    {
      "cell_type": "markdown",
      "source": [
        "Transpose all data so that shape now is (num_egs, num_frames, height, width) as that is the ordering with which the U-net architecture will read in the data"
      ],
      "metadata": {
        "id": "M_2s_vR9qLd4"
      }
    },
    {
      "cell_type": "code",
      "source": [
        "#@title\n",
        "train_data = torch.transpose(train_data, 2, 3)\n",
        "#train = torch.transpose(train, 1, 2).to(device).float()\n",
        "train_data = torch.transpose(train_data, 1, 2).float()\n",
        "# train_X = train_data[:,:13,:,:]\n",
        "# train_Y = train_data[:,13:,:,:]\n",
        "\n",
        "#test_data = torch.transpose(test_data, 2, 3)\n",
        "\n",
        "#test = torch.transpose(test, 1, 2).to(device).float()\n",
        "\n",
        "\n",
        "#test_data = torch.transpose(test_data, 1, 2).float()\n",
        "# test_X = test_data[:,:13,:,:]\n",
        "# test_Y = test_data[:,13:,:,:]\n",
        "\n",
        "val_data = torch.transpose(val_data, 2, 3)\n",
        "#val = torch.transpose(val, 1, 2).to(device).float()\n",
        "val_data = torch.transpose(val_data, 1, 2).float()\n",
        "# val_X = val_data[:,:13,:,:]\n",
        "# val_Y = val_data[:,13:,:,:]\n",
        "\n",
        "print(\"Training data shape is: \", train_data.shape) ## (n_egs, num_frames, height, width)\n",
        "#print(\"Testing data shape is: \", test_data.shape) ## (n_egs, num_frames, height, width)\n",
        "print(\"Valid data shape is: \", val_data.shape) ## (n_egs, num_frames, height, width)"
      ],
      "metadata": {
        "colab": {
          "base_uri": "https://localhost:8080/"
        },
        "cellView": "form",
        "id": "Y1XZfZGqqf0Y",
        "outputId": "c42c7e15-d98d-4d65-b22f-38269fde22b1"
      },
      "execution_count": null,
      "outputs": [
        {
          "output_type": "stream",
          "name": "stdout",
          "text": [
            "Training data shape is:  torch.Size([720, 25, 96, 96])\n",
            "Valid data shape is:  torch.Size([180, 25, 96, 96])\n"
          ]
        }
      ]
    },
    {
      "cell_type": "markdown",
      "source": [
        "## Normalize training data"
      ],
      "metadata": {
        "id": "Kwyy0624ZoYj"
      }
    },
    {
      "cell_type": "code",
      "source": [
        "norm_ = {'scale':47.54,'shift':33.44}\n",
        "train_data = (train_data - norm_['shift'])/norm_['scale']\n",
        "val_data = (val_data - norm_['shift'])/norm_['scale']"
      ],
      "metadata": {
        "id": "4ZLigiXNZmxL"
      },
      "execution_count": null,
      "outputs": []
    },
    {
      "cell_type": "code",
      "source": [
        "norm_ = {'scale':47.54,'shift':33.44}\n",
        "img_index=5\n",
        "cmap,norm,vmin,vmax=get_cmap('vil')\n",
        "fig,axs=plt.subplots(1,10,figsize=(20,8))\n",
        "for i in range(10):\n",
        "    axs[i].imshow((train_data[img_index,i,:,:]*norm_['scale']+norm_['shift']),origin='lower',cmap=cmap,norm=norm,vmin=vmin,vmax=vmax) \n",
        "    axs[i].set_axis_off()"
      ],
      "metadata": {
        "colab": {
          "base_uri": "https://localhost:8080/",
          "height": 125
        },
        "id": "d6I0dJyeaAGX",
        "outputId": "c3ff4039-5c32-46fc-a0ae-d4c3ade461bc"
      },
      "execution_count": null,
      "outputs": [
        {
          "output_type": "display_data",
          "data": {
            "text/plain": [
              "<Figure size 1440x576 with 10 Axes>"
            ],
            "image/png": "[encoded data removed]"
          },
          "metadata": {
            "needs_background": "light"
          }
        }
      ]
    },
    {
      "cell_type": "markdown",
      "source": [
        "### Create SEVIR Dataset class for more efficient reading in of data"
      ],
      "metadata": {
        "id": "qDLgYvNC0bsJ"
      }
    },
    {
      "cell_type": "code",
      "source": [
        "class SEVIR_Dataset(torch.utils.data.Dataset):\n",
        "  'Characterizes a dataset for PyTorch'\n",
        "  def __init__(self, full_data):  # Full data shape is (n_egs, num_frames, height, width), includes X and Y\n",
        "        'Initialization'\n",
        "        self.X_egs = full_data[:,:13,:,:]\n",
        "        self.Y_egs = full_data[:,13:,:,:]\n",
        "\n",
        "  def __len__(self):\n",
        "        'Denotes the total number of samples'\n",
        "        return self.X_egs.shape[0]\n",
        "\n",
        "  def __getitem__(self, index):\n",
        "        'Generates one sample of data'\n",
        "        # Select sample\n",
        "\n",
        "        # Load data and get label\n",
        "        X = self.X_egs[index,:,:,:]\n",
        "        y = self.Y_egs[index,:,:,:]\n",
        "\n",
        "        return X, y"
      ],
      "metadata": {
        "id": "al3wr0IZybIn"
      },
      "execution_count": null,
      "outputs": []
    },
    {
      "cell_type": "code",
      "source": [
        "## Create dataset objects for train, val and testing\n",
        "train_dataset = SEVIR_Dataset(train_data) ; \n",
        "val_dataset = SEVIR_Dataset(val_data) ;  \n",
        "#test_dataset = SEVIR_Dataset(test_data) ; "
      ],
      "metadata": {
        "id": "ijgDMhke0wzx"
      },
      "execution_count": null,
      "outputs": []
    },
    {
      "cell_type": "markdown",
      "source": [
        "### Define get dataloaders function"
      ],
      "metadata": {
        "id": "JTbydodicFbH"
      }
    },
    {
      "cell_type": "code",
      "source": [
        "#@title\n",
        "def get_dataloaders(batch_size=64, num_workers=2):\n",
        "    '''Use Pytorch torch.utils.data.DataLoader to load batched data'''\n",
        "    train_dataset = SEVIR_Dataset(train_data) ; \n",
        "    val_dataset = SEVIR_Dataset(val_data) ;\n",
        "    train_dataloader = torch.utils.data.DataLoader(\n",
        "        train_dataset,\n",
        "        batch_size=batch_size,\n",
        "        shuffle=True,  # shuffle training set\n",
        "        num_workers=num_workers,  # turns on multi-processing loading so training is not blocked by data loading\n",
        "        pin_memory=True,  # pin_memory allows faster transfer from CPU to GPU\n",
        "    )\n",
        "    val_dataloader = torch.utils.data.DataLoader(\n",
        "        val_dataset,\n",
        "        batch_size=batch_size,\n",
        "        shuffle=False,\n",
        "        num_workers=num_workers,\n",
        "        pin_memory=True,\n",
        "    )\n",
        "    return train_dataloader, val_dataloader"
      ],
      "metadata": {
        "id": "8bmBnRkl0wpf"
      },
      "execution_count": null,
      "outputs": []
    },
    {
      "cell_type": "code",
      "source": [
        "train_dataloader, val_dataloader = get_dataloaders(batch_size=2, num_workers=2) ; "
      ],
      "metadata": {
        "id": "ceDqsIXB0wXn"
      },
      "execution_count": null,
      "outputs": []
    },
    {
      "cell_type": "code",
      "source": [
        "CUDA_LAUNCH_BLOCKING=1"
      ],
      "metadata": {
        "id": "0cUM7fyg7lOn"
      },
      "execution_count": null,
      "outputs": []
    },
    {
      "cell_type": "markdown",
      "source": [
        "### Functions that will help us calculate the style and content losses"
      ],
      "metadata": {
        "id": "adOF5D0PTzed"
      }
    },
    {
      "cell_type": "markdown",
      "source": [
        "### Content Loss and Style Loss functions as used in Style transfer pset"
      ],
      "metadata": {
        "id": "mS0aA00hcRG3"
      }
    },
    {
      "cell_type": "code",
      "source": [
        "#@title\n",
        "class ContentLoss(nn.Module):\n",
        "\n",
        "    def __init__(self, target,):\n",
        "        super(ContentLoss, self).__init__()\n",
        "        # we 'detach' the target content from the tree used\n",
        "        # to dynamically compute the gradient: this is a stated value,\n",
        "        # not a variable. Otherwise the forward method of the criterion\n",
        "        # will throw an error.\n",
        "        self.target = target.detach()\n",
        "\n",
        "    def forward(self, input):\n",
        "        self.loss = F.mse_loss(input, self.target)\n",
        "        return input\n",
        "    \n",
        "def gram_matrix(input):\n",
        "    a, b, c, d = input.size()  # a=batch size(=1)\n",
        "    # b=number of feature maps\n",
        "    # (c,d)=dimensions of a f. map (N=c*d)\n",
        "\n",
        "    features = input.view(a * b, c * d)  # resise F_XL into \\hat F_XL\n",
        "    #print(\"SHAPE\", features.shape)\n",
        "\n",
        "    G =  torch.matmul(features, (features.transpose(1,0)))\n",
        "\n",
        "    # we 'normalize' the values of the gram matrix\n",
        "    # by dividing by the number of element in each feature maps.\n",
        "    return G.div(a * b * c * d)\n",
        "\n",
        "class StyleLoss(nn.Module):\n",
        "\n",
        "    def __init__(self, target_feature):\n",
        "        super(StyleLoss, self).__init__()\n",
        "        self.target = gram_matrix(target_feature).detach()\n",
        "\n",
        "    def forward(self, input):\n",
        "        G = gram_matrix(input)\n",
        "        self.loss = F.mse_loss(G, self.target)\n",
        "        return input"
      ],
      "metadata": {
        "cellView": "form",
        "id": "9E6bBClhTypL"
      },
      "execution_count": null,
      "outputs": []
    },
    {
      "cell_type": "markdown",
      "source": [
        "### Import CNN(VGG-19) and corresponding normalisation functions for SC loss"
      ],
      "metadata": {
        "id": "GQKvhN73ce8t"
      }
    },
    {
      "cell_type": "code",
      "source": [
        "#@title\n",
        "# importing vgg-16 pre-trained model\n",
        "cnn = models.vgg19(pretrained=True).features.to(device).eval()\n",
        "cnn_normalization_mean = torch.tensor([0.485, 0.456, 0.406]).to(device)\n",
        "cnn_normalization_std = torch.tensor([0.229, 0.224, 0.225]).to(device)\n",
        "\n",
        "# create a module to normalize input image so we can easily put it in a\n",
        "# nn.Sequential\n",
        "class Normalization(nn.Module):\n",
        "    def __init__(self, mean, std):\n",
        "        super(Normalization, self).__init__()\n",
        "        # .view the mean and std to make them [C x 1 x 1] so that they can\n",
        "        # directly work with image Tensor of shape [B x C x H x W].\n",
        "        # B is batch size. C is number of channels. H is height and W is width.\n",
        "        self.mean = torch.tensor(mean).view(-1, 1, 1)\n",
        "        self.std = torch.tensor(std).view(-1, 1, 1)\n",
        "\n",
        "    def forward(self, img):\n",
        "        # normalize img\n",
        "        return (img - self.mean) / self.std"
      ],
      "metadata": {
        "cellView": "form",
        "id": "j-IHlbTqT_3M",
        "colab": {
          "base_uri": "https://localhost:8080/",
          "height": 67,
          "referenced_widgets": [
            "f65abf45a9c246d280d4c3650d72816e",
            "76f5d944714642609250b61b2d8d1923",
            "f4f28ffd391f44af8ac15641865de480",
            "d8360671ee7d45ff915fa4cfd09542e1",
            "e2b35adb6dc34b158de8542f84fd52e6",
            "f8b0286b7ba34de9a97b29362733a3c3",
            "f537fc1d1e8549c99061d4384a83c3ec",
            "0e1ce3240f674297abe589cd4ced1850",
            "b48fc2db2c2241fc8eeb3a403d05c79e",
            "c800250613a24593a5a21f57a3ac4053",
            "580fa72d0fad4553b6f4b46829c094dd"
          ]
        },
        "outputId": "c5f20e3a-1e54-4261-e2ef-0b22b1d5dedc"
      },
      "execution_count": null,
      "outputs": [
        {
          "output_type": "stream",
          "name": "stderr",
          "text": [
            "Downloading: \"https://download.pytorch.org/models/vgg19-dcbb9e9d.pth\" to /root/.cache/torch/hub/checkpoints/vgg19-dcbb9e9d.pth\n"
          ]
        },
        {
          "output_type": "display_data",
          "data": {
            "text/plain": [
              "  0%|          | 0.00/548M [00:00<?, ?B/s]"
            ],
            "application/vnd.jupyter.widget-view+json": {
              "version_major": 2,
              "version_minor": 0,
              "model_id": "f65abf45a9c246d280d4c3650d72816e"
            }
          },
          "metadata": {}
        }
      ]
    },
    {
      "cell_type": "markdown",
      "source": [
        "### Using the get style model and losses function as in the Style Transfer pset. \n",
        "\n",
        "Pset uses it as taking a (1,3,h,w) sized inputs for the style and content image targets. Find that re-using the same code for (batch_size, 3, ,h, w) also gives the style and content loss objects, only difference is when computing the actual loss, the prediction shape should also have the same batch number. We will define a function later that reshapes input data by combining the batch and frames dimensions and computes SC losses between corresponding pairs of frames"
      ],
      "metadata": {
        "id": "xXdkwHwvc1J9"
      }
    },
    {
      "cell_type": "code",
      "source": [
        "#@title\n",
        "# \n",
        "#       Aattach the results in your report.\n",
        "content_layers_default = ['conv_5']\n",
        "# content_layers_default = ['conv_1']\n",
        "style_layers_default = ['conv_1', 'conv_2', 'conv_3', 'conv_4', 'conv_5']  # ['conv_1', 'conv_2', 'conv_3', 'conv_4', 'conv_5']\n",
        "\n",
        "def get_style_model_and_losses(cnn, normalization_mean, normalization_std,\n",
        "                               style_img, content_img,\n",
        "                               content_layers=content_layers_default,\n",
        "                               style_layers=style_layers_default):\n",
        "    cnn = copy.deepcopy(cnn)\n",
        "\n",
        "    # normalization module\n",
        "    normalization = Normalization(normalization_mean, normalization_std).to(device)\n",
        "\n",
        "    # just in order to have an iterable access to or list of content/syle\n",
        "    # losses\n",
        "    content_losses = []\n",
        "    style_losses = []\n",
        "\n",
        "    # assuming that cnn is a nn.Sequential, so we make a new nn.Sequential\n",
        "    # to put in modules that are supposed to be activated sequentially\n",
        "    model = nn.Sequential(normalization)\n",
        "\n",
        "    i = 0  # increment every time we see a conv\n",
        "    for layer in cnn.children():\n",
        "        if isinstance(layer, nn.Conv2d):\n",
        "            i += 1\n",
        "            name = 'conv_{}'.format(i)\n",
        "        elif isinstance(layer, nn.ReLU):\n",
        "            name = 'relu_{}'.format(i)\n",
        "            # The in-place version doesn't play very nicely with the ContentLoss\n",
        "            # and StyleLoss we insert below. So we replace with out-of-place\n",
        "            # ones here.\n",
        "            layer = nn.ReLU(inplace=False)\n",
        "        elif isinstance(layer, nn.MaxPool2d):\n",
        "            name = 'pool_{}'.format(i)\n",
        "        elif isinstance(layer, nn.BatchNorm2d):\n",
        "            name = 'bn_{}'.format(i)\n",
        "        else:\n",
        "            raise RuntimeError('Unrecognized layer: {}'.format(layer.__class__.__name__))\n",
        "\n",
        "        model.add_module(name, layer)\n",
        "\n",
        "        if name in content_layers:\n",
        "            # add content loss:\n",
        "            target = model(content_img).detach()\n",
        "            content_loss = ContentLoss(target)\n",
        "            model.add_module(\"content_loss_{}\".format(i), content_loss)\n",
        "            content_losses.append(content_loss)\n",
        "\n",
        "        if name in style_layers:\n",
        "            # add style loss:\n",
        "            target_feature = model(style_img).detach()\n",
        "            style_loss = StyleLoss(target_feature)\n",
        "            model.add_module(\"style_loss_{}\".format(i), style_loss)\n",
        "            style_losses.append(style_loss)\n",
        "\n",
        "    # now we trim off the layers after the last content and style losses\n",
        "    for i in range(len(model) - 1, -1, -1):\n",
        "        if isinstance(model[i], ContentLoss) or isinstance(model[i], StyleLoss):\n",
        "            break\n",
        "\n",
        "    model = model[:(i + 1)]\n",
        "\n",
        "    return model, style_losses, content_losses"
      ],
      "metadata": {
        "cellView": "form",
        "id": "aGqC8O_VUIfe"
      },
      "execution_count": null,
      "outputs": []
    },
    {
      "cell_type": "code",
      "source": [
        "\n",
        "'''\n",
        "This takes the batch with all the output frames as input and the target, then creates a loss class using the target frames and then adds the losses wrt all the corresponding predictions\n",
        "\n",
        "model_output.shape = (n_egs, frames, h, w)\n",
        "target.shape = (n_egs, frames, h, w)\n",
        "\n",
        "'''\n",
        "\n",
        "def batch_frwise_sc_loss(model_output, target, cnn, normalization_mean, normalization_std, style_weight, content_weight):\n",
        "  \n",
        "    model_output_ = model_output[:,:,None,:,:]\n",
        "    model_output_ = torch.cat((model_output_, model_output_,model_output_),2) ; \n",
        "    bs, frs, ch, h,w = model_output_.shape\n",
        "    mo_reshaped = model_output_.reshape((bs*frs,3,h,w)).to(device)\n",
        "\n",
        "    target_ = target[:,:,None,:,:]\n",
        "    target_ = torch.cat((target_ , target_ ,target_),2) ; \n",
        "    target_reshaped = target_.reshape((bs*frs,3,h,w)).to(device)\n",
        "\n",
        "    loss_mod, style_losses, content_losses = get_style_model_and_losses(cnn,\n",
        "          normalization_mean, normalization_std, style_img=target_reshaped, content_img=target_reshaped)    ## Style and content images are the target frames!!!\n",
        "\n",
        "    loss_mod(mo_reshaped)\n",
        "    style_score = 0\n",
        "    content_score = 0\n",
        "\n",
        "    for sl in style_losses:\n",
        "        style_score += sl.loss\n",
        "    for cl in content_losses:\n",
        "        content_score += cl.loss\n",
        "\n",
        "    style_score *= style_weight\n",
        "    content_score *= content_weight\n",
        "\n",
        "    loss = style_score + content_score\n",
        "\n",
        "    return (1e-1)*(1/(bs*frs))*loss\n",
        "\n",
        "\n"
      ],
      "metadata": {
        "id": "tsJy-HgdUHx_"
      },
      "execution_count": null,
      "outputs": []
    },
    {
      "cell_type": "markdown",
      "source": [
        "#### Some functions that will be helpful for training going forward !!!"
      ],
      "metadata": {
        "id": "QspVrKUtEcO7"
      }
    },
    {
      "cell_type": "code",
      "source": [
        "#@title\n",
        "class AverageMeter(object):\n",
        "    \"\"\"Computes and stores the average and current value\"\"\"\n",
        "\n",
        "    def __init__(self):\n",
        "        self.reset()\n",
        "\n",
        "    def reset(self):\n",
        "        self.val = 0\n",
        "        self.avg = 0\n",
        "        self.sum = 0\n",
        "        self.count = 0\n",
        "\n",
        "    def update(self, val, n=1):\n",
        "        self.val = val\n",
        "        self.sum += val * n\n",
        "        self.count += n\n",
        "        self.avg = self.sum / self.count"
      ],
      "metadata": {
        "cellView": "form",
        "id": "qX_Do9Hzdvdx"
      },
      "execution_count": null,
      "outputs": []
    },
    {
      "cell_type": "code",
      "source": [
        "## Define function to run all of the test data into the model\n",
        "\n",
        "def get_preds(model, dataloader):\n",
        "\n",
        "  op = torch.tensor([]) ; \n",
        "  model.eval()\n",
        "  batches = tqdm(enumerate(dataloader), total=len(dataloader))\n",
        "  for batch_idx, (data, target) in batches:\n",
        "    # Move data to GPU\n",
        "    data = data.to(device)\n",
        "    #target = target.to(device)\n",
        "    op_curr = model(data).detach().cpu()\n",
        "    op = torch.cat((op,op_curr),0)\n",
        "  \n",
        "  return op"
      ],
      "metadata": {
        "id": "H1v5dTdqcGac"
      },
      "execution_count": null,
      "outputs": []
    },
    {
      "cell_type": "code",
      "source": [
        "## Define function to run all of the test data into the model\n",
        "\n",
        "def get_val_mse(model, dataloader):\n",
        "  \n",
        "  count=0\n",
        "  val_mse = 0 ;\n",
        "  #op = torch.tensor([]) ; \n",
        "  model.eval()\n",
        "  batches = tqdm(enumerate(dataloader), total=len(dataloader))\n",
        "  for batch_idx, (data, target) in batches:\n",
        "    # Move data to GPU\n",
        "    data = data.to(device)\n",
        "    target = target.to(device)\n",
        "    op_curr = model(data)#.detach().cpu()\n",
        "    #op = torch.cat((op,op_curr),0)\n",
        "    mse_loss = torch.nn.MSELoss()\n",
        "    val_mse += mse_loss(op_curr, target).detach().cpu()\n",
        "    count = count + 1\n",
        "  \n",
        "  val_mse = val_mse/count ; \n",
        "  \n",
        "  return val_mse  "
      ],
      "metadata": {
        "id": "K5o5DgLocGHS"
      },
      "execution_count": null,
      "outputs": []
    },
    {
      "cell_type": "code",
      "source": [
        "## Training function\n",
        "\n",
        "def train(dataloader, val_dataloader , model, optimizer, epoch, cnn, normalization_mean, normalization_std, alpha, style_weight=100000, content_weight=1):\n",
        "    model.train()\n",
        "\n",
        "    train_loss = []\n",
        "    lmse_meter = AverageMeter()\n",
        "    lsc_meter = AverageMeter()\n",
        "    ltot_meter = AverageMeter()\n",
        "    lmse_val_meter = AverageMeter()\n",
        "    batches = tqdm(enumerate(dataloader), total=len(dataloader))\n",
        "    batches.set_description(\"Epoch NA: Loss (NA) Accuracy (NA %)\")\n",
        "\n",
        "    # Evaluate on validation set\n",
        "    val_mse = get_val_mse(model, val_dataloader)\n",
        "    print(\"VAL MSE = \", val_mse)\n",
        "\n",
        "    for batch_idx, (data, target) in batches:\n",
        "\n",
        "        # Put model in train\n",
        "        model.train()\n",
        "\n",
        "        # Move data to GPU\n",
        "        data = data.to(device)\n",
        "        target = target.to(device)\n",
        "\n",
        "        # Zero out greadients\n",
        "        optimizer.zero_grad()\n",
        "\n",
        "        ## Define losses ---> ## MAKE CHANGES HERE LATER BY ADDING OTHER LOSSES ! ! ! ! ! ! ! \n",
        "        model_output = model(data)\n",
        "        mse_loss = torch.nn.MSELoss()\n",
        "\n",
        "        sc_loss = batch_frwise_sc_loss(model_output, target, cnn, normalization_mean, normalization_std, style_weight, content_weight)\n",
        "        mse_loss_ = mse_loss(model_output, target)\n",
        "\n",
        "        loss = alpha*mse_loss_ + (1-alpha)*sc_loss\n",
        "        \n",
        "        loss.backward()\n",
        "        \n",
        "        # TODO: Update parameters\n",
        "        optimizer.step()\n",
        "\n",
        "        # Update loss meters\n",
        "        lmse_meter.update(mse_loss_.item())\n",
        "        lsc_meter.update(sc_loss)\n",
        "        ltot_meter.update(loss)\n",
        "\n",
        "        # batches.set_description(\n",
        "        #     \"Epoch {:d}: Loss ({:.2e}), Train Accuracy ({:02.0f}%)\".format(\n",
        "        #         epoch, loss.item()#, 100.0 * acc_meter.avg\n",
        "        #     )\n",
        "        # )\n",
        "\n",
        "        batches.set_description(\n",
        "            \"Epoch {:d}: Avg total Loss ({:.2e}) Avg MSE Loss ({:.2f}) Avg SC Loss ({:.2g}))\".format(\n",
        "                epoch,  ltot_meter.avg ,  lmse_meter.avg, lsc_meter.avg #, 100.0 * acc_meter.avg\n",
        "            )\n",
        "        )\n",
        "\n",
        "\n",
        "\n",
        "\n",
        "    return train_loss ## MAKE CHANGES HERE TO ALSO RETURN ACCURACY ON TRAINING SET IN TERMS OF OTHER METRICS ! ! ! "
      ],
      "metadata": {
        "id": "wFQ0nihEAr8S"
      },
      "execution_count": null,
      "outputs": []
    },
    {
      "cell_type": "markdown",
      "source": [
        "### Some functions that will help us evaluate the performance of a model on the validation set "
      ],
      "metadata": {
        "id": "7Yc-rBJTEg9S"
      }
    },
    {
      "cell_type": "code",
      "source": [
        "#@title\n",
        "\n",
        "### THIS IS JUST A PLACEHOLDER FUNCTION!!! --> We would want to implement a function that outputs average POD, SUCR, CSI and BIAS as described in section 3.2 of the paper\n",
        "def evaluate(dataloader, net):\n",
        "    total = 0\n",
        "    correct = 0\n",
        "\n",
        "    net.eval()  # puts the network in eval mode. this is important when the\n",
        "    # network has layers that behaves differently in training and\n",
        "    # evaluation time, e.g., dropout and batch norm.\n",
        "    for image, label in dataloader:\n",
        "        image, label = image.to(device), label.to(device)\n",
        "\n",
        "        with torch.no_grad():  # gradients are not tracked in this context manager\n",
        "            # since we are evaluating, gradients are not needed\n",
        "            # and we can save some time and GPU memory.\n",
        "\n",
        "            # TODO: Get predictions using function from above\n",
        "\n",
        "            prediction = get_prediction(image, net)\n",
        "            # TODO: Update total and correct\n",
        "\n",
        "            total = total + label.shape[0]\n",
        "            correct = correct + torch.sum((prediction==label))\n",
        "\n",
        "    return correct / total"
      ],
      "metadata": {
        "id": "Nt6ORGm2AsJi",
        "cellView": "form"
      },
      "execution_count": null,
      "outputs": []
    },
    {
      "cell_type": "markdown",
      "source": [
        "### Run the training !!!"
      ],
      "metadata": {
        "id": "HArIhpIkFFff"
      }
    },
    {
      "cell_type": "code",
      "source": [
        "train_data.shape"
      ],
      "metadata": {
        "colab": {
          "base_uri": "https://localhost:8080/"
        },
        "id": "whyTMGqHgjcC",
        "outputId": "2f0dd088-2c7e-478a-a4a1-82f2320c11dd"
      },
      "execution_count": null,
      "outputs": [
        {
          "output_type": "execute_result",
          "data": {
            "text/plain": [
              "torch.Size([720, 25, 96, 96])"
            ]
          },
          "metadata": {},
          "execution_count": 27
        }
      ]
    },
    {
      "cell_type": "code",
      "source": [
        "## Initialise U-net model architecture\n",
        "u_net_model = SmaAt_UNet(n_channels=13 , n_classes=12) ;  # Number of input frames is 13 and number of output frames is 12\n",
        "u_net_model = u_net_model.to(device) # Move to GPU"
      ],
      "metadata": {
        "id": "xP-KRTqRFnSs"
      },
      "execution_count": null,
      "outputs": []
    },
    {
      "cell_type": "code",
      "source": [
        "num_epochs = 10\n",
        "lr = 0.001\n",
        "\n",
        "def create_optimizer(net, lr):\n",
        "    # TODO: Create optimizer\n",
        "\n",
        "    optimizer = torch.optim.Adam(net.parameters(), lr=lr)\n",
        "\n",
        "    return optimizer\n",
        "\n",
        "optim = create_optimizer(u_net_model, lr)\n",
        "#train_loader, val_loader = get_dataloaders(batch_size=2, num_workers=2) ; "
      ],
      "metadata": {
        "id": "ztIpjp2Tzxew"
      },
      "execution_count": null,
      "outputs": []
    },
    {
      "cell_type": "code",
      "source": [
        "u_net_model.load_state_dict(torch.load('u_net_alpha_0.5_small.pt')) ; "
      ],
      "metadata": {
        "id": "C-TteEIrsUoS"
      },
      "execution_count": null,
      "outputs": []
    },
    {
      "cell_type": "code",
      "source": [
        "for epoch in range(num_epochs):\n",
        "    #print('Epoch: {}\\tValidation Accuracy: {:.4f}%'.format(epoch, evaluate(val_loader, net) * 100))\n",
        "    train(train_dataloader, val_dataloader , u_net_model, optim, epoch, cnn, normalization_mean=cnn_normalization_mean, normalization_std=cnn_normalization_std, alpha=0.5)\n",
        "    if ((epoch+1)%5==0):\n",
        "      torch.save(u_net_model.state_dict(), 'u_net_alpha_0.5_small.pt') ; "
      ],
      "metadata": {
        "colab": {
          "base_uri": "https://localhost:8080/"
        },
        "id": "So-VHYD-zxTM",
        "outputId": "26c99ca0-e1e8-473a-a86e-002dad7a4a00"
      },
      "execution_count": null,
      "outputs": [
        {
          "metadata": {
            "tags": null
          },
          "name": "stderr",
          "output_type": "stream",
          "text": [
            "Epoch NA: Loss (NA) Accuracy (NA %):   0%|          | 0/360 [00:00<?, ?it/s]\n",
            "  0%|          | 0/90 [00:00<?, ?it/s]\u001b[A\n",
            "  1%|          | 1/90 [00:00<00:43,  2.06it/s]\u001b[A\n",
            "  9%|▉         | 8/90 [00:00<00:04, 17.36it/s]\u001b[A\n",
            " 18%|█▊        | 16/90 [00:00<00:02, 31.95it/s]\u001b[A\n",
            " 28%|██▊       | 25/90 [00:00<00:01, 46.28it/s]\u001b[A\n",
            " 38%|███▊      | 34/90 [00:00<00:00, 56.83it/s]\u001b[A\n",
            " 48%|████▊     | 43/90 [00:01<00:00, 65.74it/s]\u001b[A\n",
            " 58%|█████▊    | 52/90 [00:01<00:00, 71.87it/s]\u001b[A\n",
            " 68%|██████▊   | 61/90 [00:01<00:00, 74.72it/s]\u001b[A\n",
            " 78%|███████▊  | 70/90 [00:01<00:00, 78.14it/s]\u001b[A\n",
            " 88%|████████▊ | 79/90 [00:01<00:00, 79.37it/s]\u001b[A\n",
            "100%|██████████| 90/90 [00:01<00:00, 55.70it/s]\n",
            "/usr/local/lib/python3.7/dist-packages/ipykernel_launcher.py:15: UserWarning: To copy construct from a tensor, it is recommended to use sourceTensor.clone().detach() or sourceTensor.clone().detach().requires_grad_(True), rather than torch.tensor(sourceTensor).\n",
            "  from ipykernel import kernelapp as app\n",
            "/usr/local/lib/python3.7/dist-packages/ipykernel_launcher.py:16: UserWarning: To copy construct from a tensor, it is recommended to use sourceTensor.clone().detach() or sourceTensor.clone().detach().requires_grad_(True), rather than torch.tensor(sourceTensor).\n",
            "  app.launch_new_instance()\n"
          ]
        },
        {
          "metadata": {
            "tags": null
          },
          "name": "stdout",
          "output_type": "stream",
          "text": [
            "VAL MSE =  tensor(0.7173)\n"
          ]
        },
        {
          "metadata": {
            "tags": null
          },
          "name": "stderr",
          "output_type": "stream",
          "text": [
            "Epoch 0: Avg total Loss (8.41e-01) Avg MSE Loss (0.32) Avg SC Loss (1.4)): 100%|██████████| 360/360 [03:09<00:00,  1.90it/s]\n",
            "Epoch NA: Loss (NA) Accuracy (NA %):   0%|          | 0/360 [00:00<?, ?it/s]\n",
            "  0%|          | 0/90 [00:00<?, ?it/s]\u001b[A\n",
            "  8%|▊         | 7/90 [00:00<00:01, 65.28it/s]\u001b[A\n",
            " 18%|█▊        | 16/90 [00:00<00:00, 77.20it/s]\u001b[A\n",
            " 28%|██▊       | 25/90 [00:00<00:00, 79.52it/s]\u001b[A\n",
            " 39%|███▉      | 35/90 [00:00<00:00, 84.70it/s]\u001b[A\n",
            " 49%|████▉     | 44/90 [00:00<00:00, 85.52it/s]\u001b[A\n",
            " 59%|█████▉    | 53/90 [00:00<00:00, 86.35it/s]\u001b[A\n",
            " 69%|██████▉   | 62/90 [00:00<00:00, 87.08it/s]\u001b[A\n",
            " 79%|███████▉  | 71/90 [00:00<00:00, 84.21it/s]\u001b[A\n",
            "100%|██████████| 90/90 [00:01<00:00, 81.42it/s]\n"
          ]
        },
        {
          "metadata": {
            "tags": null
          },
          "name": "stdout",
          "output_type": "stream",
          "text": [
            "VAL MSE =  tensor(0.3556)\n"
          ]
        },
        {
          "metadata": {
            "tags": null
          },
          "name": "stderr",
          "output_type": "stream",
          "text": [
            "Epoch 1: Avg total Loss (6.71e-01) Avg MSE Loss (0.24) Avg SC Loss (1.1)): 100%|██████████| 360/360 [03:26<00:00,  1.74it/s]\n",
            "Epoch NA: Loss (NA) Accuracy (NA %):   0%|          | 0/360 [00:00<?, ?it/s]\n",
            "  0%|          | 0/90 [00:00<?, ?it/s]\u001b[A\n",
            "  8%|▊         | 7/90 [00:00<00:01, 65.37it/s]\u001b[A\n",
            " 18%|█▊        | 16/90 [00:00<00:00, 78.56it/s]\u001b[A\n",
            " 27%|██▋       | 24/90 [00:00<00:00, 78.45it/s]\u001b[A\n",
            " 37%|███▋      | 33/90 [00:00<00:00, 80.83it/s]\u001b[A\n",
            " 47%|████▋     | 42/90 [00:00<00:00, 82.09it/s]\u001b[A\n",
            " 57%|█████▋    | 51/90 [00:00<00:00, 82.40it/s]\u001b[A\n",
            " 67%|██████▋   | 60/90 [00:00<00:00, 83.72it/s]\u001b[A\n",
            " 77%|███████▋  | 69/90 [00:00<00:00, 85.49it/s]\u001b[A\n",
            " 87%|████████▋ | 78/90 [00:00<00:00, 84.14it/s]\u001b[A\n",
            "100%|██████████| 90/90 [00:01<00:00, 77.69it/s]\n"
          ]
        },
        {
          "metadata": {
            "tags": null
          },
          "name": "stdout",
          "output_type": "stream",
          "text": [
            "VAL MSE =  tensor(0.1904)\n"
          ]
        },
        {
          "metadata": {
            "tags": null
          },
          "name": "stderr",
          "output_type": "stream",
          "text": [
            "Epoch 2: Avg total Loss (6.02e-01) Avg MSE Loss (0.20) Avg SC Loss (1)): 100%|██████████| 360/360 [03:28<00:00,  1.72it/s]\n",
            "Epoch NA: Loss (NA) Accuracy (NA %):   0%|          | 0/360 [00:00<?, ?it/s]\n",
            "  0%|          | 0/90 [00:00<?, ?it/s]\u001b[A\n",
            "  8%|▊         | 7/90 [00:00<00:01, 69.24it/s]\u001b[A\n",
            " 18%|█▊        | 16/90 [00:00<00:00, 77.21it/s]\u001b[A\n",
            " 28%|██▊       | 25/90 [00:00<00:00, 80.71it/s]\u001b[A\n",
            " 38%|███▊      | 34/90 [00:00<00:00, 81.75it/s]\u001b[A\n",
            " 49%|████▉     | 44/90 [00:00<00:00, 84.98it/s]\u001b[A\n",
            " 59%|█████▉    | 53/90 [00:00<00:00, 82.55it/s]\u001b[A\n",
            " 69%|██████▉   | 62/90 [00:00<00:00, 82.40it/s]\u001b[A\n",
            " 79%|███████▉  | 71/90 [00:00<00:00, 82.51it/s]\u001b[A\n",
            " 89%|████████▉ | 80/90 [00:00<00:00, 84.14it/s]\u001b[A\n",
            "100%|██████████| 90/90 [00:01<00:00, 79.29it/s]\n"
          ]
        },
        {
          "metadata": {
            "tags": null
          },
          "name": "stdout",
          "output_type": "stream",
          "text": [
            "VAL MSE =  tensor(0.2780)\n"
          ]
        },
        {
          "metadata": {
            "tags": null
          },
          "name": "stderr",
          "output_type": "stream",
          "text": [
            "Epoch 3: Avg total Loss (5.59e-01) Avg MSE Loss (0.18) Avg SC Loss (0.94)): 100%|██████████| 360/360 [03:29<00:00,  1.72it/s]\n",
            "Epoch NA: Loss (NA) Accuracy (NA %):   0%|          | 0/360 [00:00<?, ?it/s]\n",
            "  0%|          | 0/90 [00:00<?, ?it/s]\u001b[A\n",
            "  7%|▋         | 6/90 [00:00<00:01, 57.26it/s]\u001b[A\n",
            " 17%|█▋        | 15/90 [00:00<00:01, 74.07it/s]\u001b[A\n",
            " 27%|██▋       | 24/90 [00:00<00:00, 77.61it/s]\u001b[A\n",
            " 37%|███▋      | 33/90 [00:00<00:00, 78.98it/s]\u001b[A\n",
            " 46%|████▌     | 41/90 [00:00<00:00, 78.58it/s]\u001b[A\n",
            " 54%|█████▍    | 49/90 [00:00<00:00, 78.17it/s]\u001b[A\n",
            " 64%|██████▍   | 58/90 [00:00<00:00, 79.75it/s]\u001b[A\n",
            " 73%|███████▎  | 66/90 [00:00<00:00, 79.12it/s]\u001b[A\n",
            " 82%|████████▏ | 74/90 [00:00<00:00, 79.07it/s]\u001b[A\n",
            "100%|██████████| 90/90 [00:01<00:00, 76.49it/s]\n"
          ]
        },
        {
          "metadata": {
            "tags": null
          },
          "name": "stdout",
          "output_type": "stream",
          "text": [
            "VAL MSE =  tensor(0.1698)\n"
          ]
        },
        {
          "metadata": {
            "tags": null
          },
          "name": "stderr",
          "output_type": "stream",
          "text": [
            "Epoch 4: Avg total Loss (5.44e-01) Avg MSE Loss (0.17) Avg SC Loss (0.92)): 100%|██████████| 360/360 [03:28<00:00,  1.72it/s]\n",
            "Epoch NA: Loss (NA) Accuracy (NA %):   0%|          | 0/360 [00:00<?, ?it/s]\n",
            "  0%|          | 0/90 [00:00<?, ?it/s]\u001b[A\n",
            "  7%|▋         | 6/90 [00:00<00:01, 57.05it/s]\u001b[A\n",
            " 16%|█▌        | 14/90 [00:00<00:01, 65.33it/s]\u001b[A\n",
            " 24%|██▍       | 22/90 [00:00<00:00, 71.48it/s]\u001b[A\n",
            " 34%|███▍      | 31/90 [00:00<00:00, 76.92it/s]\u001b[A\n",
            " 44%|████▍     | 40/90 [00:00<00:00, 80.31it/s]\u001b[A\n",
            " 54%|█████▍    | 49/90 [00:00<00:00, 81.72it/s]\u001b[A\n",
            " 66%|██████▌   | 59/90 [00:00<00:00, 85.70it/s]\u001b[A\n",
            " 76%|███████▌  | 68/90 [00:00<00:00, 86.28it/s]\u001b[A\n",
            " 86%|████████▌ | 77/90 [00:00<00:00, 86.26it/s]\u001b[A\n",
            "100%|██████████| 90/90 [00:01<00:00, 77.77it/s]\n"
          ]
        },
        {
          "metadata": {
            "tags": null
          },
          "name": "stdout",
          "output_type": "stream",
          "text": [
            "VAL MSE =  tensor(0.2585)\n"
          ]
        },
        {
          "metadata": {
            "tags": null
          },
          "name": "stderr",
          "output_type": "stream",
          "text": [
            "Epoch 5: Avg total Loss (5.26e-01) Avg MSE Loss (0.16) Avg SC Loss (0.89)): 100%|██████████| 360/360 [03:29<00:00,  1.72it/s]\n",
            "Epoch NA: Loss (NA) Accuracy (NA %):   0%|          | 0/360 [00:00<?, ?it/s]\n",
            "  0%|          | 0/90 [00:00<?, ?it/s]\u001b[A\n",
            "  8%|▊         | 7/90 [00:00<00:01, 64.96it/s]\u001b[A\n",
            " 17%|█▋        | 15/90 [00:00<00:01, 72.92it/s]\u001b[A\n",
            " 27%|██▋       | 24/90 [00:00<00:00, 77.91it/s]\u001b[A\n",
            " 37%|███▋      | 33/90 [00:00<00:00, 81.87it/s]\u001b[A\n",
            " 47%|████▋     | 42/90 [00:00<00:00, 83.68it/s]\u001b[A\n",
            " 58%|█████▊    | 52/90 [00:00<00:00, 87.11it/s]\u001b[A\n",
            " 68%|██████▊   | 61/90 [00:00<00:00, 86.74it/s]\u001b[A\n",
            " 78%|███████▊  | 70/90 [00:00<00:00, 84.64it/s]\u001b[A\n",
            " 88%|████████▊ | 79/90 [00:00<00:00, 83.18it/s]\u001b[A\n",
            "100%|██████████| 90/90 [00:01<00:00, 79.73it/s]\n"
          ]
        },
        {
          "metadata": {
            "tags": null
          },
          "name": "stdout",
          "output_type": "stream",
          "text": [
            "VAL MSE =  tensor(0.1481)\n"
          ]
        },
        {
          "metadata": {
            "tags": null
          },
          "name": "stderr",
          "output_type": "stream",
          "text": [
            "Epoch 6: Avg total Loss (5.11e-01) Avg MSE Loss (0.16) Avg SC Loss (0.86)): 100%|██████████| 360/360 [03:28<00:00,  1.72it/s]\n",
            "Epoch NA: Loss (NA) Accuracy (NA %):   0%|          | 0/360 [00:00<?, ?it/s]\n",
            "  0%|          | 0/90 [00:00<?, ?it/s]\u001b[A\n",
            "  8%|▊         | 7/90 [00:00<00:01, 66.56it/s]\u001b[A\n",
            " 18%|█▊        | 16/90 [00:00<00:00, 77.45it/s]\u001b[A\n",
            " 28%|██▊       | 25/90 [00:00<00:00, 78.79it/s]\u001b[A\n",
            " 38%|███▊      | 34/90 [00:00<00:00, 81.17it/s]\u001b[A\n",
            " 48%|████▊     | 43/90 [00:00<00:00, 83.28it/s]\u001b[A\n",
            " 58%|█████▊    | 52/90 [00:00<00:00, 84.08it/s]\u001b[A\n",
            " 68%|██████▊   | 61/90 [00:00<00:00, 84.51it/s]\u001b[A\n",
            " 78%|███████▊  | 70/90 [00:00<00:00, 86.12it/s]\u001b[A\n",
            " 88%|████████▊ | 79/90 [00:00<00:00, 83.92it/s]\u001b[A\n",
            "100%|██████████| 90/90 [00:01<00:00, 78.88it/s]\n"
          ]
        },
        {
          "metadata": {
            "tags": null
          },
          "name": "stdout",
          "output_type": "stream",
          "text": [
            "VAL MSE =  tensor(0.2063)\n"
          ]
        },
        {
          "metadata": {
            "tags": null
          },
          "name": "stderr",
          "output_type": "stream",
          "text": [
            "Epoch 7: Avg total Loss (4.96e-01) Avg MSE Loss (0.15) Avg SC Loss (0.84)): 100%|██████████| 360/360 [03:28<00:00,  1.72it/s]\n",
            "Epoch NA: Loss (NA) Accuracy (NA %):   0%|          | 0/360 [00:00<?, ?it/s]\n",
            "  0%|          | 0/90 [00:00<?, ?it/s]\u001b[A\n",
            "  9%|▉         | 8/90 [00:00<00:01, 73.25it/s]\u001b[A\n",
            " 18%|█▊        | 16/90 [00:00<00:00, 76.66it/s]\u001b[A\n",
            " 27%|██▋       | 24/90 [00:00<00:00, 76.55it/s]\u001b[A\n",
            " 36%|███▌      | 32/90 [00:00<00:00, 77.49it/s]\u001b[A\n",
            " 44%|████▍     | 40/90 [00:00<00:00, 76.81it/s]\u001b[A\n",
            " 54%|█████▍    | 49/90 [00:00<00:00, 79.60it/s]\u001b[A\n",
            " 64%|██████▍   | 58/90 [00:00<00:00, 82.65it/s]\u001b[A\n",
            " 74%|███████▍  | 67/90 [00:00<00:00, 84.79it/s]\u001b[A\n",
            " 86%|████████▌ | 77/90 [00:00<00:00, 88.27it/s]\u001b[A\n",
            "100%|██████████| 90/90 [00:01<00:00, 79.05it/s]\n"
          ]
        },
        {
          "metadata": {
            "tags": null
          },
          "name": "stdout",
          "output_type": "stream",
          "text": [
            "VAL MSE =  tensor(0.1437)\n"
          ]
        },
        {
          "metadata": {
            "tags": null
          },
          "name": "stderr",
          "output_type": "stream",
          "text": [
            "Epoch 8: Avg total Loss (4.99e-01) Avg MSE Loss (0.15) Avg SC Loss (0.84)): 100%|██████████| 360/360 [03:28<00:00,  1.72it/s]\n",
            "Epoch NA: Loss (NA) Accuracy (NA %):   0%|          | 0/360 [00:00<?, ?it/s]\n",
            "  0%|          | 0/90 [00:00<?, ?it/s]\u001b[A\n",
            "  8%|▊         | 7/90 [00:00<00:01, 66.72it/s]\u001b[A\n",
            " 18%|█▊        | 16/90 [00:00<00:00, 77.72it/s]\u001b[A\n",
            " 27%|██▋       | 24/90 [00:00<00:00, 77.49it/s]\u001b[A\n",
            " 37%|███▋      | 33/90 [00:00<00:00, 79.79it/s]\u001b[A\n",
            " 47%|████▋     | 42/90 [00:00<00:00, 80.70it/s]\u001b[A\n",
            " 57%|█████▋    | 51/90 [00:00<00:00, 79.80it/s]\u001b[A\n",
            " 67%|██████▋   | 60/90 [00:00<00:00, 81.28it/s]\u001b[A\n",
            " 77%|███████▋  | 69/90 [00:00<00:00, 80.20it/s]\u001b[A\n",
            " 87%|████████▋ | 78/90 [00:00<00:00, 81.70it/s]\u001b[A\n",
            "100%|██████████| 90/90 [00:01<00:00, 76.71it/s]\n"
          ]
        },
        {
          "metadata": {
            "tags": null
          },
          "name": "stdout",
          "output_type": "stream",
          "text": [
            "VAL MSE =  tensor(0.1494)\n"
          ]
        },
        {
          "metadata": {
            "tags": null
          },
          "name": "stderr",
          "output_type": "stream",
          "text": [
            "Epoch 9: Avg total Loss (4.90e-01) Avg MSE Loss (0.15) Avg SC Loss (0.83)): 100%|██████████| 360/360 [03:28<00:00,  1.73it/s]\n",
            "Epoch NA: Loss (NA) Accuracy (NA %):   0%|          | 0/360 [00:00<?, ?it/s]\n",
            "  0%|          | 0/90 [00:00<?, ?it/s]\u001b[A\n",
            "  8%|▊         | 7/90 [00:00<00:01, 65.69it/s]\u001b[A\n",
            " 18%|█▊        | 16/90 [00:00<00:00, 77.48it/s]\u001b[A\n",
            " 28%|██▊       | 25/90 [00:00<00:00, 79.76it/s]\u001b[A\n",
            " 37%|███▋      | 33/90 [00:00<00:00, 79.29it/s]\u001b[A\n",
            " 46%|████▌     | 41/90 [00:00<00:00, 79.05it/s]\u001b[A\n",
            " 56%|█████▌    | 50/90 [00:00<00:00, 79.58it/s]\u001b[A\n",
            " 64%|██████▍   | 58/90 [00:00<00:00, 78.91it/s]\u001b[A\n",
            " 76%|███████▌  | 68/90 [00:00<00:00, 83.04it/s]\u001b[A\n",
            " 86%|████████▌ | 77/90 [00:00<00:00, 84.61it/s]\u001b[A\n",
            "100%|██████████| 90/90 [00:01<00:00, 78.19it/s]\n"
          ]
        },
        {
          "metadata": {
            "tags": null
          },
          "name": "stdout",
          "output_type": "stream",
          "text": [
            "VAL MSE =  tensor(0.1479)\n"
          ]
        },
        {
          "metadata": {
            "tags": null
          },
          "name": "stderr",
          "output_type": "stream",
          "text": [
            "Epoch 10: Avg total Loss (4.83e-01) Avg MSE Loss (0.15) Avg SC Loss (0.82)): 100%|██████████| 360/360 [03:28<00:00,  1.72it/s]\n",
            "Epoch NA: Loss (NA) Accuracy (NA %):   0%|          | 0/360 [00:00<?, ?it/s]\n",
            "  0%|          | 0/90 [00:00<?, ?it/s]\u001b[A\n",
            "  9%|▉         | 8/90 [00:00<00:01, 71.64it/s]\u001b[A\n",
            " 19%|█▉        | 17/90 [00:00<00:00, 77.92it/s]\u001b[A\n",
            " 30%|███       | 27/90 [00:00<00:00, 83.87it/s]\u001b[A\n",
            " 40%|████      | 36/90 [00:00<00:00, 85.99it/s]\u001b[A\n",
            " 51%|█████     | 46/90 [00:00<00:00, 88.06it/s]\u001b[A\n",
            " 61%|██████    | 55/90 [00:00<00:00, 88.07it/s]\u001b[A\n",
            " 71%|███████   | 64/90 [00:00<00:00, 85.76it/s]\u001b[A\n",
            " 82%|████████▏ | 74/90 [00:00<00:00, 87.95it/s]\u001b[A\n",
            "100%|██████████| 90/90 [00:01<00:00, 81.87it/s]\n"
          ]
        },
        {
          "metadata": {
            "tags": null
          },
          "name": "stdout",
          "output_type": "stream",
          "text": [
            "VAL MSE =  tensor(0.1926)\n"
          ]
        },
        {
          "output_type": "stream",
          "name": "stderr",
          "text": [
            "Epoch 11: Avg total Loss (4.27e-01) Avg MSE Loss (0.13) Avg SC Loss (0.73)):  34%|███▎      | 121/360 [01:10<02:17,  1.74it/s]"
          ]
        }
      ]
    },
    {
      "cell_type": "code",
      "source": [
        "for epoch in range(num_epochs):\n",
        "    #print('Epoch: {}\\tValidation Accuracy: {:.4f}%'.format(epoch, evaluate(val_loader, net) * 100))\n",
        "    train(train_dataloader, val_dataloader , u_net_model, optim, epoch, cnn, normalization_mean=cnn_normalization_mean, normalization_std=cnn_normalization_std, alpha=0.5)\n",
        "    if ((epoch+1)%5==0):\n",
        "      torch.save(u_net_model.state_dict(), 'u_net_alpha_0.5_small.pt') ; "
      ],
      "metadata": {
        "colab": {
          "base_uri": "https://localhost:8080/"
        },
        "id": "a8oTNU53si0E",
        "outputId": "ee672ae7-54f4-4ab9-9d65-80a74c238dcb"
      },
      "execution_count": null,
      "outputs": [
        {
          "metadata": {
            "tags": null
          },
          "name": "stderr",
          "output_type": "stream",
          "text": [
            "Epoch NA: Loss (NA) Accuracy (NA %):   0%|          | 0/360 [00:00<?, ?it/s]\n",
            "  0%|          | 0/90 [00:00<?, ?it/s]\u001b[A\n",
            "  1%|          | 1/90 [00:00<00:48,  1.82it/s]\u001b[A\n",
            "  9%|▉         | 8/90 [00:00<00:05, 15.68it/s]\u001b[A\n",
            " 18%|█▊        | 16/90 [00:00<00:02, 29.42it/s]\u001b[A\n",
            " 27%|██▋       | 24/90 [00:00<00:01, 41.41it/s]\u001b[A\n",
            " 36%|███▌      | 32/90 [00:00<00:01, 50.52it/s]\u001b[A\n",
            " 44%|████▍     | 40/90 [00:01<00:00, 58.27it/s]\u001b[A\n",
            " 54%|█████▍    | 49/90 [00:01<00:00, 66.79it/s]\u001b[A\n",
            " 64%|██████▍   | 58/90 [00:01<00:00, 72.13it/s]\u001b[A\n",
            " 74%|███████▍  | 67/90 [00:01<00:00, 73.82it/s]\u001b[A\n",
            " 84%|████████▍ | 76/90 [00:01<00:00, 75.88it/s]\u001b[A\n",
            "100%|██████████| 90/90 [00:01<00:00, 52.09it/s]\n",
            "/usr/local/lib/python3.7/dist-packages/ipykernel_launcher.py:15: UserWarning: To copy construct from a tensor, it is recommended to use sourceTensor.clone().detach() or sourceTensor.clone().detach().requires_grad_(True), rather than torch.tensor(sourceTensor).\n",
            "  from ipykernel import kernelapp as app\n",
            "/usr/local/lib/python3.7/dist-packages/ipykernel_launcher.py:16: UserWarning: To copy construct from a tensor, it is recommended to use sourceTensor.clone().detach() or sourceTensor.clone().detach().requires_grad_(True), rather than torch.tensor(sourceTensor).\n",
            "  app.launch_new_instance()\n"
          ]
        },
        {
          "metadata": {
            "tags": null
          },
          "name": "stdout",
          "output_type": "stream",
          "text": [
            "VAL MSE =  tensor(0.1479)\n"
          ]
        },
        {
          "metadata": {
            "tags": null
          },
          "name": "stderr",
          "output_type": "stream",
          "text": [
            "Epoch 0: Avg total Loss (4.84e-01) Avg MSE Loss (0.15) Avg SC Loss (0.82)): 100%|██████████| 360/360 [03:01<00:00,  1.99it/s]\n",
            "Epoch NA: Loss (NA) Accuracy (NA %):   0%|          | 0/360 [00:00<?, ?it/s]\n",
            "  0%|          | 0/90 [00:00<?, ?it/s]\u001b[A\n",
            "  8%|▊         | 7/90 [00:00<00:01, 64.46it/s]\u001b[A\n",
            " 18%|█▊        | 16/90 [00:00<00:00, 75.89it/s]\u001b[A\n",
            " 29%|██▉       | 26/90 [00:00<00:00, 83.02it/s]\u001b[A\n",
            " 40%|████      | 36/90 [00:00<00:00, 86.52it/s]\u001b[A\n",
            " 50%|█████     | 45/90 [00:00<00:00, 84.77it/s]\u001b[A\n",
            " 60%|██████    | 54/90 [00:00<00:00, 82.60it/s]\u001b[A\n",
            " 70%|███████   | 63/90 [00:00<00:00, 82.20it/s]\u001b[A\n",
            " 81%|████████  | 73/90 [00:00<00:00, 85.33it/s]\u001b[A\n",
            "100%|██████████| 90/90 [00:01<00:00, 79.71it/s]\n"
          ]
        },
        {
          "metadata": {
            "tags": null
          },
          "name": "stdout",
          "output_type": "stream",
          "text": [
            "VAL MSE =  tensor(0.1678)\n"
          ]
        },
        {
          "metadata": {
            "tags": null
          },
          "name": "stderr",
          "output_type": "stream",
          "text": [
            "Epoch 1: Avg total Loss (4.71e-01) Avg MSE Loss (0.14) Avg SC Loss (0.8)): 100%|██████████| 360/360 [03:07<00:00,  1.92it/s]\n",
            "Epoch NA: Loss (NA) Accuracy (NA %):   0%|          | 0/360 [00:00<?, ?it/s]\n",
            "  0%|          | 0/90 [00:00<?, ?it/s]\u001b[A\n",
            "  8%|▊         | 7/90 [00:00<00:01, 62.88it/s]\u001b[A\n",
            " 18%|█▊        | 16/90 [00:00<00:00, 74.36it/s]\u001b[A\n",
            " 28%|██▊       | 25/90 [00:00<00:00, 77.67it/s]\u001b[A\n",
            " 38%|███▊      | 34/90 [00:00<00:00, 80.87it/s]\u001b[A\n",
            " 48%|████▊     | 43/90 [00:00<00:00, 80.55it/s]\u001b[A\n",
            " 58%|█████▊    | 52/90 [00:00<00:00, 80.21it/s]\u001b[A\n",
            " 68%|██████▊   | 61/90 [00:00<00:00, 78.20it/s]\u001b[A\n",
            " 78%|███████▊  | 70/90 [00:00<00:00, 80.26it/s]\u001b[A\n",
            " 88%|████████▊ | 79/90 [00:00<00:00, 81.53it/s]\u001b[A\n",
            "100%|██████████| 90/90 [00:01<00:00, 76.89it/s]\n"
          ]
        },
        {
          "metadata": {
            "tags": null
          },
          "name": "stdout",
          "output_type": "stream",
          "text": [
            "VAL MSE =  tensor(0.1552)\n"
          ]
        },
        {
          "metadata": {
            "tags": null
          },
          "name": "stderr",
          "output_type": "stream",
          "text": [
            "Epoch 2: Avg total Loss (4.67e-01) Avg MSE Loss (0.14) Avg SC Loss (0.79)): 100%|██████████| 360/360 [03:09<00:00,  1.90it/s]\n",
            "Epoch NA: Loss (NA) Accuracy (NA %):   0%|          | 0/360 [00:00<?, ?it/s]\n",
            "  0%|          | 0/90 [00:00<?, ?it/s]\u001b[A\n",
            "  8%|▊         | 7/90 [00:00<00:01, 65.25it/s]\u001b[A\n",
            " 17%|█▋        | 15/90 [00:00<00:01, 72.84it/s]\u001b[A\n",
            " 26%|██▌       | 23/90 [00:00<00:00, 73.57it/s]\u001b[A\n",
            " 36%|███▌      | 32/90 [00:00<00:00, 76.73it/s]\u001b[A\n",
            " 46%|████▌     | 41/90 [00:00<00:00, 79.42it/s]\u001b[A\n",
            " 54%|█████▍    | 49/90 [00:00<00:00, 78.49it/s]\u001b[A\n",
            " 64%|██████▍   | 58/90 [00:00<00:00, 80.12it/s]\u001b[A\n",
            " 74%|███████▍  | 67/90 [00:00<00:00, 80.72it/s]\u001b[A\n",
            " 84%|████████▍ | 76/90 [00:00<00:00, 82.39it/s]\u001b[A\n",
            "100%|██████████| 90/90 [00:01<00:00, 76.42it/s]\n"
          ]
        },
        {
          "metadata": {
            "tags": null
          },
          "name": "stdout",
          "output_type": "stream",
          "text": [
            "VAL MSE =  tensor(0.1359)\n"
          ]
        },
        {
          "metadata": {
            "tags": null
          },
          "name": "stderr",
          "output_type": "stream",
          "text": [
            "Epoch 3: Avg total Loss (4.57e-01) Avg MSE Loss (0.14) Avg SC Loss (0.77)): 100%|██████████| 360/360 [03:09<00:00,  1.90it/s]\n",
            "Epoch NA: Loss (NA) Accuracy (NA %):   0%|          | 0/360 [00:00<?, ?it/s]\n",
            "  0%|          | 0/90 [00:00<?, ?it/s]\u001b[A\n",
            "  8%|▊         | 7/90 [00:00<00:01, 68.93it/s]\u001b[A\n",
            " 18%|█▊        | 16/90 [00:00<00:00, 77.45it/s]\u001b[A\n",
            " 28%|██▊       | 25/90 [00:00<00:00, 79.66it/s]\u001b[A\n",
            " 38%|███▊      | 34/90 [00:00<00:00, 81.71it/s]\u001b[A\n",
            " 48%|████▊     | 43/90 [00:00<00:00, 82.13it/s]\u001b[A\n",
            " 58%|█████▊    | 52/90 [00:00<00:00, 82.75it/s]\u001b[A\n",
            " 68%|██████▊   | 61/90 [00:00<00:00, 83.48it/s]\u001b[A\n",
            " 78%|███████▊  | 70/90 [00:00<00:00, 82.96it/s]\u001b[A\n",
            " 88%|████████▊ | 79/90 [00:00<00:00, 81.95it/s]\u001b[A\n",
            "100%|██████████| 90/90 [00:01<00:00, 77.57it/s]\n"
          ]
        },
        {
          "metadata": {
            "tags": null
          },
          "name": "stdout",
          "output_type": "stream",
          "text": [
            "VAL MSE =  tensor(0.1782)\n"
          ]
        },
        {
          "metadata": {
            "tags": null
          },
          "name": "stderr",
          "output_type": "stream",
          "text": [
            "Epoch 4: Avg total Loss (4.50e-01) Avg MSE Loss (0.14) Avg SC Loss (0.76)): 100%|██████████| 360/360 [03:09<00:00,  1.90it/s]\n",
            "Epoch NA: Loss (NA) Accuracy (NA %):   0%|          | 0/360 [00:00<?, ?it/s]\n",
            "  0%|          | 0/90 [00:00<?, ?it/s]\u001b[A\n",
            "  8%|▊         | 7/90 [00:00<00:01, 64.70it/s]\u001b[A\n",
            " 18%|█▊        | 16/90 [00:00<00:00, 75.73it/s]\u001b[A\n",
            " 28%|██▊       | 25/90 [00:00<00:00, 79.31it/s]\u001b[A\n",
            " 37%|███▋      | 33/90 [00:00<00:00, 78.90it/s]\u001b[A\n",
            " 47%|████▋     | 42/90 [00:00<00:00, 81.52it/s]\u001b[A\n",
            " 57%|█████▋    | 51/90 [00:00<00:00, 82.45it/s]\u001b[A\n",
            " 67%|██████▋   | 60/90 [00:00<00:00, 82.92it/s]\u001b[A\n",
            " 77%|███████▋  | 69/90 [00:00<00:00, 83.16it/s]\u001b[A\n",
            " 88%|████████▊ | 79/90 [00:00<00:00, 85.95it/s]\u001b[A\n",
            "100%|██████████| 90/90 [00:01<00:00, 78.83it/s]\n"
          ]
        },
        {
          "metadata": {
            "tags": null
          },
          "name": "stdout",
          "output_type": "stream",
          "text": [
            "VAL MSE =  tensor(0.1858)\n"
          ]
        },
        {
          "metadata": {
            "tags": null
          },
          "name": "stderr",
          "output_type": "stream",
          "text": [
            "Epoch 5: Avg total Loss (4.47e-01) Avg MSE Loss (0.14) Avg SC Loss (0.76)): 100%|██████████| 360/360 [03:09<00:00,  1.90it/s]\n",
            "Epoch NA: Loss (NA) Accuracy (NA %):   0%|          | 0/360 [00:00<?, ?it/s]\n",
            "  0%|          | 0/90 [00:00<?, ?it/s]\u001b[A\n",
            "  8%|▊         | 7/90 [00:00<00:01, 69.13it/s]\u001b[A\n",
            " 18%|█▊        | 16/90 [00:00<00:00, 77.82it/s]\u001b[A\n",
            " 27%|██▋       | 24/90 [00:00<00:00, 78.39it/s]\u001b[A\n",
            " 36%|███▌      | 32/90 [00:00<00:00, 77.24it/s]\u001b[A\n",
            " 46%|████▌     | 41/90 [00:00<00:00, 80.11it/s]\u001b[A\n",
            " 56%|█████▌    | 50/90 [00:00<00:00, 83.31it/s]\u001b[A\n",
            " 66%|██████▌   | 59/90 [00:00<00:00, 85.19it/s]\u001b[A\n",
            " 77%|███████▋  | 69/90 [00:00<00:00, 87.04it/s]\u001b[A\n",
            " 87%|████████▋ | 78/90 [00:00<00:00, 87.31it/s]\u001b[A\n",
            "100%|██████████| 90/90 [00:01<00:00, 79.46it/s]\n"
          ]
        },
        {
          "metadata": {
            "tags": null
          },
          "name": "stdout",
          "output_type": "stream",
          "text": [
            "VAL MSE =  tensor(0.1785)\n"
          ]
        },
        {
          "metadata": {
            "tags": null
          },
          "name": "stderr",
          "output_type": "stream",
          "text": [
            "Epoch 6: Avg total Loss (4.43e-01) Avg MSE Loss (0.14) Avg SC Loss (0.75)): 100%|██████████| 360/360 [03:09<00:00,  1.90it/s]\n",
            "Epoch NA: Loss (NA) Accuracy (NA %):   0%|          | 0/360 [00:00<?, ?it/s]\n",
            "  0%|          | 0/90 [00:00<?, ?it/s]\u001b[A\n",
            "  8%|▊         | 7/90 [00:00<00:01, 67.54it/s]\u001b[A\n",
            " 18%|█▊        | 16/90 [00:00<00:00, 78.60it/s]\u001b[A\n",
            " 28%|██▊       | 25/90 [00:00<00:00, 81.40it/s]\u001b[A\n",
            " 38%|███▊      | 34/90 [00:00<00:00, 81.83it/s]\u001b[A\n",
            " 48%|████▊     | 43/90 [00:00<00:00, 81.05it/s]\u001b[A\n",
            " 58%|█████▊    | 52/90 [00:00<00:00, 83.09it/s]\u001b[A\n",
            " 68%|██████▊   | 61/90 [00:00<00:00, 82.77it/s]\u001b[A\n",
            " 78%|███████▊  | 70/90 [00:00<00:00, 82.18it/s]\u001b[A\n",
            " 88%|████████▊ | 79/90 [00:00<00:00, 81.08it/s]\u001b[A\n",
            "100%|██████████| 90/90 [00:01<00:00, 76.91it/s]\n"
          ]
        },
        {
          "metadata": {
            "tags": null
          },
          "name": "stdout",
          "output_type": "stream",
          "text": [
            "VAL MSE =  tensor(0.1666)\n"
          ]
        },
        {
          "output_type": "stream",
          "name": "stderr",
          "text": [
            "Epoch 7: Avg total Loss (4.33e-01) Avg MSE Loss (0.13) Avg SC Loss (0.73)): 100%|██████████| 360/360 [03:09<00:00,  1.90it/s]\n",
            "Epoch NA: Loss (NA) Accuracy (NA %):   0%|          | 0/360 [00:00<?, ?it/s]\n",
            "  0%|          | 0/90 [00:00<?, ?it/s]\u001b[A\n",
            "  8%|▊         | 7/90 [00:00<00:01, 66.99it/s]\u001b[A\n",
            " 18%|█▊        | 16/90 [00:00<00:00, 75.71it/s]\u001b[A\n",
            " 28%|██▊       | 25/90 [00:00<00:00, 79.22it/s]\u001b[A\n",
            " 38%|███▊      | 34/90 [00:00<00:00, 80.76it/s]\u001b[A\n",
            " 48%|████▊     | 43/90 [00:00<00:00, 80.54it/s]\u001b[A\n",
            " 58%|█████▊    | 52/90 [00:00<00:00, 78.95it/s]\u001b[A\n",
            " 68%|██████▊   | 61/90 [00:00<00:00, 80.73it/s]\u001b[A\n",
            " 78%|███████▊  | 70/90 [00:00<00:00, 82.99it/s]\u001b[A\n",
            " 88%|████████▊ | 79/90 [00:00<00:00, 84.18it/s]\u001b[A\n",
            "100%|██████████| 90/90 [00:01<00:00, 76.90it/s]\n"
          ]
        },
        {
          "output_type": "stream",
          "name": "stdout",
          "text": [
            "VAL MSE =  tensor(0.1824)\n"
          ]
        },
        {
          "output_type": "stream",
          "name": "stderr",
          "text": [
            "Epoch 8: Avg total Loss (4.25e-01) Avg MSE Loss (0.13) Avg SC Loss (0.72)): 100%|██████████| 360/360 [03:10<00:00,  1.89it/s]\n",
            "Epoch NA: Loss (NA) Accuracy (NA %):   0%|          | 0/360 [00:00<?, ?it/s]\n",
            "  0%|          | 0/90 [00:00<?, ?it/s]\u001b[A\n",
            "  9%|▉         | 8/90 [00:00<00:01, 74.62it/s]\u001b[A\n",
            " 19%|█▉        | 17/90 [00:00<00:00, 82.30it/s]\u001b[A\n",
            " 29%|██▉       | 26/90 [00:00<00:00, 81.46it/s]\u001b[A\n",
            " 39%|███▉      | 35/90 [00:00<00:00, 82.37it/s]\u001b[A\n",
            " 49%|████▉     | 44/90 [00:00<00:00, 81.65it/s]\u001b[A\n",
            " 59%|█████▉    | 53/90 [00:00<00:00, 80.25it/s]\u001b[A\n",
            " 69%|██████▉   | 62/90 [00:00<00:00, 80.39it/s]\u001b[A\n",
            " 79%|███████▉  | 71/90 [00:00<00:00, 80.70it/s]\u001b[A\n",
            " 89%|████████▉ | 80/90 [00:00<00:00, 81.81it/s]\u001b[A\n",
            "100%|██████████| 90/90 [00:01<00:00, 77.66it/s]\n"
          ]
        },
        {
          "output_type": "stream",
          "name": "stdout",
          "text": [
            "VAL MSE =  tensor(0.1586)\n"
          ]
        },
        {
          "output_type": "stream",
          "name": "stderr",
          "text": [
            "Epoch 9: Avg total Loss (4.23e-01) Avg MSE Loss (0.13) Avg SC Loss (0.72)): 100%|██████████| 360/360 [03:09<00:00,  1.90it/s]\n"
          ]
        }
      ]
    },
    {
      "cell_type": "code",
      "source": [
        "for epoch in range(num_epochs):\n",
        "    #print('Epoch: {}\\tValidation Accuracy: {:.4f}%'.format(epoch, evaluate(val_loader, net) * 100))\n",
        "    train(train_dataloader, val_dataloader , u_net_model, optim, epoch, cnn, normalization_mean=cnn_normalization_mean, normalization_std=cnn_normalization_std, alpha=0.25)\n",
        "    if ((epoch+1)%5==0):\n",
        "      torch.save(u_net_model.state_dict(), 'u_net_alpha_0.25.pt') ; "
      ],
      "metadata": {
        "colab": {
          "base_uri": "https://localhost:8080/"
        },
        "id": "z9WMUIVKEnJj",
        "outputId": "6310e8f6-72dd-40b7-ea4b-4adbb5f7c118"
      },
      "execution_count": null,
      "outputs": [
        {
          "metadata": {
            "tags": null
          },
          "name": "stderr",
          "output_type": "stream",
          "text": [
            "Epoch NA: Loss (NA) Accuracy (NA %):   0%|          | 0/400 [00:00<?, ?it/s]\n",
            "  0%|          | 0/100 [00:00<?, ?it/s]\u001b[A\n",
            "  2%|▏         | 2/100 [00:00<00:05, 18.08it/s]\u001b[A\n",
            "  6%|▌         | 6/100 [00:00<00:03, 29.32it/s]\u001b[A\n",
            " 10%|█         | 10/100 [00:00<00:02, 33.98it/s]\u001b[A\n",
            " 14%|█▍        | 14/100 [00:00<00:02, 36.07it/s]\u001b[A\n",
            " 19%|█▉        | 19/100 [00:00<00:02, 38.05it/s]\u001b[A\n",
            " 24%|██▍       | 24/100 [00:00<00:01, 39.11it/s]\u001b[A\n",
            " 29%|██▉       | 29/100 [00:00<00:01, 39.71it/s]\u001b[A\n",
            " 34%|███▍      | 34/100 [00:00<00:01, 40.08it/s]\u001b[A\n",
            " 39%|███▉      | 39/100 [00:01<00:01, 40.51it/s]\u001b[A\n",
            " 44%|████▍     | 44/100 [00:01<00:01, 40.50it/s]\u001b[A\n",
            " 49%|████▉     | 49/100 [00:01<00:01, 40.36it/s]\u001b[A\n",
            " 54%|█████▍    | 54/100 [00:01<00:01, 40.35it/s]\u001b[A\n",
            " 59%|█████▉    | 59/100 [00:01<00:01, 40.06it/s]\u001b[A\n",
            " 64%|██████▍   | 64/100 [00:01<00:00, 40.36it/s]\u001b[A\n",
            " 69%|██████▉   | 69/100 [00:01<00:00, 39.84it/s]\u001b[A\n",
            " 73%|███████▎  | 73/100 [00:01<00:00, 39.80it/s]\u001b[A\n",
            " 78%|███████▊  | 78/100 [00:02<00:00, 40.33it/s]\u001b[A\n",
            " 83%|████████▎ | 83/100 [00:02<00:00, 40.37it/s]\u001b[A\n",
            " 88%|████████▊ | 88/100 [00:02<00:00, 40.28it/s]\u001b[A\n",
            " 93%|█████████▎| 93/100 [00:02<00:00, 40.28it/s]\u001b[A\n",
            "100%|██████████| 100/100 [00:02<00:00, 37.53it/s]\n",
            "/usr/local/lib/python3.7/dist-packages/ipykernel_launcher.py:15: UserWarning: To copy construct from a tensor, it is recommended to use sourceTensor.clone().detach() or sourceTensor.clone().detach().requires_grad_(True), rather than torch.tensor(sourceTensor).\n",
            "  from ipykernel import kernelapp as app\n",
            "/usr/local/lib/python3.7/dist-packages/ipykernel_launcher.py:16: UserWarning: To copy construct from a tensor, it is recommended to use sourceTensor.clone().detach() or sourceTensor.clone().detach().requires_grad_(True), rather than torch.tensor(sourceTensor).\n",
            "  app.launch_new_instance()\n"
          ]
        },
        {
          "metadata": {
            "tags": null
          },
          "name": "stdout",
          "output_type": "stream",
          "text": [
            "VAL MSE =  tensor(0.6055)\n"
          ]
        },
        {
          "metadata": {
            "tags": null
          },
          "name": "stderr",
          "output_type": "stream",
          "text": [
            "Epoch 0: Avg total Loss (1.67e+00) Avg MSE Loss (0.82) Avg SC Loss (2)): 100%|██████████| 400/400 [07:20<00:00,  1.10s/it]\n",
            "Epoch NA: Loss (NA) Accuracy (NA %):   0%|          | 0/400 [00:00<?, ?it/s]\n",
            "  0%|          | 0/100 [00:00<?, ?it/s]\u001b[A\n",
            "  3%|▎         | 3/100 [00:00<00:03, 26.47it/s]\u001b[A\n",
            "  7%|▋         | 7/100 [00:00<00:02, 32.51it/s]\u001b[A\n",
            " 11%|█         | 11/100 [00:00<00:02, 35.66it/s]\u001b[A\n",
            " 15%|█▌        | 15/100 [00:00<00:02, 37.24it/s]\u001b[A\n",
            " 20%|██        | 20/100 [00:00<00:02, 39.02it/s]\u001b[A\n",
            " 25%|██▌       | 25/100 [00:00<00:01, 39.59it/s]\u001b[A\n",
            " 29%|██▉       | 29/100 [00:00<00:01, 39.34it/s]\u001b[A\n",
            " 34%|███▍      | 34/100 [00:00<00:01, 40.12it/s]\u001b[A\n",
            " 39%|███▉      | 39/100 [00:01<00:01, 40.64it/s]\u001b[A\n",
            " 44%|████▍     | 44/100 [00:01<00:01, 40.94it/s]\u001b[A\n",
            " 49%|████▉     | 49/100 [00:01<00:01, 40.93it/s]\u001b[A\n",
            " 54%|█████▍    | 54/100 [00:01<00:01, 39.42it/s]\u001b[A\n",
            " 58%|█████▊    | 58/100 [00:01<00:01, 39.53it/s]\u001b[A\n",
            " 62%|██████▏   | 62/100 [00:01<00:00, 39.46it/s]\u001b[A\n",
            " 67%|██████▋   | 67/100 [00:01<00:00, 40.20it/s]\u001b[A\n",
            " 72%|███████▏  | 72/100 [00:01<00:00, 40.40it/s]\u001b[A\n",
            " 77%|███████▋  | 77/100 [00:01<00:00, 40.89it/s]\u001b[A\n",
            " 82%|████████▏ | 82/100 [00:02<00:00, 40.86it/s]\u001b[A\n",
            " 87%|████████▋ | 87/100 [00:02<00:00, 41.04it/s]\u001b[A\n",
            " 92%|█████████▏| 92/100 [00:02<00:00, 40.14it/s]\u001b[A\n",
            "100%|██████████| 100/100 [00:02<00:00, 37.94it/s]\n"
          ]
        },
        {
          "metadata": {
            "tags": null
          },
          "name": "stdout",
          "output_type": "stream",
          "text": [
            "VAL MSE =  tensor(0.7084)\n"
          ]
        },
        {
          "metadata": {
            "tags": null
          },
          "name": "stderr",
          "output_type": "stream",
          "text": [
            "Epoch 1: Avg total Loss (1.67e+00) Avg MSE Loss (0.82) Avg SC Loss (2)): 100%|██████████| 400/400 [07:20<00:00,  1.10s/it]\n",
            "Epoch NA: Loss (NA) Accuracy (NA %):   0%|          | 0/400 [00:00<?, ?it/s]\n",
            "  0%|          | 0/100 [00:00<?, ?it/s]\u001b[A\n",
            "  2%|▏         | 2/100 [00:00<00:04, 19.77it/s]\u001b[A\n",
            "  7%|▋         | 7/100 [00:00<00:02, 33.39it/s]\u001b[A\n",
            " 12%|█▏        | 12/100 [00:00<00:02, 37.44it/s]\u001b[A\n",
            " 16%|█▌        | 16/100 [00:00<00:02, 37.94it/s]\u001b[A\n",
            " 20%|██        | 20/100 [00:00<00:02, 38.24it/s]\u001b[A\n",
            " 24%|██▍       | 24/100 [00:00<00:01, 38.36it/s]\u001b[A\n",
            " 28%|██▊       | 28/100 [00:00<00:01, 38.76it/s]\u001b[A\n",
            " 32%|███▏      | 32/100 [00:00<00:01, 38.42it/s]\u001b[A\n",
            " 36%|███▌      | 36/100 [00:00<00:01, 38.21it/s]\u001b[A\n",
            " 40%|████      | 40/100 [00:01<00:01, 37.28it/s]\u001b[A\n",
            " 44%|████▍     | 44/100 [00:01<00:01, 37.77it/s]\u001b[A\n",
            " 48%|████▊     | 48/100 [00:01<00:01, 38.13it/s]\u001b[A\n",
            " 53%|█████▎    | 53/100 [00:01<00:01, 39.12it/s]\u001b[A\n",
            " 57%|█████▋    | 57/100 [00:01<00:01, 38.89it/s]\u001b[A\n",
            " 61%|██████    | 61/100 [00:01<00:00, 39.11it/s]\u001b[A\n",
            " 65%|██████▌   | 65/100 [00:01<00:00, 39.26it/s]\u001b[A\n",
            " 69%|██████▉   | 69/100 [00:01<00:00, 38.94it/s]\u001b[A\n",
            " 74%|███████▍  | 74/100 [00:01<00:00, 39.72it/s]\u001b[A\n",
            " 79%|███████▉  | 79/100 [00:02<00:00, 40.12it/s]\u001b[A\n",
            " 84%|████████▍ | 84/100 [00:02<00:00, 39.84it/s]\u001b[A\n",
            " 89%|████████▉ | 89/100 [00:02<00:00, 40.37it/s]\u001b[A\n",
            " 94%|█████████▍| 94/100 [00:02<00:00, 40.79it/s]\u001b[A\n",
            "100%|██████████| 100/100 [00:02<00:00, 37.07it/s]\n"
          ]
        },
        {
          "metadata": {
            "tags": null
          },
          "name": "stdout",
          "output_type": "stream",
          "text": [
            "VAL MSE =  tensor(0.7550)\n"
          ]
        },
        {
          "metadata": {
            "tags": null
          },
          "name": "stderr",
          "output_type": "stream",
          "text": [
            "Epoch 2: Avg total Loss (1.67e+00) Avg MSE Loss (0.82) Avg SC Loss (2)): 100%|██████████| 400/400 [07:20<00:00,  1.10s/it]\n",
            "Epoch NA: Loss (NA) Accuracy (NA %):   0%|          | 0/400 [00:00<?, ?it/s]\n",
            "  0%|          | 0/100 [00:00<?, ?it/s]\u001b[A\n",
            "  2%|▏         | 2/100 [00:00<00:05, 19.49it/s]\u001b[A\n",
            "  7%|▋         | 7/100 [00:00<00:02, 32.90it/s]\u001b[A\n",
            " 11%|█         | 11/100 [00:00<00:02, 35.57it/s]\u001b[A\n",
            " 16%|█▌        | 16/100 [00:00<00:02, 38.02it/s]\u001b[A\n",
            " 21%|██        | 21/100 [00:00<00:02, 39.22it/s]\u001b[A\n",
            " 25%|██▌       | 25/100 [00:00<00:01, 39.09it/s]\u001b[A\n",
            " 30%|███       | 30/100 [00:00<00:01, 39.51it/s]\u001b[A\n",
            " 34%|███▍      | 34/100 [00:00<00:01, 38.93it/s]\u001b[A\n",
            " 38%|███▊      | 38/100 [00:01<00:01, 39.15it/s]\u001b[A\n",
            " 42%|████▏     | 42/100 [00:01<00:01, 39.02it/s]\u001b[A\n",
            " 47%|████▋     | 47/100 [00:01<00:01, 39.79it/s]\u001b[A\n",
            " 51%|█████     | 51/100 [00:01<00:01, 39.36it/s]\u001b[A\n",
            " 55%|█████▌    | 55/100 [00:01<00:01, 39.42it/s]\u001b[A\n",
            " 59%|█████▉    | 59/100 [00:01<00:01, 39.12it/s]\u001b[A\n",
            " 63%|██████▎   | 63/100 [00:01<00:00, 38.90it/s]\u001b[A\n",
            " 67%|██████▋   | 67/100 [00:01<00:00, 37.78it/s]\u001b[A\n",
            " 72%|███████▏  | 72/100 [00:01<00:00, 39.14it/s]\u001b[A\n",
            " 77%|███████▋  | 77/100 [00:01<00:00, 39.74it/s]\u001b[A\n",
            " 82%|████████▏ | 82/100 [00:02<00:00, 39.94it/s]\u001b[A\n",
            " 86%|████████▌ | 86/100 [00:02<00:00, 39.82it/s]\u001b[A\n",
            " 91%|█████████ | 91/100 [00:02<00:00, 39.99it/s]\u001b[A\n",
            " 95%|█████████▌| 95/100 [00:02<00:00, 39.38it/s]\u001b[A\n",
            "100%|██████████| 100/100 [00:02<00:00, 36.90it/s]\n"
          ]
        },
        {
          "metadata": {
            "tags": null
          },
          "name": "stdout",
          "output_type": "stream",
          "text": [
            "VAL MSE =  tensor(0.7230)\n"
          ]
        },
        {
          "metadata": {
            "tags": null
          },
          "name": "stderr",
          "output_type": "stream",
          "text": [
            "Epoch 3: Avg total Loss (1.67e+00) Avg MSE Loss (0.82) Avg SC Loss (2)): 100%|██████████| 400/400 [07:20<00:00,  1.10s/it]\n",
            "Epoch NA: Loss (NA) Accuracy (NA %):   0%|          | 0/400 [00:00<?, ?it/s]\n",
            "  0%|          | 0/100 [00:00<?, ?it/s]\u001b[A\n",
            "  2%|▏         | 2/100 [00:00<00:05, 18.37it/s]\u001b[A\n",
            "  6%|▌         | 6/100 [00:00<00:03, 30.27it/s]\u001b[A\n",
            " 11%|█         | 11/100 [00:00<00:02, 35.87it/s]\u001b[A\n",
            " 15%|█▌        | 15/100 [00:00<00:02, 36.78it/s]\u001b[A\n",
            " 19%|█▉        | 19/100 [00:00<00:02, 37.48it/s]\u001b[A\n",
            " 24%|██▍       | 24/100 [00:00<00:01, 38.85it/s]\u001b[A\n",
            " 29%|██▉       | 29/100 [00:00<00:01, 39.36it/s]\u001b[A\n",
            " 33%|███▎      | 33/100 [00:00<00:01, 39.17it/s]\u001b[A\n",
            " 37%|███▋      | 37/100 [00:00<00:01, 38.97it/s]\u001b[A\n",
            " 41%|████      | 41/100 [00:01<00:01, 39.12it/s]\u001b[A\n",
            " 46%|████▌     | 46/100 [00:01<00:01, 39.73it/s]\u001b[A\n",
            " 50%|█████     | 50/100 [00:01<00:01, 39.73it/s]\u001b[A\n",
            " 55%|█████▌    | 55/100 [00:01<00:01, 40.39it/s]\u001b[A\n",
            " 60%|██████    | 60/100 [00:01<00:01, 39.61it/s]\u001b[A\n",
            " 64%|██████▍   | 64/100 [00:01<00:00, 39.55it/s]\u001b[A\n",
            " 69%|██████▉   | 69/100 [00:01<00:00, 39.99it/s]\u001b[A\n",
            " 74%|███████▍  | 74/100 [00:01<00:00, 40.34it/s]\u001b[A\n",
            " 79%|███████▉  | 79/100 [00:02<00:00, 40.54it/s]\u001b[A\n",
            " 84%|████████▍ | 84/100 [00:02<00:00, 40.92it/s]\u001b[A\n",
            " 89%|████████▉ | 89/100 [00:02<00:00, 41.11it/s]\u001b[A\n",
            " 94%|█████████▍| 94/100 [00:02<00:00, 40.69it/s]\u001b[A\n",
            "100%|██████████| 100/100 [00:02<00:00, 37.48it/s]\n"
          ]
        },
        {
          "metadata": {
            "tags": null
          },
          "name": "stdout",
          "output_type": "stream",
          "text": [
            "VAL MSE =  tensor(0.7246)\n"
          ]
        },
        {
          "metadata": {
            "tags": null
          },
          "name": "stderr",
          "output_type": "stream",
          "text": [
            "Epoch 4: Avg total Loss (1.67e+00) Avg MSE Loss (0.82) Avg SC Loss (2)): 100%|██████████| 400/400 [07:20<00:00,  1.10s/it]\n",
            "Epoch NA: Loss (NA) Accuracy (NA %):   0%|          | 0/400 [00:00<?, ?it/s]\n",
            "  0%|          | 0/100 [00:00<?, ?it/s]\u001b[A\n",
            "  2%|▏         | 2/100 [00:00<00:05, 18.90it/s]\u001b[A\n",
            "  6%|▌         | 6/100 [00:00<00:03, 30.10it/s]\u001b[A\n",
            " 11%|█         | 11/100 [00:00<00:02, 35.47it/s]\u001b[A\n",
            " 15%|█▌        | 15/100 [00:00<00:02, 36.88it/s]\u001b[A\n",
            " 19%|█▉        | 19/100 [00:00<00:02, 37.70it/s]\u001b[A\n",
            " 24%|██▍       | 24/100 [00:00<00:01, 39.14it/s]\u001b[A\n",
            " 28%|██▊       | 28/100 [00:00<00:01, 38.79it/s]\u001b[A\n",
            " 32%|███▏      | 32/100 [00:00<00:01, 39.06it/s]\u001b[A\n",
            " 36%|███▌      | 36/100 [00:00<00:01, 39.09it/s]\u001b[A\n",
            " 40%|████      | 40/100 [00:01<00:01, 39.11it/s]\u001b[A\n",
            " 45%|████▌     | 45/100 [00:01<00:01, 39.94it/s]\u001b[A\n",
            " 50%|█████     | 50/100 [00:01<00:01, 40.66it/s]\u001b[A\n",
            " 55%|█████▌    | 55/100 [00:01<00:01, 40.82it/s]\u001b[A\n",
            " 60%|██████    | 60/100 [00:01<00:00, 41.05it/s]\u001b[A\n",
            " 65%|██████▌   | 65/100 [00:01<00:00, 40.16it/s]\u001b[A\n",
            " 70%|███████   | 70/100 [00:01<00:00, 40.51it/s]\u001b[A\n",
            " 75%|███████▌  | 75/100 [00:01<00:00, 40.76it/s]\u001b[A\n",
            " 80%|████████  | 80/100 [00:02<00:00, 40.59it/s]\u001b[A\n",
            " 85%|████████▌ | 85/100 [00:02<00:00, 40.93it/s]\u001b[A\n",
            " 90%|█████████ | 90/100 [00:02<00:00, 40.77it/s]\u001b[A\n",
            " 95%|█████████▌| 95/100 [00:02<00:00, 40.73it/s]\u001b[A\n",
            "100%|██████████| 100/100 [00:02<00:00, 37.53it/s]\n"
          ]
        },
        {
          "metadata": {
            "tags": null
          },
          "name": "stdout",
          "output_type": "stream",
          "text": [
            "VAL MSE =  tensor(0.7568)\n"
          ]
        },
        {
          "metadata": {
            "tags": null
          },
          "name": "stderr",
          "output_type": "stream",
          "text": [
            "Epoch 5: Avg total Loss (1.67e+00) Avg MSE Loss (0.82) Avg SC Loss (2)): 100%|██████████| 400/400 [07:20<00:00,  1.10s/it]\n",
            "Epoch NA: Loss (NA) Accuracy (NA %):   0%|          | 0/400 [00:00<?, ?it/s]\n",
            "  0%|          | 0/100 [00:00<?, ?it/s]\u001b[A\n",
            "  2%|▏         | 2/100 [00:00<00:05, 18.59it/s]\u001b[A\n",
            "  7%|▋         | 7/100 [00:00<00:02, 32.35it/s]\u001b[A\n",
            " 11%|█         | 11/100 [00:00<00:02, 35.00it/s]\u001b[A\n",
            " 15%|█▌        | 15/100 [00:00<00:02, 35.62it/s]\u001b[A\n",
            " 19%|█▉        | 19/100 [00:00<00:02, 36.90it/s]\u001b[A\n",
            " 24%|██▍       | 24/100 [00:00<00:01, 38.46it/s]\u001b[A\n",
            " 28%|██▊       | 28/100 [00:00<00:01, 38.76it/s]\u001b[A\n",
            " 33%|███▎      | 33/100 [00:00<00:01, 38.94it/s]\u001b[A\n",
            " 38%|███▊      | 38/100 [00:01<00:01, 39.74it/s]\u001b[A\n",
            " 42%|████▏     | 42/100 [00:01<00:01, 39.32it/s]\u001b[A\n",
            " 46%|████▌     | 46/100 [00:01<00:01, 38.47it/s]\u001b[A\n",
            " 50%|█████     | 50/100 [00:01<00:01, 38.42it/s]\u001b[A\n",
            " 54%|█████▍    | 54/100 [00:01<00:01, 38.29it/s]\u001b[A\n",
            " 59%|█████▉    | 59/100 [00:01<00:01, 39.29it/s]\u001b[A\n",
            " 63%|██████▎   | 63/100 [00:01<00:00, 39.36it/s]\u001b[A\n",
            " 68%|██████▊   | 68/100 [00:01<00:00, 39.96it/s]\u001b[A\n",
            " 72%|███████▏  | 72/100 [00:01<00:00, 39.87it/s]\u001b[A\n",
            " 77%|███████▋  | 77/100 [00:02<00:00, 40.57it/s]\u001b[A\n",
            " 82%|████████▏ | 82/100 [00:02<00:00, 40.61it/s]\u001b[A\n",
            " 87%|████████▋ | 87/100 [00:02<00:00, 40.15it/s]\u001b[A\n",
            " 92%|█████████▏| 92/100 [00:02<00:00, 40.07it/s]\u001b[A\n",
            "100%|██████████| 100/100 [00:02<00:00, 37.12it/s]\n"
          ]
        },
        {
          "metadata": {
            "tags": null
          },
          "name": "stdout",
          "output_type": "stream",
          "text": [
            "VAL MSE =  tensor(0.7063)\n"
          ]
        },
        {
          "metadata": {
            "tags": null
          },
          "name": "stderr",
          "output_type": "stream",
          "text": [
            "Epoch 6: Avg total Loss (1.67e+00) Avg MSE Loss (0.82) Avg SC Loss (2)): 100%|██████████| 400/400 [07:20<00:00,  1.10s/it]\n",
            "Epoch NA: Loss (NA) Accuracy (NA %):   0%|          | 0/400 [00:00<?, ?it/s]\n",
            "  0%|          | 0/100 [00:00<?, ?it/s]\u001b[A\n",
            "  2%|▏         | 2/100 [00:00<00:05, 18.53it/s]\u001b[A\n",
            "  6%|▌         | 6/100 [00:00<00:03, 30.65it/s]\u001b[A\n",
            " 11%|█         | 11/100 [00:00<00:02, 35.83it/s]\u001b[A\n",
            " 15%|█▌        | 15/100 [00:00<00:02, 36.54it/s]\u001b[A\n",
            " 20%|██        | 20/100 [00:00<00:02, 38.31it/s]\u001b[A\n",
            " 25%|██▌       | 25/100 [00:00<00:01, 39.14it/s]\u001b[A\n",
            " 29%|██▉       | 29/100 [00:00<00:01, 39.18it/s]\u001b[A\n",
            " 34%|███▍      | 34/100 [00:00<00:01, 39.67it/s]\u001b[A\n",
            " 39%|███▉      | 39/100 [00:01<00:01, 40.34it/s]\u001b[A\n",
            " 44%|████▍     | 44/100 [00:01<00:01, 41.02it/s]\u001b[A\n",
            " 49%|████▉     | 49/100 [00:01<00:01, 41.48it/s]\u001b[A\n",
            " 54%|█████▍    | 54/100 [00:01<00:01, 41.53it/s]\u001b[A\n",
            " 59%|█████▉    | 59/100 [00:01<00:00, 41.55it/s]\u001b[A\n",
            " 64%|██████▍   | 64/100 [00:01<00:00, 41.57it/s]\u001b[A\n",
            " 69%|██████▉   | 69/100 [00:01<00:00, 41.10it/s]\u001b[A\n",
            " 74%|███████▍  | 74/100 [00:01<00:00, 41.00it/s]\u001b[A\n",
            " 79%|███████▉  | 79/100 [00:01<00:00, 40.54it/s]\u001b[A\n",
            " 84%|████████▍ | 84/100 [00:02<00:00, 40.38it/s]\u001b[A\n",
            " 89%|████████▉ | 89/100 [00:02<00:00, 40.78it/s]\u001b[A\n",
            " 94%|█████████▍| 94/100 [00:02<00:00, 40.94it/s]\u001b[A\n",
            "100%|██████████| 100/100 [00:02<00:00, 38.09it/s]\n"
          ]
        },
        {
          "metadata": {
            "tags": null
          },
          "name": "stdout",
          "output_type": "stream",
          "text": [
            "VAL MSE =  tensor(0.7299)\n"
          ]
        },
        {
          "metadata": {
            "tags": null
          },
          "name": "stderr",
          "output_type": "stream",
          "text": [
            "Epoch 7: Avg total Loss (1.67e+00) Avg MSE Loss (0.82) Avg SC Loss (2)): 100%|██████████| 400/400 [07:19<00:00,  1.10s/it]\n",
            "Epoch NA: Loss (NA) Accuracy (NA %):   0%|          | 0/400 [00:00<?, ?it/s]\n",
            "  0%|          | 0/100 [00:00<?, ?it/s]\u001b[A\n",
            "  3%|▎         | 3/100 [00:00<00:03, 26.03it/s]\u001b[A\n",
            "  7%|▋         | 7/100 [00:00<00:02, 33.60it/s]\u001b[A\n",
            " 12%|█▏        | 12/100 [00:00<00:02, 37.13it/s]\u001b[A\n",
            " 17%|█▋        | 17/100 [00:00<00:02, 39.05it/s]\u001b[A\n",
            " 21%|██        | 21/100 [00:00<00:02, 39.33it/s]\u001b[A\n",
            " 25%|██▌       | 25/100 [00:00<00:01, 39.44it/s]\u001b[A\n",
            " 30%|███       | 30/100 [00:00<00:01, 39.99it/s]\u001b[A\n",
            " 35%|███▌      | 35/100 [00:00<00:01, 40.36it/s]\u001b[A\n",
            " 40%|████      | 40/100 [00:01<00:01, 40.10it/s]\u001b[A\n",
            " 45%|████▌     | 45/100 [00:01<00:01, 40.52it/s]\u001b[A\n",
            " 50%|█████     | 50/100 [00:01<00:01, 40.45it/s]\u001b[A\n",
            " 55%|█████▌    | 55/100 [00:01<00:01, 40.92it/s]\u001b[A\n",
            " 60%|██████    | 60/100 [00:01<00:00, 41.12it/s]\u001b[A\n",
            " 65%|██████▌   | 65/100 [00:01<00:00, 41.25it/s]\u001b[A\n",
            " 70%|███████   | 70/100 [00:01<00:00, 41.02it/s]\u001b[A\n",
            " 75%|███████▌  | 75/100 [00:01<00:00, 40.58it/s]\u001b[A\n",
            " 80%|████████  | 80/100 [00:02<00:00, 40.82it/s]\u001b[A\n",
            " 85%|████████▌ | 85/100 [00:02<00:00, 40.87it/s]\u001b[A\n",
            " 90%|█████████ | 90/100 [00:02<00:00, 40.83it/s]\u001b[A\n",
            " 95%|█████████▌| 95/100 [00:02<00:00, 40.67it/s]\u001b[A\n",
            "100%|██████████| 100/100 [00:02<00:00, 38.18it/s]\n"
          ]
        },
        {
          "metadata": {
            "tags": null
          },
          "name": "stdout",
          "output_type": "stream",
          "text": [
            "VAL MSE =  tensor(0.7201)\n"
          ]
        },
        {
          "metadata": {
            "tags": null
          },
          "name": "stderr",
          "output_type": "stream",
          "text": [
            "Epoch 8: Avg total Loss (1.67e+00) Avg MSE Loss (0.82) Avg SC Loss (2)): 100%|██████████| 400/400 [07:20<00:00,  1.10s/it]\n",
            "Epoch NA: Loss (NA) Accuracy (NA %):   0%|          | 0/400 [00:00<?, ?it/s]\n",
            "  0%|          | 0/100 [00:00<?, ?it/s]\u001b[A\n",
            "  2%|▏         | 2/100 [00:00<00:05, 18.92it/s]\u001b[A\n",
            "  6%|▌         | 6/100 [00:00<00:03, 30.63it/s]\u001b[A\n",
            " 10%|█         | 10/100 [00:00<00:02, 34.51it/s]\u001b[A\n",
            " 15%|█▌        | 15/100 [00:00<00:02, 37.41it/s]\u001b[A\n",
            " 20%|██        | 20/100 [00:00<00:02, 38.66it/s]\u001b[A\n",
            " 25%|██▌       | 25/100 [00:00<00:01, 39.37it/s]\u001b[A\n",
            " 29%|██▉       | 29/100 [00:00<00:01, 39.17it/s]\u001b[A\n",
            " 33%|███▎      | 33/100 [00:00<00:01, 38.92it/s]\u001b[A\n",
            " 38%|███▊      | 38/100 [00:01<00:01, 39.84it/s]\u001b[A\n",
            " 42%|████▏     | 42/100 [00:01<00:01, 39.10it/s]\u001b[A\n",
            " 47%|████▋     | 47/100 [00:01<00:01, 39.94it/s]\u001b[A\n",
            " 52%|█████▏    | 52/100 [00:01<00:01, 40.38it/s]\u001b[A\n",
            " 57%|█████▋    | 57/100 [00:01<00:01, 39.26it/s]\u001b[A\n",
            " 61%|██████    | 61/100 [00:01<00:01, 38.78it/s]\u001b[A\n",
            " 65%|██████▌   | 65/100 [00:01<00:00, 38.06it/s]\u001b[A\n",
            " 69%|██████▉   | 69/100 [00:01<00:00, 38.16it/s]\u001b[A\n",
            " 73%|███████▎  | 73/100 [00:01<00:00, 38.19it/s]\u001b[A\n",
            " 77%|███████▋  | 77/100 [00:02<00:00, 38.44it/s]\u001b[A\n",
            " 81%|████████  | 81/100 [00:02<00:00, 38.68it/s]\u001b[A\n",
            " 85%|████████▌ | 85/100 [00:02<00:00, 38.28it/s]\u001b[A\n",
            " 90%|█████████ | 90/100 [00:02<00:00, 39.27it/s]\u001b[A\n",
            " 94%|█████████▍| 94/100 [00:02<00:00, 38.64it/s]\u001b[A\n",
            "100%|██████████| 100/100 [00:02<00:00, 36.68it/s]\n"
          ]
        },
        {
          "metadata": {
            "tags": null
          },
          "name": "stdout",
          "output_type": "stream",
          "text": [
            "VAL MSE =  tensor(0.7253)\n"
          ]
        },
        {
          "metadata": {
            "tags": null
          },
          "name": "stderr",
          "output_type": "stream",
          "text": [
            "Epoch 9: Avg total Loss (1.67e+00) Avg MSE Loss (0.82) Avg SC Loss (2)): 100%|██████████| 400/400 [07:20<00:00,  1.10s/it]\n",
            "Epoch NA: Loss (NA) Accuracy (NA %):   0%|          | 0/400 [00:00<?, ?it/s]\n",
            "  0%|          | 0/100 [00:00<?, ?it/s]\u001b[A\n",
            "  3%|▎         | 3/100 [00:00<00:03, 24.74it/s]\u001b[A\n",
            "  7%|▋         | 7/100 [00:00<00:02, 32.27it/s]\u001b[A\n",
            " 11%|█         | 11/100 [00:00<00:02, 34.78it/s]\u001b[A\n",
            " 15%|█▌        | 15/100 [00:00<00:02, 36.35it/s]\u001b[A\n",
            " 20%|██        | 20/100 [00:00<00:02, 38.04it/s]\u001b[A\n",
            " 25%|██▌       | 25/100 [00:00<00:01, 39.18it/s]\u001b[A\n",
            " 30%|███       | 30/100 [00:00<00:01, 39.93it/s]\u001b[A\n",
            " 34%|███▍      | 34/100 [00:00<00:01, 39.69it/s]\u001b[A\n",
            " 39%|███▉      | 39/100 [00:01<00:01, 40.13it/s]\u001b[A\n",
            " 44%|████▍     | 44/100 [00:01<00:01, 39.63it/s]\u001b[A\n",
            " 48%|████▊     | 48/100 [00:01<00:01, 39.53it/s]\u001b[A\n",
            " 52%|█████▏    | 52/100 [00:01<00:01, 39.55it/s]\u001b[A\n",
            " 56%|█████▌    | 56/100 [00:01<00:01, 39.66it/s]\u001b[A\n",
            " 60%|██████    | 60/100 [00:01<00:01, 39.51it/s]\u001b[A\n",
            " 64%|██████▍   | 64/100 [00:01<00:00, 39.33it/s]\u001b[A\n",
            " 68%|██████▊   | 68/100 [00:01<00:00, 39.25it/s]\u001b[A\n",
            " 73%|███████▎  | 73/100 [00:01<00:00, 39.96it/s]\u001b[A\n",
            " 77%|███████▋  | 77/100 [00:01<00:00, 39.95it/s]\u001b[A\n",
            " 82%|████████▏ | 82/100 [00:02<00:00, 40.43it/s]\u001b[A\n",
            " 87%|████████▋ | 87/100 [00:02<00:00, 40.28it/s]\u001b[A\n",
            " 92%|█████████▏| 92/100 [00:02<00:00, 40.15it/s]\u001b[A\n",
            "100%|██████████| 100/100 [00:02<00:00, 37.28it/s]\n"
          ]
        },
        {
          "metadata": {
            "tags": null
          },
          "name": "stdout",
          "output_type": "stream",
          "text": [
            "VAL MSE =  tensor(0.7078)\n"
          ]
        },
        {
          "metadata": {
            "tags": null
          },
          "name": "stderr",
          "output_type": "stream",
          "text": [
            "Epoch 10: Avg total Loss (1.67e+00) Avg MSE Loss (0.82) Avg SC Loss (2)): 100%|██████████| 400/400 [07:20<00:00,  1.10s/it]\n",
            "Epoch NA: Loss (NA) Accuracy (NA %):   0%|          | 0/400 [00:00<?, ?it/s]\n",
            "  0%|          | 0/100 [00:00<?, ?it/s]\u001b[A\n",
            "  2%|▏         | 2/100 [00:00<00:04, 19.85it/s]\u001b[A\n",
            "  6%|▌         | 6/100 [00:00<00:03, 31.19it/s]\u001b[A\n",
            " 10%|█         | 10/100 [00:00<00:02, 35.16it/s]\u001b[A\n",
            " 15%|█▌        | 15/100 [00:00<00:02, 38.13it/s]\u001b[A\n",
            " 19%|█▉        | 19/100 [00:00<00:02, 37.51it/s]\u001b[A\n",
            " 23%|██▎       | 23/100 [00:00<00:02, 37.92it/s]\u001b[A\n",
            " 27%|██▋       | 27/100 [00:00<00:01, 37.91it/s]\u001b[A\n",
            " 31%|███       | 31/100 [00:00<00:01, 37.75it/s]\u001b[A\n",
            " 35%|███▌      | 35/100 [00:00<00:01, 37.86it/s]\u001b[A\n",
            " 39%|███▉      | 39/100 [00:01<00:01, 38.05it/s]\u001b[A\n",
            " 43%|████▎     | 43/100 [00:01<00:01, 38.60it/s]\u001b[A\n",
            " 48%|████▊     | 48/100 [00:01<00:01, 39.39it/s]\u001b[A\n",
            " 52%|█████▏    | 52/100 [00:01<00:01, 38.53it/s]\u001b[A\n",
            " 56%|█████▌    | 56/100 [00:01<00:01, 38.91it/s]\u001b[A\n",
            " 61%|██████    | 61/100 [00:01<00:00, 39.58it/s]\u001b[A\n",
            " 65%|██████▌   | 65/100 [00:01<00:00, 39.26it/s]\u001b[A\n",
            " 70%|███████   | 70/100 [00:01<00:00, 39.81it/s]\u001b[A\n",
            " 74%|███████▍  | 74/100 [00:01<00:00, 39.83it/s]\u001b[A\n",
            " 78%|███████▊  | 78/100 [00:02<00:00, 39.79it/s]\u001b[A\n",
            " 83%|████████▎ | 83/100 [00:02<00:00, 39.91it/s]\u001b[A\n",
            " 87%|████████▋ | 87/100 [00:02<00:00, 39.90it/s]\u001b[A\n",
            " 92%|█████████▏| 92/100 [00:02<00:00, 40.38it/s]\u001b[A\n",
            "100%|██████████| 100/100 [00:02<00:00, 37.11it/s]\n"
          ]
        },
        {
          "metadata": {
            "tags": null
          },
          "name": "stdout",
          "output_type": "stream",
          "text": [
            "VAL MSE =  tensor(0.7267)\n"
          ]
        },
        {
          "metadata": {
            "tags": null
          },
          "name": "stderr",
          "output_type": "stream",
          "text": [
            "Epoch 11: Avg total Loss (1.67e+00) Avg MSE Loss (0.82) Avg SC Loss (2)): 100%|██████████| 400/400 [07:20<00:00,  1.10s/it]\n",
            "Epoch NA: Loss (NA) Accuracy (NA %):   0%|          | 0/400 [00:00<?, ?it/s]\n",
            "  0%|          | 0/100 [00:00<?, ?it/s]\u001b[A\n",
            "  3%|▎         | 3/100 [00:00<00:03, 25.76it/s]\u001b[A\n",
            "  8%|▊         | 8/100 [00:00<00:02, 35.35it/s]\u001b[A\n",
            " 13%|█▎        | 13/100 [00:00<00:02, 37.97it/s]\u001b[A\n",
            " 17%|█▋        | 17/100 [00:00<00:02, 38.45it/s]\u001b[A\n",
            " 21%|██        | 21/100 [00:00<00:02, 38.07it/s]\u001b[A\n",
            " 25%|██▌       | 25/100 [00:00<00:01, 38.67it/s]\u001b[A\n",
            " 30%|███       | 30/100 [00:00<00:01, 39.49it/s]\u001b[A\n",
            " 35%|███▌      | 35/100 [00:00<00:01, 40.24it/s]\u001b[A\n",
            " 40%|████      | 40/100 [00:01<00:01, 39.61it/s]\u001b[A\n",
            " 44%|████▍     | 44/100 [00:01<00:01, 39.17it/s]\u001b[A\n",
            " 48%|████▊     | 48/100 [00:01<00:01, 39.32it/s]\u001b[A\n",
            " 52%|█████▏    | 52/100 [00:01<00:01, 39.39it/s]\u001b[A\n",
            " 57%|█████▋    | 57/100 [00:01<00:01, 40.15it/s]\u001b[A\n",
            " 62%|██████▏   | 62/100 [00:01<00:00, 40.22it/s]\u001b[A\n",
            " 67%|██████▋   | 67/100 [00:01<00:00, 40.09it/s]\u001b[A\n",
            " 72%|███████▏  | 72/100 [00:01<00:00, 39.74it/s]\u001b[A\n",
            " 76%|███████▌  | 76/100 [00:01<00:00, 39.80it/s]\u001b[A\n",
            " 80%|████████  | 80/100 [00:02<00:00, 39.84it/s]\u001b[A\n",
            " 85%|████████▌ | 85/100 [00:02<00:00, 40.48it/s]\u001b[A\n",
            " 90%|█████████ | 90/100 [00:02<00:00, 40.55it/s]\u001b[A\n",
            " 95%|█████████▌| 95/100 [00:02<00:00, 40.01it/s]\u001b[A\n",
            "100%|██████████| 100/100 [00:02<00:00, 37.53it/s]\n"
          ]
        },
        {
          "metadata": {
            "tags": null
          },
          "name": "stdout",
          "output_type": "stream",
          "text": [
            "VAL MSE =  tensor(0.7092)\n"
          ]
        },
        {
          "metadata": {
            "tags": null
          },
          "name": "stderr",
          "output_type": "stream",
          "text": [
            "Epoch 12: Avg total Loss (1.67e+00) Avg MSE Loss (0.82) Avg SC Loss (2)): 100%|██████████| 400/400 [07:20<00:00,  1.10s/it]\n",
            "Epoch NA: Loss (NA) Accuracy (NA %):   0%|          | 0/400 [00:00<?, ?it/s]\n",
            "  0%|          | 0/100 [00:00<?, ?it/s]\u001b[A\n",
            "  2%|▏         | 2/100 [00:00<00:05, 19.53it/s]\u001b[A\n",
            "  6%|▌         | 6/100 [00:00<00:03, 30.73it/s]\u001b[A\n",
            " 11%|█         | 11/100 [00:00<00:02, 35.65it/s]\u001b[A\n",
            " 16%|█▌        | 16/100 [00:00<00:02, 37.99it/s]\u001b[A\n",
            " 21%|██        | 21/100 [00:00<00:02, 39.38it/s]\u001b[A\n",
            " 25%|██▌       | 25/100 [00:00<00:01, 38.81it/s]\u001b[A\n",
            " 30%|███       | 30/100 [00:00<00:01, 39.54it/s]\u001b[A\n",
            " 35%|███▌      | 35/100 [00:00<00:01, 40.23it/s]\u001b[A\n",
            " 40%|████      | 40/100 [00:01<00:01, 40.72it/s]\u001b[A\n",
            " 45%|████▌     | 45/100 [00:01<00:01, 40.90it/s]\u001b[A\n",
            " 50%|█████     | 50/100 [00:01<00:01, 40.28it/s]\u001b[A\n",
            " 55%|█████▌    | 55/100 [00:01<00:01, 40.57it/s]\u001b[A\n",
            " 60%|██████    | 60/100 [00:01<00:00, 40.37it/s]\u001b[A\n",
            " 65%|██████▌   | 65/100 [00:01<00:00, 39.58it/s]\u001b[A\n",
            " 70%|███████   | 70/100 [00:01<00:00, 39.96it/s]\u001b[A\n",
            " 75%|███████▌  | 75/100 [00:01<00:00, 40.39it/s]\u001b[A\n",
            " 80%|████████  | 80/100 [00:02<00:00, 40.13it/s]\u001b[A\n",
            " 85%|████████▌ | 85/100 [00:02<00:00, 40.29it/s]\u001b[A\n",
            " 90%|█████████ | 90/100 [00:02<00:00, 39.80it/s]\u001b[A\n",
            " 94%|█████████▍| 94/100 [00:02<00:00, 39.59it/s]\u001b[A\n",
            "100%|██████████| 100/100 [00:02<00:00, 37.57it/s]\n"
          ]
        },
        {
          "metadata": {
            "tags": null
          },
          "name": "stdout",
          "output_type": "stream",
          "text": [
            "VAL MSE =  tensor(0.7217)\n"
          ]
        },
        {
          "metadata": {
            "tags": null
          },
          "name": "stderr",
          "output_type": "stream",
          "text": [
            "Epoch 13: Avg total Loss (1.67e+00) Avg MSE Loss (0.82) Avg SC Loss (2)): 100%|██████████| 400/400 [07:20<00:00,  1.10s/it]\n",
            "Epoch NA: Loss (NA) Accuracy (NA %):   0%|          | 0/400 [00:00<?, ?it/s]\n",
            "  0%|          | 0/100 [00:00<?, ?it/s]\u001b[A\n",
            "  3%|▎         | 3/100 [00:00<00:03, 24.69it/s]\u001b[A\n",
            "  8%|▊         | 8/100 [00:00<00:02, 34.20it/s]\u001b[A\n",
            " 13%|█▎        | 13/100 [00:00<00:02, 37.18it/s]\u001b[A\n",
            " 17%|█▋        | 17/100 [00:00<00:02, 37.40it/s]\u001b[A\n",
            " 22%|██▏       | 22/100 [00:00<00:01, 39.05it/s]\u001b[A\n",
            " 27%|██▋       | 27/100 [00:00<00:01, 39.84it/s]\u001b[A\n",
            " 31%|███       | 31/100 [00:00<00:01, 39.31it/s]\u001b[A\n",
            " 36%|███▌      | 36/100 [00:00<00:01, 39.88it/s]\u001b[A\n",
            " 40%|████      | 40/100 [00:01<00:01, 39.72it/s]\u001b[A\n",
            " 45%|████▌     | 45/100 [00:01<00:01, 40.18it/s]\u001b[A\n",
            " 50%|█████     | 50/100 [00:01<00:01, 40.22it/s]\u001b[A\n",
            " 55%|█████▌    | 55/100 [00:01<00:01, 39.83it/s]\u001b[A\n",
            " 60%|██████    | 60/100 [00:01<00:00, 40.36it/s]\u001b[A\n",
            " 65%|██████▌   | 65/100 [00:01<00:00, 40.89it/s]\u001b[A\n",
            " 70%|███████   | 70/100 [00:01<00:00, 41.21it/s]\u001b[A\n",
            " 75%|███████▌  | 75/100 [00:01<00:00, 41.13it/s]\u001b[A\n",
            " 80%|████████  | 80/100 [00:02<00:00, 40.33it/s]\u001b[A\n",
            " 85%|████████▌ | 85/100 [00:02<00:00, 40.38it/s]\u001b[A\n",
            " 90%|█████████ | 90/100 [00:02<00:00, 40.60it/s]\u001b[A\n",
            " 95%|█████████▌| 95/100 [00:02<00:00, 40.31it/s]\u001b[A\n",
            "100%|██████████| 100/100 [00:02<00:00, 37.58it/s]\n"
          ]
        },
        {
          "metadata": {
            "tags": null
          },
          "name": "stdout",
          "output_type": "stream",
          "text": [
            "VAL MSE =  tensor(0.7213)\n"
          ]
        },
        {
          "metadata": {
            "tags": null
          },
          "name": "stderr",
          "output_type": "stream",
          "text": [
            "Epoch 14: Avg total Loss (1.67e+00) Avg MSE Loss (0.82) Avg SC Loss (2)): 100%|██████████| 400/400 [07:20<00:00,  1.10s/it]\n",
            "Epoch NA: Loss (NA) Accuracy (NA %):   0%|          | 0/400 [00:00<?, ?it/s]\n",
            "  0%|          | 0/100 [00:00<?, ?it/s]\u001b[A\n",
            "  2%|▏         | 2/100 [00:00<00:04, 19.86it/s]\u001b[A\n",
            "  7%|▋         | 7/100 [00:00<00:02, 33.58it/s]\u001b[A\n",
            " 12%|█▏        | 12/100 [00:00<00:02, 37.31it/s]\u001b[A\n",
            " 17%|█▋        | 17/100 [00:00<00:02, 39.17it/s]\u001b[A\n",
            " 22%|██▏       | 22/100 [00:00<00:01, 39.75it/s]\u001b[A\n",
            " 26%|██▌       | 26/100 [00:00<00:01, 39.71it/s]\u001b[A\n",
            " 31%|███       | 31/100 [00:00<00:01, 40.08it/s]\u001b[A\n",
            " 36%|███▌      | 36/100 [00:00<00:01, 40.61it/s]\u001b[A\n",
            " 41%|████      | 41/100 [00:01<00:01, 40.74it/s]\u001b[A\n",
            " 46%|████▌     | 46/100 [00:01<00:01, 40.77it/s]\u001b[A\n",
            " 51%|█████     | 51/100 [00:01<00:01, 40.69it/s]\u001b[A\n",
            " 56%|█████▌    | 56/100 [00:01<00:01, 40.08it/s]\u001b[A\n",
            " 61%|██████    | 61/100 [00:01<00:00, 40.24it/s]\u001b[A\n",
            " 66%|██████▌   | 66/100 [00:01<00:00, 40.07it/s]\u001b[A\n",
            " 71%|███████   | 71/100 [00:01<00:00, 40.48it/s]\u001b[A\n",
            " 76%|███████▌  | 76/100 [00:01<00:00, 40.55it/s]\u001b[A\n",
            " 81%|████████  | 81/100 [00:02<00:00, 39.97it/s]\u001b[A\n",
            " 85%|████████▌ | 85/100 [00:02<00:00, 39.14it/s]\u001b[A\n",
            " 90%|█████████ | 90/100 [00:02<00:00, 39.92it/s]\u001b[A\n",
            " 94%|█████████▍| 94/100 [00:02<00:00, 39.43it/s]\u001b[A\n",
            "100%|██████████| 100/100 [00:02<00:00, 37.84it/s]\n"
          ]
        },
        {
          "metadata": {
            "tags": null
          },
          "name": "stdout",
          "output_type": "stream",
          "text": [
            "VAL MSE =  tensor(0.7407)\n"
          ]
        },
        {
          "metadata": {
            "tags": null
          },
          "name": "stderr",
          "output_type": "stream",
          "text": [
            "Epoch 15: Avg total Loss (1.67e+00) Avg MSE Loss (0.82) Avg SC Loss (2)): 100%|██████████| 400/400 [07:20<00:00,  1.10s/it]\n",
            "Epoch NA: Loss (NA) Accuracy (NA %):   0%|          | 0/400 [00:00<?, ?it/s]\n",
            "  0%|          | 0/100 [00:00<?, ?it/s]\u001b[A\n",
            "  2%|▏         | 2/100 [00:00<00:04, 19.90it/s]\u001b[A\n",
            "  6%|▌         | 6/100 [00:00<00:03, 31.20it/s]\u001b[A\n",
            " 11%|█         | 11/100 [00:00<00:02, 36.59it/s]\u001b[A\n",
            " 15%|█▌        | 15/100 [00:00<00:02, 37.54it/s]\u001b[A\n",
            " 19%|█▉        | 19/100 [00:00<00:02, 38.12it/s]\u001b[A\n",
            " 23%|██▎       | 23/100 [00:00<00:01, 38.53it/s]\u001b[A\n",
            " 27%|██▋       | 27/100 [00:00<00:01, 38.89it/s]\u001b[A\n",
            " 31%|███       | 31/100 [00:00<00:01, 39.08it/s]\u001b[A\n",
            " 35%|███▌      | 35/100 [00:00<00:01, 39.32it/s]\u001b[A\n",
            " 40%|████      | 40/100 [00:01<00:01, 39.71it/s]\u001b[A\n",
            " 44%|████▍     | 44/100 [00:01<00:01, 39.44it/s]\u001b[A\n",
            " 49%|████▉     | 49/100 [00:01<00:01, 40.46it/s]\u001b[A\n",
            " 54%|█████▍    | 54/100 [00:01<00:01, 40.06it/s]\u001b[A\n",
            " 59%|█████▉    | 59/100 [00:01<00:01, 40.14it/s]\u001b[A\n",
            " 64%|██████▍   | 64/100 [00:01<00:00, 40.04it/s]\u001b[A\n",
            " 69%|██████▉   | 69/100 [00:01<00:00, 39.42it/s]\u001b[A\n",
            " 74%|███████▍  | 74/100 [00:01<00:00, 40.09it/s]\u001b[A\n",
            " 79%|███████▉  | 79/100 [00:02<00:00, 40.22it/s]\u001b[A\n",
            " 84%|████████▍ | 84/100 [00:02<00:00, 40.30it/s]\u001b[A\n",
            " 89%|████████▉ | 89/100 [00:02<00:00, 40.67it/s]\u001b[A\n",
            " 94%|█████████▍| 94/100 [00:02<00:00, 40.74it/s]\u001b[A\n",
            "100%|██████████| 100/100 [00:02<00:00, 37.41it/s]\n"
          ]
        },
        {
          "metadata": {
            "tags": null
          },
          "name": "stdout",
          "output_type": "stream",
          "text": [
            "VAL MSE =  tensor(0.7315)\n"
          ]
        },
        {
          "metadata": {
            "tags": null
          },
          "name": "stderr",
          "output_type": "stream",
          "text": [
            "Epoch 16: Avg total Loss (1.67e+00) Avg MSE Loss (0.82) Avg SC Loss (2)): 100%|██████████| 400/400 [07:20<00:00,  1.10s/it]\n",
            "Epoch NA: Loss (NA) Accuracy (NA %):   0%|          | 0/400 [00:00<?, ?it/s]\n",
            "  0%|          | 0/100 [00:00<?, ?it/s]\u001b[A\n",
            "  2%|▏         | 2/100 [00:00<00:04, 19.77it/s]\u001b[A\n",
            "  6%|▌         | 6/100 [00:00<00:03, 30.79it/s]\u001b[A\n",
            " 10%|█         | 10/100 [00:00<00:02, 33.52it/s]\u001b[A\n",
            " 14%|█▍        | 14/100 [00:00<00:02, 34.98it/s]\u001b[A\n",
            " 18%|█▊        | 18/100 [00:00<00:02, 36.45it/s]\u001b[A\n",
            " 22%|██▏       | 22/100 [00:00<00:02, 37.60it/s]\u001b[A\n",
            " 27%|██▋       | 27/100 [00:00<00:01, 38.88it/s]\u001b[A\n",
            " 32%|███▏      | 32/100 [00:00<00:01, 39.69it/s]\u001b[A\n",
            " 37%|███▋      | 37/100 [00:00<00:01, 40.34it/s]\u001b[A\n",
            " 42%|████▏     | 42/100 [00:01<00:01, 40.40it/s]\u001b[A\n",
            " 47%|████▋     | 47/100 [00:01<00:01, 40.63it/s]\u001b[A\n",
            " 52%|█████▏    | 52/100 [00:01<00:01, 40.90it/s]\u001b[A\n",
            " 57%|█████▋    | 57/100 [00:01<00:01, 40.61it/s]\u001b[A\n",
            " 62%|██████▏   | 62/100 [00:01<00:00, 40.68it/s]\u001b[A\n",
            " 67%|██████▋   | 67/100 [00:01<00:00, 40.77it/s]\u001b[A\n",
            " 72%|███████▏  | 72/100 [00:01<00:00, 40.91it/s]\u001b[A\n",
            " 77%|███████▋  | 77/100 [00:01<00:00, 41.02it/s]\u001b[A\n",
            " 82%|████████▏ | 82/100 [00:02<00:00, 40.37it/s]\u001b[A\n",
            " 87%|████████▋ | 87/100 [00:02<00:00, 39.96it/s]\u001b[A\n",
            " 91%|█████████ | 91/100 [00:02<00:00, 39.83it/s]\u001b[A\n",
            " 95%|█████████▌| 95/100 [00:02<00:00, 39.80it/s]\u001b[A\n",
            "100%|██████████| 100/100 [00:02<00:00, 37.48it/s]\n"
          ]
        },
        {
          "metadata": {
            "tags": null
          },
          "name": "stdout",
          "output_type": "stream",
          "text": [
            "VAL MSE =  tensor(0.7557)\n"
          ]
        },
        {
          "output_type": "stream",
          "name": "stderr",
          "text": [
            "Epoch 17: Avg total Loss (1.67e+00) Avg MSE Loss (0.83) Avg SC Loss (2)):  82%|████████▏ | 328/400 [06:01<01:18,  1.09s/it]"
          ]
        }
      ]
    },
    {
      "cell_type": "code",
      "source": [
        "for epoch in range(num_epochs):\n",
        "    #print('Epoch: {}\\tValidation Accuracy: {:.4f}%'.format(epoch, evaluate(val_loader, net) * 100))\n",
        "    train(train_dataloader, val_dataloader , u_net_model, optim, epoch, cnn, normalization_mean=cnn_normalization_mean, normalization_std=cnn_normalization_std, alpha=0.75)\n",
        "    if ((epoch+1)%5==0):\n",
        "      torch.save(u_net_model.state_dict(), 'u_net_alpha_0.75.pt') ; "
      ],
      "metadata": {
        "colab": {
          "base_uri": "https://localhost:8080/"
        },
        "id": "uBOj_-8Zn5Wg",
        "outputId": "fc984f53-cb7f-4634-ad64-6c91e9a3bf45"
      },
      "execution_count": null,
      "outputs": [
        {
          "metadata": {
            "tags": null
          },
          "name": "stderr",
          "output_type": "stream",
          "text": [
            "Epoch NA: Loss (NA) Accuracy (NA %):   0%|          | 0/400 [00:00<?, ?it/s]\n",
            "  0%|          | 0/100 [00:00<?, ?it/s]\u001b[A\n",
            "  2%|▏         | 2/100 [00:00<00:04, 19.67it/s]\u001b[A\n",
            "  5%|▌         | 5/100 [00:00<00:03, 25.53it/s]\u001b[A\n",
            "  9%|▉         | 9/100 [00:00<00:03, 28.78it/s]\u001b[A\n",
            " 14%|█▍        | 14/100 [00:00<00:02, 34.99it/s]\u001b[A\n",
            " 19%|█▉        | 19/100 [00:00<00:02, 38.58it/s]\u001b[A\n",
            " 24%|██▍       | 24/100 [00:00<00:01, 40.78it/s]\u001b[A\n",
            " 29%|██▉       | 29/100 [00:00<00:01, 42.11it/s]\u001b[A\n",
            " 34%|███▍      | 34/100 [00:00<00:01, 43.73it/s]\u001b[A\n",
            " 39%|███▉      | 39/100 [00:00<00:01, 44.41it/s]\u001b[A\n",
            " 44%|████▍     | 44/100 [00:01<00:01, 45.07it/s]\u001b[A\n",
            " 49%|████▉     | 49/100 [00:01<00:01, 44.76it/s]\u001b[A\n",
            " 54%|█████▍    | 54/100 [00:01<00:01, 45.21it/s]\u001b[A\n",
            " 59%|█████▉    | 59/100 [00:01<00:00, 45.51it/s]\u001b[A\n",
            " 64%|██████▍   | 64/100 [00:01<00:00, 45.42it/s]\u001b[A\n",
            " 69%|██████▉   | 69/100 [00:01<00:00, 45.41it/s]\u001b[A\n",
            " 74%|███████▍  | 74/100 [00:01<00:00, 45.34it/s]\u001b[A\n",
            " 79%|███████▉  | 79/100 [00:01<00:00, 45.11it/s]\u001b[A\n",
            " 84%|████████▍ | 84/100 [00:01<00:00, 45.47it/s]\u001b[A\n",
            " 89%|████████▉ | 89/100 [00:02<00:00, 45.38it/s]\u001b[A\n",
            " 94%|█████████▍| 94/100 [00:02<00:00, 45.69it/s]\u001b[A\n",
            "100%|██████████| 100/100 [00:02<00:00, 41.29it/s]\n",
            "/usr/local/lib/python3.7/dist-packages/ipykernel_launcher.py:15: UserWarning: To copy construct from a tensor, it is recommended to use sourceTensor.clone().detach() or sourceTensor.clone().detach().requires_grad_(True), rather than torch.tensor(sourceTensor).\n",
            "  from ipykernel import kernelapp as app\n",
            "/usr/local/lib/python3.7/dist-packages/ipykernel_launcher.py:16: UserWarning: To copy construct from a tensor, it is recommended to use sourceTensor.clone().detach() or sourceTensor.clone().detach().requires_grad_(True), rather than torch.tensor(sourceTensor).\n",
            "  app.launch_new_instance()\n"
          ]
        },
        {
          "metadata": {
            "tags": null
          },
          "name": "stdout",
          "output_type": "stream",
          "text": [
            "VAL MSE =  tensor(0.6046)\n"
          ]
        },
        {
          "metadata": {
            "tags": null
          },
          "name": "stderr",
          "output_type": "stream",
          "text": [
            "Epoch 0: Avg total Loss (4.27e-01) Avg MSE Loss (0.29) Avg SC Loss (0.84)): 100%|██████████| 400/400 [12:26<00:00,  1.87s/it]\n",
            "Epoch NA: Loss (NA) Accuracy (NA %):   0%|          | 0/400 [00:00<?, ?it/s]\n",
            "  0%|          | 0/100 [00:00<?, ?it/s]\u001b[A\n",
            "  4%|▍         | 4/100 [00:00<00:02, 33.44it/s]\u001b[A\n",
            "  9%|▉         | 9/100 [00:00<00:02, 40.05it/s]\u001b[A\n",
            " 14%|█▍        | 14/100 [00:00<00:02, 41.73it/s]\u001b[A\n",
            " 19%|█▉        | 19/100 [00:00<00:01, 42.94it/s]\u001b[A\n",
            " 24%|██▍       | 24/100 [00:00<00:01, 43.22it/s]\u001b[A\n",
            " 29%|██▉       | 29/100 [00:00<00:01, 43.87it/s]\u001b[A\n",
            " 34%|███▍      | 34/100 [00:00<00:01, 43.97it/s]\u001b[A\n",
            " 39%|███▉      | 39/100 [00:00<00:01, 44.02it/s]\u001b[A\n",
            " 44%|████▍     | 44/100 [00:01<00:01, 43.84it/s]\u001b[A\n",
            " 49%|████▉     | 49/100 [00:01<00:01, 44.02it/s]\u001b[A\n",
            " 54%|█████▍    | 54/100 [00:01<00:01, 44.29it/s]\u001b[A\n",
            " 59%|█████▉    | 59/100 [00:01<00:00, 44.48it/s]\u001b[A\n",
            " 64%|██████▍   | 64/100 [00:01<00:00, 44.48it/s]\u001b[A\n",
            " 69%|██████▉   | 69/100 [00:01<00:00, 44.27it/s]\u001b[A\n",
            " 74%|███████▍  | 74/100 [00:01<00:00, 44.35it/s]\u001b[A\n",
            " 79%|███████▉  | 79/100 [00:01<00:00, 44.10it/s]\u001b[A\n",
            " 84%|████████▍ | 84/100 [00:01<00:00, 43.92it/s]\u001b[A\n",
            " 89%|████████▉ | 89/100 [00:02<00:00, 43.78it/s]\u001b[A\n",
            " 94%|█████████▍| 94/100 [00:02<00:00, 43.94it/s]\u001b[A\n",
            "100%|██████████| 100/100 [00:02<00:00, 41.72it/s]\n"
          ]
        },
        {
          "metadata": {
            "tags": null
          },
          "name": "stdout",
          "output_type": "stream",
          "text": [
            "VAL MSE =  tensor(0.1174)\n"
          ]
        },
        {
          "metadata": {
            "tags": null
          },
          "name": "stderr",
          "output_type": "stream",
          "text": [
            "Epoch 1: Avg total Loss (3.39e-01) Avg MSE Loss (0.21) Avg SC Loss (0.73)): 100%|██████████| 400/400 [12:37<00:00,  1.89s/it]\n",
            "Epoch NA: Loss (NA) Accuracy (NA %):   0%|          | 0/400 [00:00<?, ?it/s]\n",
            "  0%|          | 0/100 [00:00<?, ?it/s]\u001b[A\n",
            "  4%|▍         | 4/100 [00:00<00:02, 37.86it/s]\u001b[A\n",
            "  9%|▉         | 9/100 [00:00<00:02, 41.77it/s]\u001b[A\n",
            " 14%|█▍        | 14/100 [00:00<00:02, 42.92it/s]\u001b[A\n",
            " 19%|█▉        | 19/100 [00:00<00:01, 43.70it/s]\u001b[A\n",
            " 24%|██▍       | 24/100 [00:00<00:01, 43.70it/s]\u001b[A\n",
            " 29%|██▉       | 29/100 [00:00<00:01, 43.95it/s]\u001b[A\n",
            " 34%|███▍      | 34/100 [00:00<00:01, 43.97it/s]\u001b[A\n",
            " 39%|███▉      | 39/100 [00:00<00:01, 44.33it/s]\u001b[A\n",
            " 44%|████▍     | 44/100 [00:01<00:01, 44.03it/s]\u001b[A\n",
            " 49%|████▉     | 49/100 [00:01<00:01, 43.89it/s]\u001b[A\n",
            " 54%|█████▍    | 54/100 [00:01<00:01, 43.86it/s]\u001b[A\n",
            " 59%|█████▉    | 59/100 [00:01<00:00, 43.92it/s]\u001b[A\n",
            " 64%|██████▍   | 64/100 [00:01<00:00, 44.10it/s]\u001b[A\n",
            " 69%|██████▉   | 69/100 [00:01<00:00, 43.46it/s]\u001b[A\n",
            " 74%|███████▍  | 74/100 [00:01<00:00, 43.64it/s]\u001b[A\n",
            " 79%|███████▉  | 79/100 [00:01<00:00, 44.03it/s]\u001b[A\n",
            " 84%|████████▍ | 84/100 [00:01<00:00, 43.94it/s]\u001b[A\n",
            " 89%|████████▉ | 89/100 [00:02<00:00, 43.42it/s]\u001b[A\n",
            " 94%|█████████▍| 94/100 [00:02<00:00, 43.74it/s]\u001b[A\n",
            "100%|██████████| 100/100 [00:02<00:00, 41.59it/s]\n"
          ]
        },
        {
          "metadata": {
            "tags": null
          },
          "name": "stdout",
          "output_type": "stream",
          "text": [
            "VAL MSE =  tensor(0.1199)\n"
          ]
        },
        {
          "metadata": {
            "tags": null
          },
          "name": "stderr",
          "output_type": "stream",
          "text": [
            "Epoch 2: Avg total Loss (3.10e-01) Avg MSE Loss (0.18) Avg SC Loss (0.69)): 100%|██████████| 400/400 [12:36<00:00,  1.89s/it]\n",
            "Epoch NA: Loss (NA) Accuracy (NA %):   0%|          | 0/400 [00:00<?, ?it/s]\n",
            "  0%|          | 0/100 [00:00<?, ?it/s]\u001b[A\n",
            "  3%|▎         | 3/100 [00:00<00:03, 29.77it/s]\u001b[A\n",
            "  8%|▊         | 8/100 [00:00<00:02, 38.23it/s]\u001b[A\n",
            " 13%|█▎        | 13/100 [00:00<00:02, 40.98it/s]\u001b[A\n",
            " 18%|█▊        | 18/100 [00:00<00:01, 42.63it/s]\u001b[A\n",
            " 23%|██▎       | 23/100 [00:00<00:01, 43.65it/s]\u001b[A\n",
            " 28%|██▊       | 28/100 [00:00<00:01, 43.91it/s]\u001b[A\n",
            " 33%|███▎      | 33/100 [00:00<00:01, 44.00it/s]\u001b[A\n",
            " 38%|███▊      | 38/100 [00:00<00:01, 44.09it/s]\u001b[A\n",
            " 43%|████▎     | 43/100 [00:01<00:01, 43.65it/s]\u001b[A\n",
            " 48%|████▊     | 48/100 [00:01<00:01, 43.85it/s]\u001b[A\n",
            " 53%|█████▎    | 53/100 [00:01<00:01, 43.91it/s]\u001b[A\n",
            " 58%|█████▊    | 58/100 [00:01<00:00, 43.73it/s]\u001b[A\n",
            " 63%|██████▎   | 63/100 [00:01<00:00, 43.67it/s]\u001b[A\n",
            " 68%|██████▊   | 68/100 [00:01<00:00, 43.97it/s]\u001b[A\n",
            " 73%|███████▎  | 73/100 [00:01<00:00, 43.57it/s]\u001b[A\n",
            " 78%|███████▊  | 78/100 [00:01<00:00, 43.92it/s]\u001b[A\n",
            " 83%|████████▎ | 83/100 [00:01<00:00, 43.97it/s]\u001b[A\n",
            " 88%|████████▊ | 88/100 [00:02<00:00, 44.21it/s]\u001b[A\n",
            " 93%|█████████▎| 93/100 [00:02<00:00, 44.13it/s]\u001b[A\n",
            "100%|██████████| 100/100 [00:02<00:00, 41.54it/s]\n"
          ]
        },
        {
          "metadata": {
            "tags": null
          },
          "name": "stdout",
          "output_type": "stream",
          "text": [
            "VAL MSE =  tensor(0.1286)\n"
          ]
        },
        {
          "metadata": {
            "tags": null
          },
          "name": "stderr",
          "output_type": "stream",
          "text": [
            "Epoch 3: Avg total Loss (2.87e-01) Avg MSE Loss (0.16) Avg SC Loss (0.66)): 100%|██████████| 400/400 [12:36<00:00,  1.89s/it]\n",
            "Epoch NA: Loss (NA) Accuracy (NA %):   0%|          | 0/400 [00:00<?, ?it/s]\n",
            "  0%|          | 0/100 [00:00<?, ?it/s]\u001b[A\n",
            "  4%|▍         | 4/100 [00:00<00:02, 34.16it/s]\u001b[A\n",
            "  9%|▉         | 9/100 [00:00<00:02, 39.64it/s]\u001b[A\n",
            " 14%|█▍        | 14/100 [00:00<00:02, 41.82it/s]\u001b[A\n",
            " 19%|█▉        | 19/100 [00:00<00:01, 42.95it/s]\u001b[A\n",
            " 24%|██▍       | 24/100 [00:00<00:01, 43.67it/s]\u001b[A\n",
            " 29%|██▉       | 29/100 [00:00<00:01, 43.93it/s]\u001b[A\n",
            " 34%|███▍      | 34/100 [00:00<00:01, 44.06it/s]\u001b[A\n",
            " 39%|███▉      | 39/100 [00:00<00:01, 44.05it/s]\u001b[A\n",
            " 44%|████▍     | 44/100 [00:01<00:01, 43.49it/s]\u001b[A\n",
            " 49%|████▉     | 49/100 [00:01<00:01, 43.11it/s]\u001b[A\n",
            " 54%|█████▍    | 54/100 [00:01<00:01, 43.16it/s]\u001b[A\n",
            " 59%|█████▉    | 59/100 [00:01<00:00, 42.87it/s]\u001b[A\n",
            " 64%|██████▍   | 64/100 [00:01<00:00, 43.24it/s]\u001b[A\n",
            " 69%|██████▉   | 69/100 [00:01<00:00, 43.23it/s]\u001b[A\n",
            " 74%|███████▍  | 74/100 [00:01<00:00, 43.17it/s]\u001b[A\n",
            " 79%|███████▉  | 79/100 [00:01<00:00, 43.25it/s]\u001b[A\n",
            " 84%|████████▍ | 84/100 [00:01<00:00, 43.11it/s]\u001b[A\n",
            " 89%|████████▉ | 89/100 [00:02<00:00, 43.09it/s]\u001b[A\n",
            " 94%|█████████▍| 94/100 [00:02<00:00, 43.40it/s]\u001b[A\n",
            "100%|██████████| 100/100 [00:02<00:00, 41.16it/s]\n"
          ]
        },
        {
          "metadata": {
            "tags": null
          },
          "name": "stdout",
          "output_type": "stream",
          "text": [
            "VAL MSE =  tensor(0.1009)\n"
          ]
        },
        {
          "metadata": {
            "tags": null
          },
          "name": "stderr",
          "output_type": "stream",
          "text": [
            "Epoch 4: Avg total Loss (2.79e-01) Avg MSE Loss (0.16) Avg SC Loss (0.65)): 100%|██████████| 400/400 [12:37<00:00,  1.89s/it]\n",
            "Epoch NA: Loss (NA) Accuracy (NA %):   0%|          | 0/400 [00:00<?, ?it/s]\n",
            "  0%|          | 0/100 [00:00<?, ?it/s]\u001b[A\n",
            "  4%|▍         | 4/100 [00:00<00:02, 34.66it/s]\u001b[A\n",
            "  9%|▉         | 9/100 [00:00<00:02, 40.14it/s]\u001b[A\n",
            " 14%|█▍        | 14/100 [00:00<00:02, 41.97it/s]\u001b[A\n",
            " 19%|█▉        | 19/100 [00:00<00:01, 42.48it/s]\u001b[A\n",
            " 24%|██▍       | 24/100 [00:00<00:01, 42.47it/s]\u001b[A\n",
            " 29%|██▉       | 29/100 [00:00<00:01, 42.78it/s]\u001b[A\n",
            " 34%|███▍      | 34/100 [00:00<00:01, 43.06it/s]\u001b[A\n",
            " 39%|███▉      | 39/100 [00:00<00:01, 42.90it/s]\u001b[A\n",
            " 44%|████▍     | 44/100 [00:01<00:01, 42.03it/s]\u001b[A\n",
            " 49%|████▉     | 49/100 [00:01<00:01, 42.57it/s]\u001b[A\n",
            " 54%|█████▍    | 54/100 [00:01<00:01, 42.56it/s]\u001b[A\n",
            " 59%|█████▉    | 59/100 [00:01<00:00, 43.04it/s]\u001b[A\n",
            " 64%|██████▍   | 64/100 [00:01<00:00, 43.23it/s]\u001b[A\n",
            " 69%|██████▉   | 69/100 [00:01<00:00, 43.24it/s]\u001b[A\n",
            " 74%|███████▍  | 74/100 [00:01<00:00, 42.90it/s]\u001b[A\n",
            " 79%|███████▉  | 79/100 [00:01<00:00, 43.02it/s]\u001b[A\n",
            " 84%|████████▍ | 84/100 [00:01<00:00, 43.08it/s]\u001b[A\n",
            " 89%|████████▉ | 89/100 [00:02<00:00, 43.43it/s]\u001b[A\n",
            " 94%|█████████▍| 94/100 [00:02<00:00, 43.59it/s]\u001b[A\n",
            "100%|██████████| 100/100 [00:02<00:00, 41.06it/s]\n"
          ]
        },
        {
          "metadata": {
            "tags": null
          },
          "name": "stdout",
          "output_type": "stream",
          "text": [
            "VAL MSE =  tensor(0.1000)\n"
          ]
        },
        {
          "metadata": {
            "tags": null
          },
          "name": "stderr",
          "output_type": "stream",
          "text": [
            "Epoch 5: Avg total Loss (2.66e-01) Avg MSE Loss (0.15) Avg SC Loss (0.63)): 100%|██████████| 400/400 [12:36<00:00,  1.89s/it]\n",
            "Epoch NA: Loss (NA) Accuracy (NA %):   0%|          | 0/400 [00:00<?, ?it/s]\n",
            "  0%|          | 0/100 [00:00<?, ?it/s]\u001b[A\n",
            "  3%|▎         | 3/100 [00:00<00:03, 29.40it/s]\u001b[A\n",
            "  8%|▊         | 8/100 [00:00<00:02, 37.80it/s]\u001b[A\n",
            " 13%|█▎        | 13/100 [00:00<00:02, 40.32it/s]\u001b[A\n",
            " 18%|█▊        | 18/100 [00:00<00:01, 42.03it/s]\u001b[A\n",
            " 23%|██▎       | 23/100 [00:00<00:01, 42.84it/s]\u001b[A\n",
            " 28%|██▊       | 28/100 [00:00<00:01, 43.62it/s]\u001b[A\n",
            " 33%|███▎      | 33/100 [00:00<00:01, 43.74it/s]\u001b[A\n",
            " 38%|███▊      | 38/100 [00:00<00:01, 44.21it/s]\u001b[A\n",
            " 43%|████▎     | 43/100 [00:01<00:01, 43.93it/s]\u001b[A\n",
            " 48%|████▊     | 48/100 [00:01<00:01, 43.97it/s]\u001b[A\n",
            " 53%|█████▎    | 53/100 [00:01<00:01, 43.90it/s]\u001b[A\n",
            " 58%|█████▊    | 58/100 [00:01<00:00, 43.86it/s]\u001b[A\n",
            " 63%|██████▎   | 63/100 [00:01<00:00, 44.31it/s]\u001b[A\n",
            " 68%|██████▊   | 68/100 [00:01<00:00, 44.30it/s]\u001b[A\n",
            " 73%|███████▎  | 73/100 [00:01<00:00, 44.08it/s]\u001b[A\n",
            " 78%|███████▊  | 78/100 [00:01<00:00, 44.13it/s]\u001b[A\n",
            " 83%|████████▎ | 83/100 [00:01<00:00, 43.92it/s]\u001b[A\n",
            " 88%|████████▊ | 88/100 [00:02<00:00, 44.05it/s]\u001b[A\n",
            " 93%|█████████▎| 93/100 [00:02<00:00, 43.73it/s]\u001b[A\n",
            "100%|██████████| 100/100 [00:02<00:00, 41.40it/s]\n"
          ]
        },
        {
          "metadata": {
            "tags": null
          },
          "name": "stdout",
          "output_type": "stream",
          "text": [
            "VAL MSE =  tensor(0.1075)\n"
          ]
        },
        {
          "metadata": {
            "tags": null
          },
          "name": "stderr",
          "output_type": "stream",
          "text": [
            "Epoch 6: Avg total Loss (2.60e-01) Avg MSE Loss (0.14) Avg SC Loss (0.61)): 100%|██████████| 400/400 [12:36<00:00,  1.89s/it]\n",
            "Epoch NA: Loss (NA) Accuracy (NA %):   0%|          | 0/400 [00:00<?, ?it/s]\n",
            "  0%|          | 0/100 [00:00<?, ?it/s]\u001b[A\n",
            "  4%|▍         | 4/100 [00:00<00:02, 33.61it/s]\u001b[A\n",
            "  9%|▉         | 9/100 [00:00<00:02, 39.68it/s]\u001b[A\n",
            " 14%|█▍        | 14/100 [00:00<00:02, 42.02it/s]\u001b[A\n",
            " 19%|█▉        | 19/100 [00:00<00:01, 42.90it/s]\u001b[A\n",
            " 24%|██▍       | 24/100 [00:00<00:01, 43.24it/s]\u001b[A\n",
            " 29%|██▉       | 29/100 [00:00<00:01, 43.62it/s]\u001b[A\n",
            " 34%|███▍      | 34/100 [00:00<00:01, 43.49it/s]\u001b[A\n",
            " 39%|███▉      | 39/100 [00:00<00:01, 43.57it/s]\u001b[A\n",
            " 44%|████▍     | 44/100 [00:01<00:01, 43.64it/s]\u001b[A\n",
            " 49%|████▉     | 49/100 [00:01<00:01, 43.88it/s]\u001b[A\n",
            " 54%|█████▍    | 54/100 [00:01<00:01, 43.47it/s]\u001b[A\n",
            " 59%|█████▉    | 59/100 [00:01<00:00, 43.41it/s]\u001b[A\n",
            " 64%|██████▍   | 64/100 [00:01<00:00, 43.65it/s]\u001b[A\n",
            " 69%|██████▉   | 69/100 [00:01<00:00, 43.75it/s]\u001b[A\n",
            " 74%|███████▍  | 74/100 [00:01<00:00, 44.03it/s]\u001b[A\n",
            " 79%|███████▉  | 79/100 [00:01<00:00, 43.97it/s]\u001b[A\n",
            " 84%|████████▍ | 84/100 [00:01<00:00, 43.37it/s]\u001b[A\n",
            " 89%|████████▉ | 89/100 [00:02<00:00, 43.42it/s]\u001b[A\n",
            " 94%|█████████▍| 94/100 [00:02<00:00, 43.26it/s]\u001b[A\n",
            "100%|██████████| 100/100 [00:02<00:00, 41.31it/s]\n"
          ]
        },
        {
          "metadata": {
            "tags": null
          },
          "name": "stdout",
          "output_type": "stream",
          "text": [
            "VAL MSE =  tensor(0.0965)\n"
          ]
        },
        {
          "metadata": {
            "tags": null
          },
          "name": "stderr",
          "output_type": "stream",
          "text": [
            "Epoch 7: Avg total Loss (2.58e-01) Avg MSE Loss (0.14) Avg SC Loss (0.61)): 100%|██████████| 400/400 [12:36<00:00,  1.89s/it]\n",
            "Epoch NA: Loss (NA) Accuracy (NA %):   0%|          | 0/400 [00:00<?, ?it/s]\n",
            "  0%|          | 0/100 [00:00<?, ?it/s]\u001b[A\n",
            "  4%|▍         | 4/100 [00:00<00:02, 36.37it/s]\u001b[A\n",
            "  9%|▉         | 9/100 [00:00<00:02, 40.75it/s]\u001b[A\n",
            " 14%|█▍        | 14/100 [00:00<00:02, 42.47it/s]\u001b[A\n",
            " 19%|█▉        | 19/100 [00:00<00:01, 43.17it/s]\u001b[A\n",
            " 24%|██▍       | 24/100 [00:00<00:01, 42.91it/s]\u001b[A\n",
            " 29%|██▉       | 29/100 [00:00<00:01, 43.69it/s]\u001b[A\n",
            " 34%|███▍      | 34/100 [00:00<00:01, 43.77it/s]\u001b[A\n",
            " 39%|███▉      | 39/100 [00:00<00:01, 44.22it/s]\u001b[A\n",
            " 44%|████▍     | 44/100 [00:01<00:01, 44.07it/s]\u001b[A\n",
            " 49%|████▉     | 49/100 [00:01<00:01, 44.12it/s]\u001b[A\n",
            " 54%|█████▍    | 54/100 [00:01<00:01, 44.03it/s]\u001b[A\n",
            " 59%|█████▉    | 59/100 [00:01<00:00, 43.50it/s]\u001b[A\n",
            " 64%|██████▍   | 64/100 [00:01<00:00, 43.73it/s]\u001b[A\n",
            " 69%|██████▉   | 69/100 [00:01<00:00, 44.10it/s]\u001b[A\n",
            " 74%|███████▍  | 74/100 [00:01<00:00, 44.02it/s]\u001b[A\n",
            " 79%|███████▉  | 79/100 [00:01<00:00, 44.17it/s]\u001b[A\n",
            " 84%|████████▍ | 84/100 [00:01<00:00, 43.82it/s]\u001b[A\n",
            " 89%|████████▉ | 89/100 [00:02<00:00, 43.30it/s]\u001b[A\n",
            " 94%|█████████▍| 94/100 [00:02<00:00, 43.37it/s]\u001b[A\n",
            "100%|██████████| 100/100 [00:02<00:00, 41.62it/s]\n"
          ]
        },
        {
          "metadata": {
            "tags": null
          },
          "name": "stdout",
          "output_type": "stream",
          "text": [
            "VAL MSE =  tensor(0.1004)\n"
          ]
        },
        {
          "metadata": {
            "tags": null
          },
          "name": "stderr",
          "output_type": "stream",
          "text": [
            "Epoch 8: Avg total Loss (2.49e-01) Avg MSE Loss (0.13) Avg SC Loss (0.6)): 100%|██████████| 400/400 [12:37<00:00,  1.89s/it]\n",
            "Epoch NA: Loss (NA) Accuracy (NA %):   0%|          | 0/400 [00:00<?, ?it/s]\n",
            "  0%|          | 0/100 [00:00<?, ?it/s]\u001b[A\n",
            "  3%|▎         | 3/100 [00:00<00:03, 26.62it/s]\u001b[A\n",
            "  8%|▊         | 8/100 [00:00<00:02, 36.53it/s]\u001b[A\n",
            " 13%|█▎        | 13/100 [00:00<00:02, 40.06it/s]\u001b[A\n",
            " 18%|█▊        | 18/100 [00:00<00:01, 41.07it/s]\u001b[A\n",
            " 23%|██▎       | 23/100 [00:00<00:01, 42.58it/s]\u001b[A\n",
            " 28%|██▊       | 28/100 [00:00<00:01, 43.00it/s]\u001b[A\n",
            " 33%|███▎      | 33/100 [00:00<00:01, 43.40it/s]\u001b[A\n",
            " 38%|███▊      | 38/100 [00:00<00:01, 43.75it/s]\u001b[A\n",
            " 43%|████▎     | 43/100 [00:01<00:01, 43.52it/s]\u001b[A\n",
            " 48%|████▊     | 48/100 [00:01<00:01, 43.51it/s]\u001b[A\n",
            " 53%|█████▎    | 53/100 [00:01<00:01, 43.12it/s]\u001b[A\n",
            " 58%|█████▊    | 58/100 [00:01<00:00, 43.32it/s]\u001b[A\n",
            " 63%|██████▎   | 63/100 [00:01<00:00, 43.57it/s]\u001b[A\n",
            " 68%|██████▊   | 68/100 [00:01<00:00, 43.67it/s]\u001b[A\n",
            " 73%|███████▎  | 73/100 [00:01<00:00, 43.96it/s]\u001b[A\n",
            " 78%|███████▊  | 78/100 [00:01<00:00, 44.00it/s]\u001b[A\n",
            " 83%|████████▎ | 83/100 [00:01<00:00, 43.39it/s]\u001b[A\n",
            " 88%|████████▊ | 88/100 [00:02<00:00, 43.65it/s]\u001b[A\n",
            " 93%|█████████▎| 93/100 [00:02<00:00, 43.81it/s]\u001b[A\n",
            "100%|██████████| 100/100 [00:02<00:00, 41.15it/s]\n"
          ]
        },
        {
          "metadata": {
            "tags": null
          },
          "name": "stdout",
          "output_type": "stream",
          "text": [
            "VAL MSE =  tensor(0.0912)\n"
          ]
        },
        {
          "metadata": {
            "tags": null
          },
          "name": "stderr",
          "output_type": "stream",
          "text": [
            "Epoch 9: Avg total Loss (2.45e-01) Avg MSE Loss (0.13) Avg SC Loss (0.59)): 100%|██████████| 400/400 [12:37<00:00,  1.89s/it]\n",
            "Epoch NA: Loss (NA) Accuracy (NA %):   0%|          | 0/400 [00:00<?, ?it/s]\n",
            "  0%|          | 0/100 [00:00<?, ?it/s]\u001b[A\n",
            "  4%|▍         | 4/100 [00:00<00:02, 35.91it/s]\u001b[A\n",
            "  9%|▉         | 9/100 [00:00<00:02, 40.52it/s]\u001b[A\n",
            " 14%|█▍        | 14/100 [00:00<00:02, 41.56it/s]\u001b[A\n",
            " 19%|█▉        | 19/100 [00:00<00:01, 42.66it/s]\u001b[A\n",
            " 24%|██▍       | 24/100 [00:00<00:01, 43.50it/s]\u001b[A\n",
            " 29%|██▉       | 29/100 [00:00<00:01, 43.75it/s]\u001b[A\n",
            " 34%|███▍      | 34/100 [00:00<00:01, 43.97it/s]\u001b[A\n",
            " 39%|███▉      | 39/100 [00:00<00:01, 44.19it/s]\u001b[A\n",
            " 44%|████▍     | 44/100 [00:01<00:01, 43.86it/s]\u001b[A\n",
            " 49%|████▉     | 49/100 [00:01<00:01, 43.91it/s]\u001b[A\n",
            " 54%|█████▍    | 54/100 [00:01<00:01, 44.10it/s]\u001b[A\n",
            " 59%|█████▉    | 59/100 [00:01<00:00, 44.23it/s]\u001b[A\n",
            " 64%|██████▍   | 64/100 [00:01<00:00, 44.36it/s]\u001b[A\n",
            " 69%|██████▉   | 69/100 [00:01<00:00, 44.17it/s]\u001b[A\n",
            " 74%|███████▍  | 74/100 [00:01<00:00, 44.52it/s]\u001b[A\n",
            " 79%|███████▉  | 79/100 [00:01<00:00, 44.06it/s]\u001b[A\n",
            " 84%|████████▍ | 84/100 [00:01<00:00, 43.90it/s]\u001b[A\n",
            " 89%|████████▉ | 89/100 [00:02<00:00, 43.25it/s]\u001b[A\n",
            " 94%|█████████▍| 94/100 [00:02<00:00, 43.04it/s]\u001b[A\n",
            "100%|██████████| 100/100 [00:02<00:00, 41.41it/s]\n"
          ]
        },
        {
          "metadata": {
            "tags": null
          },
          "name": "stdout",
          "output_type": "stream",
          "text": [
            "VAL MSE =  tensor(0.1064)\n"
          ]
        },
        {
          "metadata": {
            "tags": null
          },
          "name": "stderr",
          "output_type": "stream",
          "text": [
            "Epoch 10: Avg total Loss (2.39e-01) Avg MSE Loss (0.13) Avg SC Loss (0.58)): 100%|██████████| 400/400 [12:38<00:00,  1.90s/it]\n",
            "Epoch NA: Loss (NA) Accuracy (NA %):   0%|          | 0/400 [00:00<?, ?it/s]\n",
            "  0%|          | 0/100 [00:00<?, ?it/s]\u001b[A\n",
            "  4%|▍         | 4/100 [00:00<00:02, 32.97it/s]\u001b[A\n",
            "  9%|▉         | 9/100 [00:00<00:02, 38.72it/s]\u001b[A\n",
            " 14%|█▍        | 14/100 [00:00<00:02, 40.81it/s]\u001b[A\n",
            " 19%|█▉        | 19/100 [00:00<00:01, 41.97it/s]\u001b[A\n",
            " 24%|██▍       | 24/100 [00:00<00:01, 42.61it/s]\u001b[A\n",
            " 29%|██▉       | 29/100 [00:00<00:01, 43.20it/s]\u001b[A\n",
            " 34%|███▍      | 34/100 [00:00<00:01, 43.46it/s]\u001b[A\n",
            " 39%|███▉      | 39/100 [00:00<00:01, 43.46it/s]\u001b[A\n",
            " 44%|████▍     | 44/100 [00:01<00:01, 43.70it/s]\u001b[A\n",
            " 49%|████▉     | 49/100 [00:01<00:01, 43.85it/s]\u001b[A\n",
            " 54%|█████▍    | 54/100 [00:01<00:01, 43.91it/s]\u001b[A\n",
            " 59%|█████▉    | 59/100 [00:01<00:00, 44.12it/s]\u001b[A\n",
            " 64%|██████▍   | 64/100 [00:01<00:00, 43.91it/s]\u001b[A\n",
            " 69%|██████▉   | 69/100 [00:01<00:00, 44.32it/s]\u001b[A\n",
            " 74%|███████▍  | 74/100 [00:01<00:00, 44.47it/s]\u001b[A\n",
            " 79%|███████▉  | 79/100 [00:01<00:00, 44.44it/s]\u001b[A\n",
            " 84%|████████▍ | 84/100 [00:01<00:00, 44.15it/s]\u001b[A\n",
            " 89%|████████▉ | 89/100 [00:02<00:00, 43.99it/s]\u001b[A\n",
            " 94%|█████████▍| 94/100 [00:02<00:00, 44.12it/s]\u001b[A\n",
            "100%|██████████| 100/100 [00:02<00:00, 41.53it/s]\n"
          ]
        },
        {
          "metadata": {
            "tags": null
          },
          "name": "stdout",
          "output_type": "stream",
          "text": [
            "VAL MSE =  tensor(0.0986)\n"
          ]
        },
        {
          "metadata": {
            "tags": null
          },
          "name": "stderr",
          "output_type": "stream",
          "text": [
            "Epoch 11: Avg total Loss (2.39e-01) Avg MSE Loss (0.13) Avg SC Loss (0.58)): 100%|██████████| 400/400 [12:37<00:00,  1.89s/it]\n",
            "Epoch NA: Loss (NA) Accuracy (NA %):   0%|          | 0/400 [00:00<?, ?it/s]\n",
            "  0%|          | 0/100 [00:00<?, ?it/s]\u001b[A\n",
            "  3%|▎         | 3/100 [00:00<00:03, 27.68it/s]\u001b[A\n",
            "  8%|▊         | 8/100 [00:00<00:02, 36.73it/s]\u001b[A\n",
            " 13%|█▎        | 13/100 [00:00<00:02, 40.12it/s]\u001b[A\n",
            " 18%|█▊        | 18/100 [00:00<00:01, 41.43it/s]\u001b[A\n",
            " 23%|██▎       | 23/100 [00:00<00:01, 42.50it/s]\u001b[A\n",
            " 28%|██▊       | 28/100 [00:00<00:01, 43.08it/s]\u001b[A\n",
            " 33%|███▎      | 33/100 [00:00<00:01, 43.25it/s]\u001b[A\n",
            " 38%|███▊      | 38/100 [00:00<00:01, 43.24it/s]\u001b[A\n",
            " 43%|████▎     | 43/100 [00:01<00:01, 43.40it/s]\u001b[A\n",
            " 48%|████▊     | 48/100 [00:01<00:01, 43.74it/s]\u001b[A\n",
            " 53%|█████▎    | 53/100 [00:01<00:01, 43.97it/s]\u001b[A\n",
            " 58%|█████▊    | 58/100 [00:01<00:00, 44.08it/s]\u001b[A\n",
            " 63%|██████▎   | 63/100 [00:01<00:00, 44.18it/s]\u001b[A\n",
            " 68%|██████▊   | 68/100 [00:01<00:00, 44.41it/s]\u001b[A\n",
            " 73%|███████▎  | 73/100 [00:01<00:00, 44.42it/s]\u001b[A\n",
            " 78%|███████▊  | 78/100 [00:01<00:00, 44.04it/s]\u001b[A\n",
            " 83%|████████▎ | 83/100 [00:01<00:00, 44.16it/s]\u001b[A\n",
            " 88%|████████▊ | 88/100 [00:02<00:00, 44.17it/s]\u001b[A\n",
            " 93%|█████████▎| 93/100 [00:02<00:00, 44.33it/s]\u001b[A\n",
            "100%|██████████| 100/100 [00:02<00:00, 41.32it/s]\n"
          ]
        },
        {
          "metadata": {
            "tags": null
          },
          "name": "stdout",
          "output_type": "stream",
          "text": [
            "VAL MSE =  tensor(0.0892)\n"
          ]
        },
        {
          "metadata": {
            "tags": null
          },
          "name": "stderr",
          "output_type": "stream",
          "text": [
            "Epoch 12: Avg total Loss (2.36e-01) Avg MSE Loss (0.12) Avg SC Loss (0.57)): 100%|██████████| 400/400 [12:37<00:00,  1.89s/it]\n",
            "Epoch NA: Loss (NA) Accuracy (NA %):   0%|          | 0/400 [00:00<?, ?it/s]\n",
            "  0%|          | 0/100 [00:00<?, ?it/s]\u001b[A\n",
            "  3%|▎         | 3/100 [00:00<00:03, 25.16it/s]\u001b[A\n",
            "  8%|▊         | 8/100 [00:00<00:02, 35.23it/s]\u001b[A\n",
            " 13%|█▎        | 13/100 [00:00<00:02, 38.40it/s]\u001b[A\n",
            " 18%|█▊        | 18/100 [00:00<00:02, 39.71it/s]\u001b[A\n",
            " 23%|██▎       | 23/100 [00:00<00:01, 41.24it/s]\u001b[A\n",
            " 28%|██▊       | 28/100 [00:00<00:01, 41.74it/s]\u001b[A\n",
            " 33%|███▎      | 33/100 [00:00<00:01, 42.54it/s]\u001b[A\n",
            " 38%|███▊      | 38/100 [00:00<00:01, 43.06it/s]\u001b[A\n",
            " 43%|████▎     | 43/100 [00:01<00:01, 43.01it/s]\u001b[A\n",
            " 48%|████▊     | 48/100 [00:01<00:01, 42.99it/s]\u001b[A\n",
            " 53%|█████▎    | 53/100 [00:01<00:01, 43.46it/s]\u001b[A\n",
            " 58%|█████▊    | 58/100 [00:01<00:00, 43.40it/s]\u001b[A\n",
            " 63%|██████▎   | 63/100 [00:01<00:00, 43.68it/s]\u001b[A\n",
            " 68%|██████▊   | 68/100 [00:01<00:00, 43.66it/s]\u001b[A\n",
            " 73%|███████▎  | 73/100 [00:01<00:00, 43.54it/s]\u001b[A\n",
            " 78%|███████▊  | 78/100 [00:01<00:00, 43.56it/s]\u001b[A\n",
            " 83%|████████▎ | 83/100 [00:01<00:00, 43.58it/s]\u001b[A\n",
            " 88%|████████▊ | 88/100 [00:02<00:00, 43.64it/s]\u001b[A\n",
            " 93%|█████████▎| 93/100 [00:02<00:00, 43.84it/s]\u001b[A\n",
            "100%|██████████| 100/100 [00:02<00:00, 40.74it/s]\n"
          ]
        },
        {
          "metadata": {
            "tags": null
          },
          "name": "stdout",
          "output_type": "stream",
          "text": [
            "VAL MSE =  tensor(0.0916)\n"
          ]
        },
        {
          "metadata": {
            "tags": null
          },
          "name": "stderr",
          "output_type": "stream",
          "text": [
            "Epoch 13: Avg total Loss (2.31e-01) Avg MSE Loss (0.12) Avg SC Loss (0.56)): 100%|██████████| 400/400 [12:37<00:00,  1.89s/it]\n",
            "Epoch NA: Loss (NA) Accuracy (NA %):   0%|          | 0/400 [00:00<?, ?it/s]\n",
            "  0%|          | 0/100 [00:00<?, ?it/s]\u001b[A\n",
            "  4%|▍         | 4/100 [00:00<00:02, 36.76it/s]\u001b[A\n",
            "  9%|▉         | 9/100 [00:00<00:02, 41.45it/s]\u001b[A\n",
            " 14%|█▍        | 14/100 [00:00<00:01, 43.19it/s]\u001b[A\n",
            " 19%|█▉        | 19/100 [00:00<00:01, 43.20it/s]\u001b[A\n",
            " 24%|██▍       | 24/100 [00:00<00:01, 43.49it/s]\u001b[A\n",
            " 29%|██▉       | 29/100 [00:00<00:01, 43.92it/s]\u001b[A\n",
            " 34%|███▍      | 34/100 [00:00<00:01, 44.00it/s]\u001b[A\n",
            " 39%|███▉      | 39/100 [00:00<00:01, 43.66it/s]\u001b[A\n",
            " 44%|████▍     | 44/100 [00:01<00:01, 43.32it/s]\u001b[A\n",
            " 49%|████▉     | 49/100 [00:01<00:01, 43.69it/s]\u001b[A\n",
            " 54%|█████▍    | 54/100 [00:01<00:01, 43.59it/s]\u001b[A\n",
            " 59%|█████▉    | 59/100 [00:01<00:00, 43.38it/s]\u001b[A\n",
            " 64%|██████▍   | 64/100 [00:01<00:00, 43.27it/s]\u001b[A\n",
            " 69%|██████▉   | 69/100 [00:01<00:00, 43.08it/s]\u001b[A\n",
            " 74%|███████▍  | 74/100 [00:01<00:00, 43.44it/s]\u001b[A\n",
            " 79%|███████▉  | 79/100 [00:01<00:00, 43.82it/s]\u001b[A\n",
            " 84%|████████▍ | 84/100 [00:01<00:00, 43.99it/s]\u001b[A\n",
            " 89%|████████▉ | 89/100 [00:02<00:00, 43.97it/s]\u001b[A\n",
            " 94%|█████████▍| 94/100 [00:02<00:00, 44.08it/s]\u001b[A\n",
            "100%|██████████| 100/100 [00:02<00:00, 41.58it/s]\n"
          ]
        },
        {
          "metadata": {
            "tags": null
          },
          "name": "stdout",
          "output_type": "stream",
          "text": [
            "VAL MSE =  tensor(0.0962)\n"
          ]
        },
        {
          "metadata": {
            "tags": null
          },
          "name": "stderr",
          "output_type": "stream",
          "text": [
            "Epoch 14: Avg total Loss (2.26e-01) Avg MSE Loss (0.12) Avg SC Loss (0.56)): 100%|██████████| 400/400 [12:37<00:00,  1.89s/it]\n",
            "Epoch NA: Loss (NA) Accuracy (NA %):   0%|          | 0/400 [00:00<?, ?it/s]\n",
            "  0%|          | 0/100 [00:00<?, ?it/s]\u001b[A\n",
            "  4%|▍         | 4/100 [00:00<00:02, 33.48it/s]\u001b[A\n",
            "  9%|▉         | 9/100 [00:00<00:02, 39.32it/s]\u001b[A\n",
            " 14%|█▍        | 14/100 [00:00<00:02, 41.49it/s]\u001b[A\n",
            " 19%|█▉        | 19/100 [00:00<00:01, 42.94it/s]\u001b[A\n",
            " 24%|██▍       | 24/100 [00:00<00:01, 43.50it/s]\u001b[A\n",
            " 29%|██▉       | 29/100 [00:00<00:01, 43.36it/s]\u001b[A\n",
            " 34%|███▍      | 34/100 [00:00<00:01, 43.56it/s]\u001b[A\n",
            " 39%|███▉      | 39/100 [00:00<00:01, 43.58it/s]\u001b[A\n",
            " 44%|████▍     | 44/100 [00:01<00:01, 43.81it/s]\u001b[A\n",
            " 49%|████▉     | 49/100 [00:01<00:01, 43.96it/s]\u001b[A\n",
            " 54%|█████▍    | 54/100 [00:01<00:01, 44.40it/s]\u001b[A\n",
            " 59%|█████▉    | 59/100 [00:01<00:00, 44.35it/s]\u001b[A\n",
            " 64%|██████▍   | 64/100 [00:01<00:00, 44.46it/s]\u001b[A\n",
            " 69%|██████▉   | 69/100 [00:01<00:00, 44.47it/s]\u001b[A\n",
            " 74%|███████▍  | 74/100 [00:01<00:00, 44.40it/s]\u001b[A\n",
            " 79%|███████▉  | 79/100 [00:01<00:00, 44.19it/s]\u001b[A\n",
            " 84%|████████▍ | 84/100 [00:01<00:00, 44.11it/s]\u001b[A\n",
            " 89%|████████▉ | 89/100 [00:02<00:00, 43.91it/s]\u001b[A\n",
            " 94%|█████████▍| 94/100 [00:02<00:00, 43.34it/s]\u001b[A\n",
            "100%|██████████| 100/100 [00:02<00:00, 41.33it/s]\n"
          ]
        },
        {
          "metadata": {
            "tags": null
          },
          "name": "stdout",
          "output_type": "stream",
          "text": [
            "VAL MSE =  tensor(0.0901)\n"
          ]
        },
        {
          "metadata": {
            "tags": null
          },
          "name": "stderr",
          "output_type": "stream",
          "text": [
            "Epoch 15: Avg total Loss (2.28e-01) Avg MSE Loss (0.12) Avg SC Loss (0.56)): 100%|██████████| 400/400 [12:36<00:00,  1.89s/it]\n",
            "Epoch NA: Loss (NA) Accuracy (NA %):   0%|          | 0/400 [00:00<?, ?it/s]\n",
            "  0%|          | 0/100 [00:00<?, ?it/s]\u001b[A\n",
            "  3%|▎         | 3/100 [00:00<00:03, 26.14it/s]\u001b[A\n",
            "  8%|▊         | 8/100 [00:00<00:02, 36.03it/s]\u001b[A\n",
            " 13%|█▎        | 13/100 [00:00<00:02, 39.46it/s]\u001b[A\n",
            " 18%|█▊        | 18/100 [00:00<00:02, 40.14it/s]\u001b[A\n",
            " 23%|██▎       | 23/100 [00:00<00:01, 40.98it/s]\u001b[A\n",
            " 28%|██▊       | 28/100 [00:00<00:01, 41.94it/s]\u001b[A\n",
            " 33%|███▎      | 33/100 [00:00<00:01, 42.42it/s]\u001b[A\n",
            " 38%|███▊      | 38/100 [00:00<00:01, 42.94it/s]\u001b[A\n",
            " 43%|████▎     | 43/100 [00:01<00:01, 42.92it/s]\u001b[A\n",
            " 48%|████▊     | 48/100 [00:01<00:01, 43.35it/s]\u001b[A\n",
            " 53%|█████▎    | 53/100 [00:01<00:01, 43.72it/s]\u001b[A\n",
            " 58%|█████▊    | 58/100 [00:01<00:00, 43.64it/s]\u001b[A\n",
            " 63%|██████▎   | 63/100 [00:01<00:00, 43.49it/s]\u001b[A\n",
            " 68%|██████▊   | 68/100 [00:01<00:00, 43.81it/s]\u001b[A\n",
            " 73%|███████▎  | 73/100 [00:01<00:00, 43.82it/s]\u001b[A\n",
            " 78%|███████▊  | 78/100 [00:01<00:00, 43.96it/s]\u001b[A\n",
            " 83%|████████▎ | 83/100 [00:01<00:00, 44.07it/s]\u001b[A\n",
            " 88%|████████▊ | 88/100 [00:02<00:00, 44.00it/s]\u001b[A\n",
            " 93%|█████████▎| 93/100 [00:02<00:00, 43.99it/s]\u001b[A\n",
            "100%|██████████| 100/100 [00:02<00:00, 40.92it/s]\n"
          ]
        },
        {
          "metadata": {
            "tags": null
          },
          "name": "stdout",
          "output_type": "stream",
          "text": [
            "VAL MSE =  tensor(0.0992)\n"
          ]
        },
        {
          "metadata": {
            "tags": null
          },
          "name": "stderr",
          "output_type": "stream",
          "text": [
            "Epoch 16: Avg total Loss (2.25e-01) Avg MSE Loss (0.12) Avg SC Loss (0.55)): 100%|██████████| 400/400 [12:36<00:00,  1.89s/it]\n",
            "Epoch NA: Loss (NA) Accuracy (NA %):   0%|          | 0/400 [00:00<?, ?it/s]\n",
            "  0%|          | 0/100 [00:00<?, ?it/s]\u001b[A\n",
            "  4%|▍         | 4/100 [00:00<00:02, 34.31it/s]\u001b[A\n",
            "  9%|▉         | 9/100 [00:00<00:02, 39.53it/s]\u001b[A\n",
            " 14%|█▍        | 14/100 [00:00<00:02, 42.14it/s]\u001b[A\n",
            " 19%|█▉        | 19/100 [00:00<00:01, 42.90it/s]\u001b[A\n",
            " 24%|██▍       | 24/100 [00:00<00:01, 42.97it/s]\u001b[A\n",
            " 29%|██▉       | 29/100 [00:00<00:01, 42.75it/s]\u001b[A\n",
            " 34%|███▍      | 34/100 [00:00<00:01, 43.14it/s]\u001b[A\n",
            " 39%|███▉      | 39/100 [00:00<00:01, 43.03it/s]\u001b[A\n",
            " 44%|████▍     | 44/100 [00:01<00:01, 43.17it/s]\u001b[A\n",
            " 49%|████▉     | 49/100 [00:01<00:01, 43.44it/s]\u001b[A\n",
            " 54%|█████▍    | 54/100 [00:01<00:01, 44.00it/s]\u001b[A\n",
            " 59%|█████▉    | 59/100 [00:01<00:00, 43.88it/s]\u001b[A\n",
            " 64%|██████▍   | 64/100 [00:01<00:00, 44.16it/s]\u001b[A\n",
            " 69%|██████▉   | 69/100 [00:01<00:00, 44.17it/s]\u001b[A\n",
            " 74%|███████▍  | 74/100 [00:01<00:00, 43.97it/s]\u001b[A\n",
            " 79%|███████▉  | 79/100 [00:01<00:00, 44.13it/s]\u001b[A\n",
            " 84%|████████▍ | 84/100 [00:01<00:00, 43.94it/s]\u001b[A\n",
            " 89%|████████▉ | 89/100 [00:02<00:00, 44.19it/s]\u001b[A\n",
            " 94%|█████████▍| 94/100 [00:02<00:00, 44.28it/s]\u001b[A\n",
            "100%|██████████| 100/100 [00:02<00:00, 41.63it/s]\n"
          ]
        },
        {
          "metadata": {
            "tags": null
          },
          "name": "stdout",
          "output_type": "stream",
          "text": [
            "VAL MSE =  tensor(0.1112)\n"
          ]
        },
        {
          "metadata": {
            "tags": null
          },
          "name": "stderr",
          "output_type": "stream",
          "text": [
            "Epoch 17: Avg total Loss (2.21e-01) Avg MSE Loss (0.11) Avg SC Loss (0.54)): 100%|██████████| 400/400 [12:36<00:00,  1.89s/it]\n",
            "Epoch NA: Loss (NA) Accuracy (NA %):   0%|          | 0/400 [00:00<?, ?it/s]\n",
            "  0%|          | 0/100 [00:00<?, ?it/s]\u001b[A\n",
            "  4%|▍         | 4/100 [00:00<00:02, 33.62it/s]\u001b[A\n",
            "  9%|▉         | 9/100 [00:00<00:02, 39.39it/s]\u001b[A\n",
            " 14%|█▍        | 14/100 [00:00<00:02, 41.99it/s]\u001b[A\n",
            " 19%|█▉        | 19/100 [00:00<00:01, 42.66it/s]\u001b[A\n",
            " 24%|██▍       | 24/100 [00:00<00:01, 42.97it/s]\u001b[A\n",
            " 29%|██▉       | 29/100 [00:00<00:01, 43.51it/s]\u001b[A\n",
            " 34%|███▍      | 34/100 [00:00<00:01, 43.30it/s]\u001b[A\n",
            " 39%|███▉      | 39/100 [00:00<00:01, 43.57it/s]\u001b[A\n",
            " 44%|████▍     | 44/100 [00:01<00:01, 43.52it/s]\u001b[A\n",
            " 49%|████▉     | 49/100 [00:01<00:01, 43.79it/s]\u001b[A\n",
            " 54%|█████▍    | 54/100 [00:01<00:01, 44.02it/s]\u001b[A\n",
            " 59%|█████▉    | 59/100 [00:01<00:00, 43.94it/s]\u001b[A\n",
            " 64%|██████▍   | 64/100 [00:01<00:00, 44.05it/s]\u001b[A\n",
            " 69%|██████▉   | 69/100 [00:01<00:00, 44.00it/s]\u001b[A\n",
            " 74%|███████▍  | 74/100 [00:01<00:00, 44.15it/s]\u001b[A\n",
            " 79%|███████▉  | 79/100 [00:01<00:00, 44.01it/s]\u001b[A\n",
            " 84%|████████▍ | 84/100 [00:01<00:00, 43.94it/s]\u001b[A\n",
            " 89%|████████▉ | 89/100 [00:02<00:00, 43.83it/s]\u001b[A\n",
            " 94%|█████████▍| 94/100 [00:02<00:00, 43.57it/s]\u001b[A\n",
            "100%|██████████| 100/100 [00:02<00:00, 41.53it/s]\n"
          ]
        },
        {
          "metadata": {
            "tags": null
          },
          "name": "stdout",
          "output_type": "stream",
          "text": [
            "VAL MSE =  tensor(0.1051)\n"
          ]
        },
        {
          "output_type": "stream",
          "name": "stderr",
          "text": [
            "Epoch 18: Avg total Loss (2.19e-01) Avg MSE Loss (0.11) Avg SC Loss (0.54)): 100%|██████████| 400/400 [12:36<00:00,  1.89s/it]\n",
            "Epoch NA: Loss (NA) Accuracy (NA %):   0%|          | 0/400 [00:00<?, ?it/s]\n",
            "  0%|          | 0/100 [00:00<?, ?it/s]\u001b[A\n",
            "  4%|▍         | 4/100 [00:00<00:02, 35.88it/s]\u001b[A\n",
            "  9%|▉         | 9/100 [00:00<00:02, 40.57it/s]\u001b[A\n",
            " 14%|█▍        | 14/100 [00:00<00:02, 42.37it/s]\u001b[A\n",
            " 19%|█▉        | 19/100 [00:00<00:01, 43.39it/s]\u001b[A\n",
            " 24%|██▍       | 24/100 [00:00<00:01, 43.53it/s]\u001b[A\n",
            " 29%|██▉       | 29/100 [00:00<00:01, 43.74it/s]\u001b[A\n",
            " 34%|███▍      | 34/100 [00:00<00:01, 43.99it/s]\u001b[A\n",
            " 39%|███▉      | 39/100 [00:00<00:01, 44.06it/s]\u001b[A\n",
            " 44%|████▍     | 44/100 [00:01<00:01, 44.14it/s]\u001b[A\n",
            " 49%|████▉     | 49/100 [00:01<00:01, 44.08it/s]\u001b[A\n",
            " 54%|█████▍    | 54/100 [00:01<00:01, 43.79it/s]\u001b[A\n",
            " 59%|█████▉    | 59/100 [00:01<00:00, 44.11it/s]\u001b[A\n",
            " 64%|██████▍   | 64/100 [00:01<00:00, 43.89it/s]\u001b[A\n",
            " 69%|██████▉   | 69/100 [00:01<00:00, 43.93it/s]\u001b[A\n",
            " 74%|███████▍  | 74/100 [00:01<00:00, 43.80it/s]\u001b[A\n",
            " 79%|███████▉  | 79/100 [00:01<00:00, 43.65it/s]\u001b[A\n",
            " 84%|████████▍ | 84/100 [00:01<00:00, 43.90it/s]\u001b[A\n",
            " 89%|████████▉ | 89/100 [00:02<00:00, 43.79it/s]\u001b[A\n",
            " 94%|█████████▍| 94/100 [00:02<00:00, 43.78it/s]\u001b[A\n",
            "100%|██████████| 100/100 [00:02<00:00, 41.77it/s]\n"
          ]
        },
        {
          "output_type": "stream",
          "name": "stdout",
          "text": [
            "VAL MSE =  tensor(0.1052)\n"
          ]
        },
        {
          "output_type": "stream",
          "name": "stderr",
          "text": [
            "Epoch 19: Avg total Loss (2.14e-01) Avg MSE Loss (0.11) Avg SC Loss (0.53)): 100%|██████████| 400/400 [12:37<00:00,  1.89s/it]\n"
          ]
        }
      ]
    },
    {
      "cell_type": "code",
      "source": [
        "torch.save(u_net_model.state_dict(), 'u_net_alpha_0.75.pt') ;"
      ],
      "metadata": {
        "id": "0knY9D5hjCMD"
      },
      "execution_count": null,
      "outputs": []
    },
    {
      "cell_type": "code",
      "source": [],
      "metadata": {
        "id": "2AjKaD5tjKFx"
      },
      "execution_count": null,
      "outputs": []
    },
    {
      "cell_type": "code",
      "source": [
        "for epoch in range(5):\n",
        "    #print('Epoch: {}\\tValidation Accuracy: {:.4f}%'.format(epoch, evaluate(val_loader, net) * 100))\n",
        "    train(train_dataloader, val_dataloader , u_net_model, optim, epoch, cnn, normalization_mean=cnn_normalization_mean, normalization_std=cnn_normalization_std, alpha=0)\n",
        "    if ((epoch+1)%5==0):\n",
        "      torch.save(u_net_model.state_dict(), 'u_net_alpha_0.pt') ; "
      ],
      "metadata": {
        "colab": {
          "base_uri": "https://localhost:8080/"
        },
        "id": "OYDl8WRjjFhN",
        "outputId": "6c403bea-19b3-4a33-8947-16df72548184"
      },
      "execution_count": null,
      "outputs": [
        {
          "output_type": "stream",
          "name": "stderr",
          "text": [
            "Epoch NA: Loss (NA) Accuracy (NA %):   0%|          | 0/400 [00:00<?, ?it/s]\n",
            "  0%|          | 0/100 [00:00<?, ?it/s]\u001b[A\n",
            "  2%|▏         | 2/100 [00:00<00:05, 18.79it/s]\u001b[A\n",
            "  5%|▌         | 5/100 [00:00<00:04, 22.93it/s]\u001b[A\n",
            "  9%|▉         | 9/100 [00:00<00:03, 28.39it/s]\u001b[A\n",
            " 14%|█▍        | 14/100 [00:00<00:02, 34.56it/s]\u001b[A\n",
            " 19%|█▉        | 19/100 [00:00<00:02, 38.19it/s]\u001b[A\n",
            " 24%|██▍       | 24/100 [00:00<00:01, 40.28it/s]\u001b[A\n",
            " 29%|██▉       | 29/100 [00:00<00:01, 41.23it/s]\u001b[A\n",
            " 34%|███▍      | 34/100 [00:00<00:01, 42.77it/s]\u001b[A\n",
            " 39%|███▉      | 39/100 [00:01<00:01, 43.79it/s]\u001b[A\n",
            " 44%|████▍     | 44/100 [00:01<00:01, 44.49it/s]\u001b[A\n",
            " 49%|████▉     | 49/100 [00:01<00:01, 44.12it/s]\u001b[A\n",
            " 54%|█████▍    | 54/100 [00:01<00:01, 45.18it/s]\u001b[A\n",
            " 59%|█████▉    | 59/100 [00:01<00:00, 45.63it/s]\u001b[A\n",
            " 64%|██████▍   | 64/100 [00:01<00:00, 45.73it/s]\u001b[A\n",
            " 69%|██████▉   | 69/100 [00:01<00:00, 45.41it/s]\u001b[A\n",
            " 74%|███████▍  | 74/100 [00:01<00:00, 45.68it/s]\u001b[A\n",
            " 79%|███████▉  | 79/100 [00:01<00:00, 46.08it/s]\u001b[A\n",
            " 84%|████████▍ | 84/100 [00:01<00:00, 45.56it/s]\u001b[A\n",
            " 89%|████████▉ | 89/100 [00:02<00:00, 45.34it/s]\u001b[A\n",
            " 94%|█████████▍| 94/100 [00:02<00:00, 44.75it/s]\u001b[A\n",
            "100%|██████████| 100/100 [00:02<00:00, 40.10it/s]\n",
            "/usr/local/lib/python3.7/dist-packages/ipykernel_launcher.py:15: UserWarning: To copy construct from a tensor, it is recommended to use sourceTensor.clone().detach() or sourceTensor.clone().detach().requires_grad_(True), rather than torch.tensor(sourceTensor).\n",
            "  from ipykernel import kernelapp as app\n",
            "/usr/local/lib/python3.7/dist-packages/ipykernel_launcher.py:16: UserWarning: To copy construct from a tensor, it is recommended to use sourceTensor.clone().detach() or sourceTensor.clone().detach().requires_grad_(True), rather than torch.tensor(sourceTensor).\n",
            "  app.launch_new_instance()\n"
          ]
        },
        {
          "output_type": "stream",
          "name": "stdout",
          "text": [
            "VAL MSE =  tensor(0.4120)\n"
          ]
        },
        {
          "output_type": "stream",
          "name": "stderr",
          "text": [
            "Epoch 0: Avg total Loss (4.60e-01) Avg MSE Loss (0.12) Avg SC Loss (0.46)):  21%|██▏       | 85/400 [02:36<09:43,  1.85s/it]"
          ]
        }
      ]
    },
    {
      "cell_type": "code",
      "source": [
        "for epoch in range(num_epochs):\n",
        "    #print('Epoch: {}\\tValidation Accuracy: {:.4f}%'.format(epoch, evaluate(val_loader, net) * 100))\n",
        "    train(train_dataloader, u_net_model, optim, epoch, cnn, normalization_mean=cnn_normalization_mean, normalization_std=cnn_normalization_std, alpha=0.5)"
      ],
      "metadata": {
        "colab": {
          "base_uri": "https://localhost:8080/",
          "height": 204
        },
        "id": "dim6h6AvzYpH",
        "outputId": "a9282a5f-c5a1-46d2-c488-1d165c94c776"
      },
      "execution_count": null,
      "outputs": [
        {
          "output_type": "error",
          "ename": "NameError",
          "evalue": "ignored",
          "traceback": [
            "\u001b[0;31m---------------------------------------------------------------------------\u001b[0m",
            "\u001b[0;31mNameError\u001b[0m                                 Traceback (most recent call last)",
            "\u001b[0;32m<ipython-input-1-c4ef7e432c44>\u001b[0m in \u001b[0;36m<module>\u001b[0;34m()\u001b[0m\n\u001b[0;32m----> 1\u001b[0;31m \u001b[0;32mfor\u001b[0m \u001b[0mepoch\u001b[0m \u001b[0;32min\u001b[0m \u001b[0mrange\u001b[0m\u001b[0;34m(\u001b[0m\u001b[0mnum_epochs\u001b[0m\u001b[0;34m)\u001b[0m\u001b[0;34m:\u001b[0m\u001b[0;34m\u001b[0m\u001b[0;34m\u001b[0m\u001b[0m\n\u001b[0m\u001b[1;32m      2\u001b[0m     \u001b[0;31m#print('Epoch: {}\\tValidation Accuracy: {:.4f}%'.format(epoch, evaluate(val_loader, net) * 100))\u001b[0m\u001b[0;34m\u001b[0m\u001b[0;34m\u001b[0m\u001b[0;34m\u001b[0m\u001b[0m\n\u001b[1;32m      3\u001b[0m     \u001b[0mtrain\u001b[0m\u001b[0;34m(\u001b[0m\u001b[0mtrain_dataloader\u001b[0m\u001b[0;34m,\u001b[0m \u001b[0mu_net_model\u001b[0m\u001b[0;34m,\u001b[0m \u001b[0moptim\u001b[0m\u001b[0;34m,\u001b[0m \u001b[0mepoch\u001b[0m\u001b[0;34m,\u001b[0m \u001b[0mcnn\u001b[0m\u001b[0;34m,\u001b[0m \u001b[0mnormalization_mean\u001b[0m\u001b[0;34m=\u001b[0m\u001b[0mcnn_normalization_mean\u001b[0m\u001b[0;34m,\u001b[0m \u001b[0mnormalization_std\u001b[0m\u001b[0;34m=\u001b[0m\u001b[0mcnn_normalization_std\u001b[0m\u001b[0;34m,\u001b[0m \u001b[0malpha\u001b[0m\u001b[0;34m=\u001b[0m\u001b[0;36m0.5\u001b[0m\u001b[0;34m)\u001b[0m\u001b[0;34m\u001b[0m\u001b[0;34m\u001b[0m\u001b[0m\n",
            "\u001b[0;31mNameError\u001b[0m: name 'num_epochs' is not defined"
          ]
        }
      ]
    },
    {
      "cell_type": "code",
      "source": [
        "for epoch in range(20):\n",
        "    #print('Epoch: {}\\tValidation Accuracy: {:.4f}%'.format(epoch, evaluate(val_loader, net) * 100))\n",
        "    train(train_dataloader, u_net_model, optim, epoch, cnn, normalization_mean=cnn_normalization_mean, normalization_std=cnn_normalization_std, alpha=0.5)"
      ],
      "metadata": {
        "colab": {
          "base_uri": "https://localhost:8080/"
        },
        "id": "3AYLlEly3OLy",
        "outputId": "c39eb873-ee0b-4e7e-eecb-4b2b6b7143fa"
      },
      "execution_count": null,
      "outputs": [
        {
          "output_type": "stream",
          "name": "stderr",
          "text": [
            "Epoch NA: Loss (NA) Accuracy (NA %):   0%|          | 0/80 [00:00<?, ?it/s]/usr/local/lib/python3.7/dist-packages/ipykernel_launcher.py:15: UserWarning: To copy construct from a tensor, it is recommended to use sourceTensor.clone().detach() or sourceTensor.clone().detach().requires_grad_(True), rather than torch.tensor(sourceTensor).\n",
            "  from ipykernel import kernelapp as app\n",
            "/usr/local/lib/python3.7/dist-packages/ipykernel_launcher.py:16: UserWarning: To copy construct from a tensor, it is recommended to use sourceTensor.clone().detach() or sourceTensor.clone().detach().requires_grad_(True), rather than torch.tensor(sourceTensor).\n",
            "  app.launch_new_instance()\n",
            "Epoch 0: Avg total Loss (4.15e+02) Avg MSE Loss (519.08) Avg SC Loss (3.1e+02): 100%|██████████| 80/80 [01:29<00:00,  1.12s/it]\n",
            "Epoch 1: Avg total Loss (4.02e+02) Avg MSE Loss (511.87) Avg SC Loss (2.9e+02): 100%|██████████| 80/80 [01:29<00:00,  1.12s/it]\n",
            "Epoch 2: Avg total Loss (3.96e+02) Avg MSE Loss (502.52) Avg SC Loss (2.9e+02): 100%|██████████| 80/80 [01:29<00:00,  1.12s/it]\n",
            "Epoch 3: Avg total Loss (4.13e+02) Avg MSE Loss (506.18) Avg SC Loss (3.2e+02): 100%|██████████| 80/80 [01:29<00:00,  1.12s/it]\n",
            "Epoch 4: Avg total Loss (3.89e+02) Avg MSE Loss (490.65) Avg SC Loss (2.9e+02): 100%|██████████| 80/80 [01:29<00:00,  1.12s/it]\n",
            "Epoch 5: Avg total Loss (4.68e+02) Avg MSE Loss (531.91) Avg SC Loss (4e+02): 100%|██████████| 80/80 [01:29<00:00,  1.12s/it]\n",
            "Epoch 6: Avg total Loss (3.88e+02) Avg MSE Loss (491.68) Avg SC Loss (2.8e+02): 100%|██████████| 80/80 [01:29<00:00,  1.12s/it]\n",
            "Epoch 7: Avg total Loss (3.82e+02) Avg MSE Loss (482.87) Avg SC Loss (2.8e+02): 100%|██████████| 80/80 [01:29<00:00,  1.12s/it]\n",
            "Epoch 8: Avg total Loss (3.42e+02) Avg MSE Loss (459.25) Avg SC Loss (2.3e+02): 100%|██████████| 80/80 [01:29<00:00,  1.12s/it]\n",
            "Epoch 9: Avg total Loss (3.72e+02) Avg MSE Loss (473.95) Avg SC Loss (2.7e+02): 100%|██████████| 80/80 [01:29<00:00,  1.12s/it]\n",
            "Epoch 10: Avg total Loss (3.55e+02) Avg MSE Loss (454.60) Avg SC Loss (2.6e+02): 100%|██████████| 80/80 [01:29<00:00,  1.12s/it]\n",
            "Epoch 11: Avg total Loss (3.34e+02) Avg MSE Loss (443.51) Avg SC Loss (2.3e+02): 100%|██████████| 80/80 [01:29<00:00,  1.12s/it]\n",
            "Epoch 12: Avg total Loss (3.68e+02) Avg MSE Loss (452.67) Avg SC Loss (2.8e+02): 100%|██████████| 80/80 [01:29<00:00,  1.12s/it]\n",
            "Epoch 13: Avg total Loss (3.15e+02) Avg MSE Loss (424.94) Avg SC Loss (2e+02): 100%|██████████| 80/80 [01:29<00:00,  1.12s/it]\n",
            "Epoch 14: Avg total Loss (3.42e+02) Avg MSE Loss (440.92) Avg SC Loss (2.4e+02): 100%|██████████| 80/80 [01:29<00:00,  1.12s/it]\n",
            "Epoch 15: Avg total Loss (3.33e+02) Avg MSE Loss (430.28) Avg SC Loss (2.4e+02): 100%|██████████| 80/80 [01:29<00:00,  1.12s/it]\n",
            "Epoch 16: Avg total Loss (3.22e+02) Avg MSE Loss (419.93) Avg SC Loss (2.2e+02): 100%|██████████| 80/80 [01:29<00:00,  1.12s/it]\n",
            "Epoch 17: Avg total Loss (3.20e+02) Avg MSE Loss (418.06) Avg SC Loss (2.2e+02): 100%|██████████| 80/80 [01:29<00:00,  1.12s/it]\n",
            "Epoch 18: Avg total Loss (3.09e+02) Avg MSE Loss (404.01) Avg SC Loss (2.1e+02): 100%|██████████| 80/80 [01:29<00:00,  1.12s/it]\n",
            "Epoch 19: Avg total Loss (2.84e+02) Avg MSE Loss (392.64) Avg SC Loss (1.8e+02): 100%|██████████| 80/80 [01:29<00:00,  1.12s/it]\n"
          ]
        }
      ]
    },
    {
      "cell_type": "code",
      "source": [
        "for epoch in range(10):\n",
        "    #print('Epoch: {}\\tValidation Accuracy: {:.4f}%'.format(epoch, evaluate(val_loader, net) * 100))\n",
        "    train(train_dataloader, u_net_model, optim, epoch, cnn, normalization_mean=cnn_normalization_mean, normalization_std=cnn_normalization_std, alpha=0.5)"
      ],
      "metadata": {
        "colab": {
          "base_uri": "https://localhost:8080/"
        },
        "id": "9oHooon7Aaxx",
        "outputId": "c0be579c-e777-429d-f6d9-583fd0b676be"
      },
      "execution_count": null,
      "outputs": [
        {
          "output_type": "stream",
          "name": "stderr",
          "text": [
            "Epoch NA: Loss (NA) Accuracy (NA %):   0%|          | 0/80 [00:00<?, ?it/s]/usr/local/lib/python3.7/dist-packages/ipykernel_launcher.py:15: UserWarning: To copy construct from a tensor, it is recommended to use sourceTensor.clone().detach() or sourceTensor.clone().detach().requires_grad_(True), rather than torch.tensor(sourceTensor).\n",
            "  from ipykernel import kernelapp as app\n",
            "/usr/local/lib/python3.7/dist-packages/ipykernel_launcher.py:16: UserWarning: To copy construct from a tensor, it is recommended to use sourceTensor.clone().detach() or sourceTensor.clone().detach().requires_grad_(True), rather than torch.tensor(sourceTensor).\n",
            "  app.launch_new_instance()\n",
            "Epoch 0: Avg total Loss (2.75e+02) Avg MSE Loss (381.91) Avg SC Loss (1.7e+02): 100%|██████████| 80/80 [01:29<00:00,  1.12s/it]\n",
            "Epoch 1: Avg total Loss (2.83e+02) Avg MSE Loss (383.24) Avg SC Loss (1.8e+02): 100%|██████████| 80/80 [01:29<00:00,  1.12s/it]\n",
            "Epoch 2: Avg total Loss (2.89e+02) Avg MSE Loss (385.98) Avg SC Loss (1.9e+02): 100%|██████████| 80/80 [01:29<00:00,  1.12s/it]\n",
            "Epoch 3: Avg total Loss (3.05e+02) Avg MSE Loss (391.27) Avg SC Loss (2.2e+02): 100%|██████████| 80/80 [01:29<00:00,  1.12s/it]\n",
            "Epoch 4: Avg total Loss (3.62e+02) Avg MSE Loss (433.14) Avg SC Loss (2.9e+02): 100%|██████████| 80/80 [01:29<00:00,  1.12s/it]\n",
            "Epoch 5: Avg total Loss (2.95e+02) Avg MSE Loss (389.67) Avg SC Loss (2e+02): 100%|██████████| 80/80 [01:29<00:00,  1.12s/it]\n",
            "Epoch 6: Avg total Loss (2.88e+02) Avg MSE Loss (378.21) Avg SC Loss (2e+02): 100%|██████████| 80/80 [01:29<00:00,  1.12s/it]\n",
            "Epoch 7: Avg total Loss (2.82e+02) Avg MSE Loss (375.16) Avg SC Loss (1.9e+02): 100%|██████████| 80/80 [01:29<00:00,  1.12s/it]\n",
            "Epoch 8: Avg total Loss (2.56e+02) Avg MSE Loss (346.74) Avg SC Loss (1.6e+02): 100%|██████████| 80/80 [01:29<00:00,  1.12s/it]\n",
            "Epoch 9: Avg total Loss (2.63e+02) Avg MSE Loss (358.00) Avg SC Loss (1.7e+02): 100%|██████████| 80/80 [01:29<00:00,  1.12s/it]\n"
          ]
        }
      ]
    },
    {
      "cell_type": "code",
      "source": [
        "ot = u_net_model(train_data[7,:13,:,:][None,:,:,:].to(device))"
      ],
      "metadata": {
        "id": "4HsbyGqzi7_O"
      },
      "execution_count": null,
      "outputs": []
    },
    {
      "cell_type": "code",
      "source": [
        "ot.shape"
      ],
      "metadata": {
        "id": "lFAC2ZJd0dhR",
        "outputId": "be8de1c0-c253-4a0d-ff70-a41debcb2ae5",
        "colab": {
          "base_uri": "https://localhost:8080/"
        }
      },
      "execution_count": null,
      "outputs": [
        {
          "output_type": "execute_result",
          "data": {
            "text/plain": [
              "torch.Size([1, 12, 96, 96])"
            ]
          },
          "metadata": {},
          "execution_count": 34
        }
      ]
    },
    {
      "cell_type": "code",
      "source": [
        "img_index=0\n",
        "cmap,norm,vmin,vmax=get_cmap('vil')\n",
        "fig,axs=plt.subplots(1,10,figsize=(20,8))\n",
        "for i in range(10):\n",
        "    axs[i].imshow((ot.detach().cpu()[img_index,i,:,:]*norm_['scale']+norm_['shift']),origin='lower',cmap=cmap,norm=norm,vmin=vmin,vmax=vmax) \n",
        "    axs[i].set_axis_off()"
      ],
      "metadata": {
        "colab": {
          "base_uri": "https://localhost:8080/",
          "height": 125
        },
        "id": "kznbD7s4i7yX",
        "outputId": "7a36fa9a-d72b-40f9-ff61-f396a6d7683d"
      },
      "execution_count": null,
      "outputs": [
        {
          "output_type": "display_data",
          "data": {
            "text/plain": [
              "<Figure size 1440x576 with 10 Axes>"
            ],
            "image/png": "[encoded data removed]"
          },
          "metadata": {
            "needs_background": "light"
          }
        }
      ]
    },
    {
      "cell_type": "code",
      "source": [
        "img_index=7\n",
        "cmap,norm,vmin,vmax=get_cmap('vil')\n",
        "fig,axs=plt.subplots(1,10,figsize=(20,8))\n",
        "for i in range(10):\n",
        "    axs[i].imshow((train_data.detach().cpu()[img_index,i+13,:,:]*norm_['scale']+norm_['shift']),origin='lower',cmap=cmap,norm=norm,vmin=vmin,vmax=vmax) \n",
        "    axs[i].set_axis_off()"
      ],
      "metadata": {
        "id": "g0FFySp2i7gK"
      },
      "execution_count": null,
      "outputs": []
    },
    {
      "cell_type": "code",
      "source": [
        "ot = u_net_model(train_data[7,:13,:,:][None,:,:,:].to(device))"
      ],
      "metadata": {
        "id": "dQf-7v39ya4T"
      },
      "execution_count": null,
      "outputs": []
    },
    {
      "cell_type": "code",
      "source": [
        "img_index=0\n",
        "cmap,norm,vmin,vmax=get_cmap('vil')\n",
        "fig,axs=plt.subplots(1,10,figsize=(20,8))\n",
        "for i in range(10):\n",
        "    axs[i].imshow((ot.detach().cpu()[img_index,i,:,:]*norm_['scale']+norm_['shift']),origin='lower',cmap=cmap,norm=norm,vmin=vmin,vmax=vmax) \n",
        "    axs[i].set_axis_off()"
      ],
      "metadata": {
        "colab": {
          "base_uri": "https://localhost:8080/",
          "height": 125
        },
        "id": "iYyDcMC66vU-",
        "outputId": "91ea66a6-7c40-46b8-cbc6-e5cd0ae2bc2a"
      },
      "execution_count": null,
      "outputs": [
        {
          "output_type": "display_data",
          "data": {
            "text/plain": [
              "<Figure size 1440x576 with 10 Axes>"
            ],
            "image/png": "[encoded data removed]"
          },
          "metadata": {
            "needs_background": "light"
          }
        }
      ]
    },
    {
      "cell_type": "code",
      "source": [
        "img_index=7\n",
        "cmap,norm,vmin,vmax=get_cmap('vil')\n",
        "fig,axs=plt.subplots(1,10,figsize=(20,8))\n",
        "for i in range(10):\n",
        "    axs[i].imshow((train_data.detach().cpu()[img_index,i+13,:,:]*norm_['scale']+norm_['shift']),origin='lower',cmap=cmap,norm=norm,vmin=vmin,vmax=vmax) \n",
        "    axs[i].set_axis_off()"
      ],
      "metadata": {
        "colab": {
          "base_uri": "https://localhost:8080/",
          "height": 125
        },
        "id": "Q-_C3chi6vG7",
        "outputId": "ac6db6ac-a2b7-4aed-bcd9-7df074d64723"
      },
      "execution_count": null,
      "outputs": [
        {
          "output_type": "display_data",
          "data": {
            "text/plain": [
              "<Figure size 1440x576 with 10 Axes>"
            ],
            "image/png": "[encoded data removed]"
          },
          "metadata": {
            "needs_background": "light"
          }
        }
      ]
    },
    {
      "cell_type": "code",
      "source": [
        "ot = u_net_model(val_data[0,:13,:,:][None,:,:,:].to(device))"
      ],
      "metadata": {
        "id": "FwIQV9T199uG"
      },
      "execution_count": null,
      "outputs": []
    },
    {
      "cell_type": "code",
      "source": [
        "img_index=0\n",
        "cmap,norm,vmin,vmax=get_cmap('vil')\n",
        "fig,axs=plt.subplots(1,10,figsize=(20,8))\n",
        "for i in range(10):\n",
        "    axs[i].imshow((ot.detach().cpu()[img_index,i,:,:]*norm_['scale']+norm_['shift']),origin='lower',cmap=cmap,norm=norm,vmin=vmin,vmax=vmax) \n",
        "    axs[i].set_axis_off()"
      ],
      "metadata": {
        "colab": {
          "base_uri": "https://localhost:8080/",
          "height": 125
        },
        "id": "bm-fZYlV99ad",
        "outputId": "44a171c4-242e-4d89-99aa-de40f01e3420"
      },
      "execution_count": null,
      "outputs": [
        {
          "output_type": "display_data",
          "data": {
            "text/plain": [
              "<Figure size 1440x576 with 10 Axes>"
            ],
            "image/png": "[encoded data removed]"
          },
          "metadata": {
            "needs_background": "light"
          }
        }
      ]
    },
    {
      "cell_type": "code",
      "source": [
        "\n",
        "img_index=0\n",
        "cmap,norm,vmin,vmax=get_cmap('vil')\n",
        "fig,axs=plt.subplots(1,10,figsize=(20,8))\n",
        "for i in range(10):\n",
        "    axs[i].imshow((val_data.detach().cpu()[img_index,i+13,:,:]*norm_['scale']+norm_['shift']),origin='lower',cmap=cmap,norm=norm,vmin=vmin,vmax=vmax) \n",
        "    axs[i].set_axis_off()"
      ],
      "metadata": {
        "colab": {
          "base_uri": "https://localhost:8080/",
          "height": 125
        },
        "id": "MKEdQGAKyCQI",
        "outputId": "d773098f-a479-473b-ffc0-d9a0a567d32a"
      },
      "execution_count": null,
      "outputs": [
        {
          "output_type": "display_data",
          "data": {
            "text/plain": [
              "<Figure size 1440x576 with 10 Axes>"
            ],
            "image/png": "[encoded data removed]"
          },
          "metadata": {
            "needs_background": "light"
          }
        }
      ]
    },
    {
      "cell_type": "code",
      "source": [
        "torch.save(u_net_model.state_dict(), 'u_net1.pt') ; "
      ],
      "metadata": {
        "id": "N0ogygn-fX-v"
      },
      "execution_count": null,
      "outputs": []
    },
    {
      "cell_type": "code",
      "source": [
        "check = SmaAt_UNet(n_channels=13 , n_classes=12) ;\n",
        "check = check.to(device) ; "
      ],
      "metadata": {
        "id": "rTzOuv3DesRC"
      },
      "execution_count": null,
      "outputs": []
    },
    {
      "cell_type": "code",
      "source": [
        "check.load_state_dict(torch.load('u_net_alpha_0.5.pt')) ; "
      ],
      "metadata": {
        "id": "5D-8jjvSVT59"
      },
      "execution_count": null,
      "outputs": []
    },
    {
      "cell_type": "code",
      "source": [
        "ot = check(train_data[7,:13,:,:][None,:,:,:].to(device))"
      ],
      "metadata": {
        "id": "RhzsDPeQ33fU"
      },
      "execution_count": null,
      "outputs": []
    },
    {
      "cell_type": "code",
      "source": [
        "img_index=0\n",
        "cmap,norm,vmin,vmax=get_cmap('vil')\n",
        "fig,axs=plt.subplots(1,10,figsize=(20,8))\n",
        "for i in range(10):\n",
        "    axs[i].imshow((ot.detach().cpu()[img_index,i,:,:]*norm_['scale']+norm_['shift']),origin='lower',cmap=cmap,norm=norm,vmin=vmin,vmax=vmax) \n",
        "    axs[i].set_axis_off()"
      ],
      "metadata": {
        "colab": {
          "base_uri": "https://localhost:8080/",
          "height": 125
        },
        "id": "AbQbB6hUjdk4",
        "outputId": "421a6d01-6fe7-4536-a217-bf7f74b00882"
      },
      "execution_count": null,
      "outputs": [
        {
          "output_type": "display_data",
          "data": {
            "text/plain": [
              "<Figure size 1440x576 with 10 Axes>"
            ],
            "image/png": "[encoded data removed]"
          },
          "metadata": {
            "needs_background": "light"
          }
        }
      ]
    },
    {
      "cell_type": "code",
      "source": [],
      "metadata": {
        "id": "gE_WN0kkjc9q"
      },
      "execution_count": null,
      "outputs": []
    },
    {
      "cell_type": "code",
      "source": [
        "img_index=0\n",
        "cmap,norm,vmin,vmax=get_cmap('vil')\n",
        "fig,axs=plt.subplots(1,10,figsize=(20,8))\n",
        "for i in range(10):\n",
        "    axs[i].imshow(ot.detach().cpu()[img_index,i,:,:],origin='lower',cmap=cmap,norm=norm,vmin=vmin,vmax=vmax) \n",
        "    axs[i].set_axis_off()"
      ],
      "metadata": {
        "colab": {
          "base_uri": "https://localhost:8080/",
          "height": 125
        },
        "id": "_T1jq94U4A48",
        "outputId": "94f2e044-4654-418f-e143-a9645137a681"
      },
      "execution_count": null,
      "outputs": [
        {
          "output_type": "display_data",
          "data": {
            "text/plain": [
              "<Figure size 1440x576 with 10 Axes>"
            ],
            "image/png": "[encoded data removed]"
          },
          "metadata": {
            "needs_background": "light"
          }
        }
      ]
    },
    {
      "cell_type": "markdown",
      "source": [
        "## Define Evaluation functions and Metrics\n"
      ],
      "metadata": {
        "id": "gHg2lgS_utOp"
      }
    },
    {
      "cell_type": "code",
      "source": [
        "## \n",
        "# Functions for plotting results\n",
        "##\n",
        "\n",
        "norm = {'scale':47.54,'shift':33.44}\n",
        "hmf_colors = np.array( [\n",
        "    [82,82,82], \n",
        "    [252,141,89],\n",
        "    [255,255,191],\n",
        "    [145,191,219]\n",
        "])/255\n",
        "\n",
        "# Model that implements persistence forecast that just repeasts last frame of input\n",
        "class persistence:\n",
        "    def predict(self,x_test):\n",
        "        return np.tile(x_test[:,-1:,:,:],[1,12,1,1])\n",
        "\n",
        "def plot_hit_miss_fa(ax,y_true,y_pred,thres):       ## Takes input as numpy array\n",
        "    mask = np.zeros_like(y_true)\n",
        "    mask[np.logical_and(y_true>=thres,y_pred>=thres)]=4\n",
        "    mask[np.logical_and(y_true>=thres,y_pred<thres)]=3\n",
        "    mask[np.logical_and(y_true<thres,y_pred>=thres)]=2\n",
        "    mask[np.logical_and(y_true<thres,y_pred<thres)]=1\n",
        "    cmap=ListedColormap(hmf_colors)\n",
        "    ax.imshow(mask,cmap=cmap)\n",
        "\n",
        "\n",
        "def visualize_result(models,x_test,y_test,idx,ax,labels, thresh):\n",
        "    fs=10\n",
        "    cmap_dict = lambda s: {'cmap':get_cmap(s,encoded=True)[0],\n",
        "                           'norm':get_cmap(s,encoded=True)[1],\n",
        "                           'vmin':get_cmap(s,encoded=True)[2],\n",
        "                           'vmax':get_cmap(s,encoded=True)[3]}\n",
        "    for i in range(1,13,3):\n",
        "        #xt = x_test[idx,i,:,:]*norm['scale']+norm['shift']\n",
        "        xt = x_test[idx,i,:,:].detach().cpu() ; \n",
        "        #ax[(i-1)//3][0].imshow(xt,**cmap_dict('vil'))\n",
        "        ax[(i-1)//3][0].imshow(xt,cmap=get_cmap('vil')[0])\n",
        "    ax[0][0].set_title('Inputs',fontsize=fs)\n",
        "    \n",
        "    pers = persistence().predict(x_test[idx:idx+1])\n",
        "    #pers = pers*norm['scale']+norm['shift']\n",
        "    x_test = x_test[idx:idx+1]\n",
        "    y_test = y_test[idx:idx+1]#*norm['scale']+norm['shift']\n",
        "    y_preds=[]\n",
        "    for i,m in enumerate(models):\n",
        "        #yp = m.predict(x_test)        ### CHANGE THIS LINE !!!  --> See shapes of X_test, Y_test --> Might be different for different models\n",
        "        yp = m(x_test.to(device)).cpu().detach().numpy() ; \n",
        "        if isinstance(yp,(list,)):\n",
        "            yp=yp[0]\n",
        "        y_preds.append(yp)#*norm['scale']+norm['shift'])\n",
        "        #print(\"TESTING HERE0: \", yp.shape)\n",
        "    \n",
        "    for i in range(0,12,3):\n",
        "        ax[i//3][2].imshow(y_test[0,i,:,:].numpy(),**cmap_dict('vil'))  ## Change this line --> CHANGED \n",
        "    ax[0][2].set_title('Target',fontsize=fs)\n",
        "    \n",
        "    # Plot Persistence\n",
        "    for i in range(0,12,3):\n",
        "        #print(\"TESTING HERE1: \", y_test.shape)\n",
        "        #print(\"TESTING HERE2: \", pers.shape)\n",
        "        plot_hit_miss_fa(ax[i//3][4],y_test[0,i,:,:].numpy(),pers[0,i,:,:],thresh)    ## Change this LINE --> ALSO make threshold a variable value\n",
        "    ax[0][4].set_title('Persistence\\nScores',fontsize=fs)\n",
        "    \n",
        "    for k,m in enumerate(models):\n",
        "        for i in range(0,12,3):\n",
        "            ax[i//3][5+2*k].imshow(y_preds[k][0,i,:,:],**cmap_dict('vil'))\n",
        "            plot_hit_miss_fa(ax[i//3][5+2*k+1],y_test[0,i,:,:].numpy(),y_preds[k][0,i,:,:],thresh)  ## CHANGE THIS LINE, based on shapes of inputs and outputs\n",
        "\n",
        "        ax[0][5+2*k].set_title(labels[k],fontsize=fs)\n",
        "        ax[0][5+2*k+1].set_title(labels[k]+'\\nScores',fontsize=fs)\n",
        "        \n",
        "    for j in range(len(ax)):\n",
        "        for i in range(len(ax[j])):\n",
        "            ax[j][i].xaxis.set_ticks([])\n",
        "            ax[j][i].yaxis.set_ticks([])\n",
        "    for i in range(4):\n",
        "        ax[i][1].set_visible(False)\n",
        "    for i in range(4):\n",
        "        ax[i][3].set_visible(False)\n",
        "    ax[0][0].set_ylabel('-45 Minutes')\n",
        "    ax[1][0].set_ylabel('-30 Minutes')\n",
        "    ax[2][0].set_ylabel('-15 Minutes')\n",
        "    ax[3][0].set_ylabel('  0 Minutes')\n",
        "    ax[0][2].set_ylabel('+15 Minutes')\n",
        "    ax[1][2].set_ylabel('+30 Minutes')\n",
        "    ax[2][2].set_ylabel('+45 Minutes')\n",
        "    ax[3][2].set_ylabel('+60 Minutes')\n",
        "    \n",
        "    legend_elements = [Patch(facecolor=hmf_colors[1], edgecolor='k', label='False Alarm'),\n",
        "                   Patch(facecolor=hmf_colors[2], edgecolor='k', label='Miss'),\n",
        "                   Patch(facecolor=hmf_colors[3], edgecolor='k', label='Hit')]\n",
        "    ax[-1][-1].legend(handles=legend_elements, loc='lower right', bbox_to_anchor= (-5.4, -.35), \n",
        "                           ncol=5, borderaxespad=0, frameon=False, fontsize='16')\n",
        "    plt.subplots_adjust(hspace=0.05, wspace=0.05)"
      ],
      "metadata": {
        "id": "3PG5KXxtjn6w"
      },
      "execution_count": null,
      "outputs": []
    },
    {
      "cell_type": "code",
      "source": [
        "## Set up testing data\n",
        "X_test = test_data[:,:13,:,:] ; \n",
        "Y_test = test_data[:,13:,:,:] ; "
      ],
      "metadata": {
        "id": "vxy36P7PjoAM"
      },
      "execution_count": null,
      "outputs": []
    },
    {
      "cell_type": "code",
      "source": [
        "idx=6 # adjust this to pick a case\n",
        "fig,ax = plt.subplots(4,13,figsize=(24,8), gridspec_kw={'width_ratios': [1,.2,1,.2,1,1,1,1,1,1,1,1,1]})\n",
        "visualize_result([u_net_model],X_test,Y_test,idx,ax,labels=['U-net'], thresh=74)"
      ],
      "metadata": {
        "colab": {
          "base_uri": "https://localhost:8080/",
          "height": 528
        },
        "id": "8DXPXOgEjoCn",
        "outputId": "e4f19e66-042b-41a5-e3c2-a302e0afa88f"
      },
      "execution_count": null,
      "outputs": [
        {
          "output_type": "display_data",
          "data": {
            "text/plain": [
              "<Figure size 1728x576 with 52 Axes>"
            ],
            "image/png": "[encoded data removed]"
          },
          "metadata": {}
        }
      ]
    },
    {
      "cell_type": "code",
      "source": [
        "## Y_test and Y_pred are (#samples, #frames, H,W) shaped --> Neither on GPU, but input as torch tensors\n",
        "def get_eval_metrics(y_pred,y_true,thres):\n",
        "  y_pred = y_pred.numpy()\n",
        "  y_true = y_true.numpy()\n",
        "  total_mask = np.zeros_like(y_true) ; \n",
        "  \n",
        "  results_dict = {}\n",
        "  results_dict['POD'] = [0] ; \n",
        "  results_dict['SUCR'] = [0] ; \n",
        "  results_dict['CSI'] = [0] ; \n",
        "  results_dict['Bias'] = [0] ; \n",
        "\n",
        "  for frame_num in range(y_true.shape[1]):\n",
        "    for idx in range(y_true.shape[0]):\n",
        "\n",
        "      # print(\"Frame number = \", frame_num)\n",
        "      # print(\"IDX = \", idx)\n",
        "\n",
        "      mask = np.zeros_like(y_true[0,0,:,:])\n",
        "      y_pred_ = y_pred[idx,frame_num,:,:]\n",
        "      y_true_ = y_true[idx,frame_num,:,:]\n",
        "      mask[np.logical_and(y_true_>=thres,y_pred_>=thres)]=4\n",
        "      mask[np.logical_and(y_true_>=thres,y_pred_<thres)]=3\n",
        "      mask[np.logical_and(y_true_<thres,y_pred_>=thres)]=2\n",
        "      mask[np.logical_and(y_true_<thres,y_pred_<thres)]=1\n",
        "\n",
        "      total_mask[idx,frame_num,:,:] = mask \n",
        "\n",
        "\n",
        "    hits_ = np.count_nonzero(total_mask[:,frame_num,:,:]==4)\n",
        "    miss_ = np.count_nonzero(total_mask[:,frame_num,:,:]==3)\n",
        "    false_al_ = np.count_nonzero(total_mask[:,frame_num,:,:]==2)\n",
        "    true_neg_ = np.count_nonzero(total_mask[:,frame_num,:,:]==1) \n",
        "    # print(\"HITS\", hits_)\n",
        "    # print(\"MISS\", miss_)\n",
        "    # print(\"FA\", false_al_)\n",
        "    # print(\"TN\", true_neg_)\n",
        "\n",
        "    #print(\"START\", results_dict)\n",
        "    results_dict['POD'].append((hits_/(hits_+miss_)))\n",
        "    results_dict['SUCR'].append((hits_/(hits_+false_al_)))\n",
        "    results_dict['CSI'].append((hits_/(hits_+miss_+false_al_)))\n",
        "    results_dict['Bias'].append((hits_+false_al_/(hits_+miss_)))\n",
        "    #print(\"END\", results_dict)\n",
        "\n",
        "\n",
        "  hits = np.count_nonzero(total_mask==4)\n",
        "  miss = np.count_nonzero(total_mask==3)\n",
        "  false_al = np.count_nonzero(total_mask==2)\n",
        "  true_neg = np.count_nonzero(total_mask==1)\n",
        "\n",
        "  \n",
        "  results_dict['POD_total'] = hits/(hits+miss) ; \n",
        "  results_dict['SUCR_total'] = hits/(hits+false_al) ; \n",
        "  results_dict['CSI_total'] = hits/(hits+miss+false_al) ; \n",
        "  results_dict['Bias_total'] = (hits+false_al)/(hits+miss) ; \n",
        "\n",
        "\n",
        "  return total_mask, results_dict"
      ],
      "metadata": {
        "id": "1R1ityz7OVOl"
      },
      "execution_count": null,
      "outputs": []
    },
    {
      "cell_type": "code",
      "source": [
        "tot_mask = get_eval_metrics(Y_pred, Y_test, 100) ; "
      ],
      "metadata": {
        "id": "gVy4O3urOU7F"
      },
      "execution_count": null,
      "outputs": []
    },
    {
      "cell_type": "code",
      "source": [
        "plt.figure() ; \n",
        "plt.plot(tot_mask[1]['Bias'][1:])"
      ],
      "metadata": {
        "colab": {
          "base_uri": "https://localhost:8080/",
          "height": 283
        },
        "id": "Fy5wOeD9R9cT",
        "outputId": "1743966c-fe2c-43aa-a72b-90ca76e02870"
      },
      "execution_count": null,
      "outputs": [
        {
          "output_type": "execute_result",
          "data": {
            "text/plain": [
              "[<matplotlib.lines.Line2D at 0x7f2d1031da50>]"
            ]
          },
          "metadata": {},
          "execution_count": 275
        },
        {
          "output_type": "display_data",
          "data": {
            "text/plain": [
              "<Figure size 432x288 with 1 Axes>"
            ],
            "image/png": "[encoded data removed]"
          },
          "metadata": {
            "needs_background": "light"
          }
        }
      ]
    },
    {
      "cell_type": "code",
      "source": [
        "tot_mask[1]['Bias_total']"
      ],
      "metadata": {
        "colab": {
          "base_uri": "https://localhost:8080/"
        },
        "id": "QOaNf5UjQnJI",
        "outputId": "01565caf-70b7-4b82-acea-fced8386903c"
      },
      "execution_count": null,
      "outputs": [
        {
          "output_type": "execute_result",
          "data": {
            "text/plain": [
              "0.7388169675620138"
            ]
          },
          "metadata": {},
          "execution_count": 276
        }
      ]
    },
    {
      "cell_type": "code",
      "source": [
        "tot_mask.shape"
      ],
      "metadata": {
        "colab": {
          "base_uri": "https://localhost:8080/"
        },
        "id": "kM8xQCsAOUrV",
        "outputId": "31b478cf-78d2-45ed-d7ba-fb10546d2b18"
      },
      "execution_count": null,
      "outputs": [
        {
          "output_type": "execute_result",
          "data": {
            "text/plain": [
              "(10, 12, 192, 192)"
            ]
          },
          "metadata": {},
          "execution_count": 200
        }
      ]
    },
    {
      "cell_type": "code",
      "source": [
        "a = []"
      ],
      "metadata": {
        "id": "7UBMDTj7OUcA"
      },
      "execution_count": null,
      "outputs": []
    },
    {
      "cell_type": "code",
      "source": [
        "a.append(1)"
      ],
      "metadata": {
        "id": "pCsZUd3tOUHp"
      },
      "execution_count": null,
      "outputs": []
    },
    {
      "cell_type": "code",
      "source": [
        "Y_pred.shape"
      ],
      "metadata": {
        "colab": {
          "base_uri": "https://localhost:8080/"
        },
        "id": "j4noPbncjoFR",
        "outputId": "ad31fa89-9545-4f02-84b3-62f097edaa2f"
      },
      "execution_count": null,
      "outputs": [
        {
          "output_type": "execute_result",
          "data": {
            "text/plain": [
              "torch.Size([10, 12, 192, 192])"
            ]
          },
          "metadata": {},
          "execution_count": 196
        }
      ]
    },
    {
      "cell_type": "code",
      "source": [],
      "metadata": {
        "id": "7MoXVyUl8LBs"
      },
      "execution_count": null,
      "outputs": []
    },
    {
      "cell_type": "code",
      "source": [
        "Y_pred = u_net_model(X_test.to(device)).cpu().detach() ; "
      ],
      "metadata": {
        "id": "zLLCKabqjoID"
      },
      "execution_count": null,
      "outputs": []
    },
    {
      "cell_type": "code",
      "source": [
        "def plot_hit_miss_fa(ax,y_true,y_pred,thres):       ## Takes input as numpy array\n",
        "    mask = np.zeros_like(y_true)\n",
        "    mask[np.logical_and(y_true>=thres,y_pred>=thres)]=4\n",
        "    mask[np.logical_and(y_true>=thres,y_pred<thres)]=3\n",
        "    mask[np.logical_and(y_true<thres,y_pred>=thres)]=2\n",
        "    mask[np.logical_and(y_true<thres,y_pred<thres)]=1\n",
        "    cmap=ListedColormap(hmf_colors)\n",
        "    ax.imshow(mask,cmap=cmap)\n",
        "    # plt.figure()\n",
        "    # plt.imshow(mask, cmap=cmap)"
      ],
      "metadata": {
        "id": "gf1IhieJjoKy"
      },
      "execution_count": null,
      "outputs": []
    },
    {
      "cell_type": "code",
      "source": [
        "plot_hit_miss_fa(0, Y_test[1,0,:,:].numpy(), Y_pred[1,0,:,:].numpy(), 74) ; "
      ],
      "metadata": {
        "colab": {
          "base_uri": "https://localhost:8080/",
          "height": 269
        },
        "id": "zjPZPA4qBUpf",
        "outputId": "255fad72-dc94-46e5-afd4-e86d242c59df"
      },
      "execution_count": null,
      "outputs": [
        {
          "output_type": "display_data",
          "data": {
            "text/plain": [
              "<Figure size 432x288 with 1 Axes>"
            ],
            "image/png": "[encoded data removed]"
          },
          "metadata": {
            "needs_background": "light"
          }
        }
      ]
    },
    {
      "cell_type": "code",
      "source": [
        "Y_test[1,0,:,:]"
      ],
      "metadata": {
        "colab": {
          "base_uri": "https://localhost:8080/"
        },
        "id": "X4zUkTgiBdZS",
        "outputId": "43012a39-7ffb-4db6-8a09-5bc469e94d95"
      },
      "execution_count": null,
      "outputs": [
        {
          "output_type": "execute_result",
          "data": {
            "text/plain": [
              "tensor([[26.9949, 21.0941, 12.7903,  ...,  0.0000,  0.0000,  0.0000],\n",
              "        [35.1698, 22.2622, 10.6441,  ...,  0.0000,  0.0000,  0.0000],\n",
              "        [34.2565, 22.1310, 11.9991,  ...,  0.0000,  0.0000,  0.0000],\n",
              "        ...,\n",
              "        [ 2.1611,  2.1495,  2.2341,  ..., 65.6199, 65.9306, 67.4106],\n",
              "        [ 2.9246,  2.3416,  1.8388,  ..., 69.8402, 69.4939, 68.6069],\n",
              "        [ 2.9978,  2.7888,  2.2135,  ..., 75.9820, 71.2821, 67.8042]])"
            ]
          },
          "metadata": {},
          "execution_count": 108
        }
      ]
    },
    {
      "cell_type": "code",
      "source": [],
      "metadata": {
        "id": "3g9iwl1fBPWY"
      },
      "execution_count": null,
      "outputs": []
    },
    {
      "cell_type": "code",
      "source": [
        "Y_pred.shape"
      ],
      "metadata": {
        "colab": {
          "base_uri": "https://localhost:8080/"
        },
        "id": "Cy1gadP7Aoiq",
        "outputId": "aea6a3aa-b8b3-4b3e-cde5-f5f07c97c060"
      },
      "execution_count": null,
      "outputs": [
        {
          "output_type": "execute_result",
          "data": {
            "text/plain": [
              "torch.Size([10, 12, 192, 192])"
            ]
          },
          "metadata": {},
          "execution_count": 103
        }
      ]
    },
    {
      "cell_type": "code",
      "source": [
        "X_test.shape"
      ],
      "metadata": {
        "colab": {
          "base_uri": "https://localhost:8080/"
        },
        "id": "Z8ec-ZIDBCxW",
        "outputId": "23a08954-e85e-466f-babd-1eb7e8f8582f"
      },
      "execution_count": null,
      "outputs": [
        {
          "output_type": "execute_result",
          "data": {
            "text/plain": [
              "torch.Size([10, 13, 192, 192])"
            ]
          },
          "metadata": {},
          "execution_count": 101
        }
      ]
    },
    {
      "cell_type": "code",
      "source": [
        "#X_test.numpy()"
      ],
      "metadata": {
        "id": "kSiDpBucBGUz"
      },
      "execution_count": null,
      "outputs": []
    },
    {
      "cell_type": "code",
      "source": [
        "norm = {'scale':47.54,'shift':33.44}"
      ],
      "metadata": {
        "id": "UZv4iBP6MTP4"
      },
      "execution_count": null,
      "outputs": []
    },
    {
      "cell_type": "code",
      "source": [
        "idx = 6"
      ],
      "metadata": {
        "id": "poKBtazGDpN0"
      },
      "execution_count": null,
      "outputs": []
    },
    {
      "cell_type": "code",
      "source": [
        "fig,ax = plt.subplots(4,7,figsize=(24,8), gridspec_kw={'width_ratios': [1,.2,1,.2,1,1,1]})\n",
        "\n",
        "fs=10\n",
        "cmap_dict = lambda s: {'cmap':get_cmap(s,encoded=True)[0],\n",
        "                        'norm':get_cmap(s,encoded=True)[1],\n",
        "                        'vmin':get_cmap(s,encoded=True)[2],\n",
        "                        'vmax':get_cmap(s,encoded=True)[3]}\n",
        "for i in range(1,13,3):\n",
        "    #xt = X_test[idx,i,:,:]*norm['scale']+norm['shift']\n",
        "    xt = X_test[idx,i,:,:].detach().cpu()\n",
        "    #ax[(i-1)//3][0].imshow(xt,**cmap_dict('vil'))\n",
        "    ax[(i-1)//3][0].imshow(xt,cmap=get_cmap('vil')[0])\n",
        "ax[0][0].set_title('Inputs',fontsize=fs)\n",
        "\n",
        "pers = persistence().predict(X_test[idx:idx+1].numpy())     ## THIS LINE CHANGED\n",
        "#pers = pers*norm['scale']+norm['shift']\n",
        "x_test = X_test[idx:idx+1]\n",
        "y_test = Y_test[idx:idx+1]#*norm['scale']+norm['shift']\n",
        "y_preds=[]\n",
        "\n",
        "models = [u_net_model] ; \n",
        "\n",
        "for i,m in enumerate(models):\n",
        "        #yp = m.predict(x_test)        ### CHANGE THIS LINE !!!  --> See shapes of X_test, Y_test --> Might be different for different models\n",
        "        yp = m(x_test.to(device)).cpu().detach().numpy() ; \n",
        "        if isinstance(yp,(list,)):\n",
        "            yp=yp[0]\n",
        "        y_preds.append(yp)#*norm['scale']+norm['shift'])\n",
        "        print(\"TESTING HERE0: \", yp.shape)\n",
        "\n",
        "for i in range(0,12,3):\n",
        "  ax[i//3][2].imshow(y_test[0,i,:,:].numpy(),**cmap_dict('vil'))  ## Change this line --> CHANGED \n",
        "ax[0][2].set_title('Target',fontsize=fs)\n",
        "\n",
        "# Plot Persistence\n",
        "for i in range(0,12,3):\n",
        "    print(\"TESTING HERE1: \", y_test.shape)\n",
        "    print(\"TESTING HERE2: \", pers.shape)\n",
        "    plot_hit_miss_fa(ax[i//3][4],y_test[0,i,:,:].numpy(),pers[0,i,:,:],thres=74)    ## Change this LINE --> ALSO make threshold a variable value\n",
        "ax[0][4].set_title('Persistence\\nScores',fontsize=fs)\n",
        "\n",
        "labels = ['U-Net Model']\n",
        "\n",
        "for k,m in enumerate(models):\n",
        "    for i in range(0,12,3):\n",
        "        ax[i//3][5+2*k].imshow(y_preds[k][0,i,:,:],**cmap_dict('vil'))\n",
        "        plot_hit_miss_fa(ax[i//3][5+2*k+1],y_test[0,i,:,:].numpy(),y_preds[k][0,i,:,:],thres=74)  ## CHANGE THIS LINE, based on shapes of inputs and outputs\n",
        "\n",
        "    ax[0][5+2*k].set_title(labels[k],fontsize=fs)\n",
        "    ax[0][5+2*k+1].set_title(labels[k]+'\\nScores',fontsize=fs)\n",
        "\n",
        "\n",
        "for j in range(len(ax)):\n",
        "    for i in range(len(ax[j])):\n",
        "        ax[j][i].xaxis.set_ticks([])\n",
        "        ax[j][i].yaxis.set_ticks([])\n",
        "for i in range(4):\n",
        "    ax[i][1].set_visible(False)\n",
        "for i in range(4):\n",
        "    ax[i][3].set_visible(False)\n",
        "ax[0][0].set_ylabel('-45 Minutes')\n",
        "ax[1][0].set_ylabel('-30 Minutes')\n",
        "ax[2][0].set_ylabel('-15 Minutes')\n",
        "ax[3][0].set_ylabel('  0 Minutes')\n",
        "ax[0][2].set_ylabel('+15 Minutes')\n",
        "ax[1][2].set_ylabel('+30 Minutes')\n",
        "ax[2][2].set_ylabel('+45 Minutes')\n",
        "ax[3][2].set_ylabel('+60 Minutes')\n",
        "\n",
        "legend_elements = [Patch(facecolor=hmf_colors[1], edgecolor='k', label='False Alarm'),\n",
        "                Patch(facecolor=hmf_colors[2], edgecolor='k', label='Miss'),\n",
        "                Patch(facecolor=hmf_colors[3], edgecolor='k', label='Hit')]\n",
        "ax[-1][-1].legend(handles=legend_elements, loc='lower right', bbox_to_anchor= (-5.4, -.35), \n",
        "                        ncol=5, borderaxespad=0, frameon=False, fontsize='16')\n",
        "plt.subplots_adjust(hspace=0.05, wspace=0.05)"
      ],
      "metadata": {
        "colab": {
          "base_uri": "https://localhost:8080/",
          "height": 688
        },
        "id": "ygtImC4GDpD2",
        "outputId": "57bf27fa-92aa-4b71-9e4b-213a686d2494"
      },
      "execution_count": null,
      "outputs": [
        {
          "output_type": "stream",
          "name": "stdout",
          "text": [
            "TESTING HERE0:  (1, 12, 192, 192)\n",
            "TESTING HERE1:  torch.Size([1, 12, 192, 192])\n",
            "TESTING HERE2:  (1, 12, 192, 192)\n",
            "TESTING HERE1:  torch.Size([1, 12, 192, 192])\n",
            "TESTING HERE2:  (1, 12, 192, 192)\n",
            "TESTING HERE1:  torch.Size([1, 12, 192, 192])\n",
            "TESTING HERE2:  (1, 12, 192, 192)\n",
            "TESTING HERE1:  torch.Size([1, 12, 192, 192])\n",
            "TESTING HERE2:  (1, 12, 192, 192)\n"
          ]
        },
        {
          "output_type": "display_data",
          "data": {
            "text/plain": [
              "<Figure size 1728x576 with 28 Axes>"
            ],
            "image/png": "[encoded data removed]"
          },
          "metadata": {}
        }
      ]
    },
    {
      "cell_type": "code",
      "source": [
        "## Set up testing data\n",
        "X_test = test_data[:,:13,:,:] ; \n",
        "Y_test = test_data[:,13:,:,:] ; "
      ],
      "metadata": {
        "id": "Q88_R4l4Lp7z"
      },
      "execution_count": null,
      "outputs": []
    },
    {
      "cell_type": "code",
      "source": [
        "img_index=6\n",
        "cmap,norm,vmin,vmax=get_cmap('vil')\n",
        "fig,axs=plt.subplots(1,10,figsize=(20,8))\n",
        "for i in range(10):\n",
        "    axs[i].imshow(X_test[img_index,i,:,:],origin='lower',cmap=cmap,norm=norm,vmin=vmin,vmax=vmax) \n",
        "    axs[i].set_axis_off()"
      ],
      "metadata": {
        "colab": {
          "base_uri": "https://localhost:8080/",
          "height": 125
        },
        "id": "JwNIis4BDo5i",
        "outputId": "6bc7c5b5-16f3-4e9e-8ee9-53ed15ef7382"
      },
      "execution_count": null,
      "outputs": [
        {
          "output_type": "display_data",
          "data": {
            "text/plain": [
              "<Figure size 1440x576 with 10 Axes>"
            ],
            "image/png": "[encoded data removed]"
          },
          "metadata": {
            "needs_background": "light"
          }
        }
      ]
    },
    {
      "cell_type": "code",
      "source": [],
      "metadata": {
        "id": "0_B20AQbDoum"
      },
      "execution_count": null,
      "outputs": []
    },
    {
      "cell_type": "code",
      "source": [],
      "metadata": {
        "colab": {
          "base_uri": "https://localhost:8080/"
        },
        "id": "sfNFart1BmdA",
        "outputId": "6d333de2-9293-4e23-b74c-854e975d63d8"
      },
      "execution_count": null,
      "outputs": [
        {
          "output_type": "execute_result",
          "data": {
            "text/plain": [
              "Text(0.5, 1.0, 'Target')"
            ]
          },
          "metadata": {},
          "execution_count": 123
        }
      ]
    },
    {
      "cell_type": "code",
      "source": [],
      "metadata": {
        "colab": {
          "base_uri": "https://localhost:8080/"
        },
        "id": "NDa_pITdEDWJ",
        "outputId": "d55aa5d5-d6ca-4a68-fd69-fef7ad2e68cc"
      },
      "execution_count": null,
      "outputs": [
        {
          "output_type": "stream",
          "name": "stdout",
          "text": [
            "TESTING HERE1:  torch.Size([1, 12, 192, 192])\n",
            "TESTING HERE2:  (1, 12, 192, 192)\n",
            "TESTING HERE1:  torch.Size([1, 12, 192, 192])\n",
            "TESTING HERE2:  (1, 12, 192, 192)\n",
            "TESTING HERE1:  torch.Size([1, 12, 192, 192])\n",
            "TESTING HERE2:  (1, 12, 192, 192)\n",
            "TESTING HERE1:  torch.Size([1, 12, 192, 192])\n",
            "TESTING HERE2:  (1, 12, 192, 192)\n"
          ]
        },
        {
          "output_type": "execute_result",
          "data": {
            "text/plain": [
              "Text(0.5, 1.0, 'Persistence\\nScores')"
            ]
          },
          "metadata": {},
          "execution_count": 130
        }
      ]
    },
    {
      "cell_type": "code",
      "source": [],
      "metadata": {
        "id": "cy4EOzztFMJp"
      },
      "execution_count": null,
      "outputs": []
    },
    {
      "cell_type": "code",
      "source": [],
      "metadata": {
        "id": "jis0F_7dEn6K"
      },
      "execution_count": null,
      "outputs": []
    },
    {
      "cell_type": "code",
      "source": [],
      "metadata": {
        "colab": {
          "base_uri": "https://localhost:8080/",
          "height": 35
        },
        "id": "wRXJKjNoEopL",
        "outputId": "7b51f3a9-cb8d-4d23-b5d1-2a1ea4d64aec"
      },
      "execution_count": null,
      "outputs": [
        {
          "output_type": "display_data",
          "data": {
            "text/plain": [
              "<Figure size 432x288 with 0 Axes>"
            ]
          },
          "metadata": {}
        }
      ]
    },
    {
      "cell_type": "code",
      "source": [
        "plt.show()"
      ],
      "metadata": {
        "id": "U22pRm8eFiCM"
      },
      "execution_count": null,
      "outputs": []
    },
    {
      "cell_type": "code",
      "source": [],
      "metadata": {
        "id": "qgeCPs23Flhe"
      },
      "execution_count": null,
      "outputs": []
    }
  ]
}